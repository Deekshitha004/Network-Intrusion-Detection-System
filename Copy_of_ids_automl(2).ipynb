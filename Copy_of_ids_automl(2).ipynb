{
  "cells": [
    {
      "cell_type": "code",
      "execution_count": 55,
      "metadata": {
        "colab": {
          "base_uri": "https://localhost:8080/"
        },
        "id": "7VcDwx1EkSJg",
        "outputId": "9e7e29c1-5a52-44aa-fe8b-5965c709d71f"
      },
      "outputs": [
        {
          "name": "stdout",
          "output_type": "stream",
          "text": [
            "Found existing installation: pandas 2.2.2\n",
            "Uninstalling pandas-2.2.2:\n",
            "  Successfully uninstalled pandas-2.2.2\n"
          ]
        }
      ],
      "source": [
        "!pip uninstall pandas -y"
      ]
    },
    {
      "cell_type": "code",
      "execution_count": 56,
      "metadata": {
        "colab": {
          "base_uri": "https://localhost:8080/",
          "height": 325
        },
        "id": "68xSfeQLkSz-",
        "outputId": "2669bd05-32f4-4666-deee-0137e24d97bf"
      },
      "outputs": [
        {
          "name": "stdout",
          "output_type": "stream",
          "text": [
            "Collecting pandas==2.0.3\n",
            "  Using cached pandas-2.0.3-cp310-cp310-manylinux_2_17_x86_64.manylinux2014_x86_64.whl (12.3 MB)\n",
            "Requirement already satisfied: python-dateutil>=2.8.2 in /usr/local/lib/python3.10/dist-packages (from pandas==2.0.3) (2.8.2)\n",
            "Requirement already satisfied: pytz>=2020.1 in /usr/local/lib/python3.10/dist-packages (from pandas==2.0.3) (2023.4)\n",
            "Requirement already satisfied: tzdata>=2022.1 in /usr/local/lib/python3.10/dist-packages (from pandas==2.0.3) (2024.1)\n",
            "Requirement already satisfied: numpy>=1.21.0 in /usr/local/lib/python3.10/dist-packages (from pandas==2.0.3) (1.25.2)\n",
            "Requirement already satisfied: six>=1.5 in /usr/local/lib/python3.10/dist-packages (from python-dateutil>=2.8.2->pandas==2.0.3) (1.16.0)\n",
            "Installing collected packages: pandas\n",
            "\u001b[31mERROR: pip's dependency resolver does not currently take into account all the packages that are installed. This behaviour is the source of the following dependency conflicts.\n",
            "river 0.21.1 requires pandas<3.0,>=2.1, but you have pandas 2.0.3 which is incompatible.\u001b[0m\u001b[31m\n",
            "\u001b[0mSuccessfully installed pandas-2.0.3\n"
          ]
        },
        {
          "data": {
            "application/vnd.colab-display-data+json": {
              "id": "554b8a66d8134aa589a32a9ede27fdb9",
              "pip_warning": {
                "packages": [
                  "pandas"
                ]
              }
            }
          },
          "metadata": {},
          "output_type": "display_data"
        }
      ],
      "source": [
        "!pip install pandas==2.0.3"
      ]
    },
    {
      "cell_type": "code",
      "execution_count": 57,
      "metadata": {
        "id": "KZZBGs7ZpOun"
      },
      "outputs": [],
      "source": [
        "import pandas as pd\n"
      ]
    },
    {
      "cell_type": "code",
      "execution_count": 58,
      "metadata": {
        "id": "9Rm4xOZUg4DA"
      },
      "outputs": [],
      "source": [
        "import numpy as np\n",
        "import matplotlib.pyplot as plt\n",
        "import seaborn as sns\n",
        "from sklearn.model_selection import train_test_split\n",
        "from sklearn.metrics import classification_report,confusion_matrix,accuracy_score, precision_score, recall_score, f1_score\n",
        "import lightgbm as lgb\n",
        "from sklearn.preprocessing import LabelEncoder\n",
        "from sklearn.metrics import classification_report,confusion_matrix,accuracy_score\n",
        "from sklearn.pipeline import Pipeline\n",
        "from sklearn.model_selection import GridSearchCV\n",
        "from scipy.stats import shapiro\n",
        "from imblearn.over_sampling import SMOTE\n",
        "import time"
      ]
    },
    {
      "cell_type": "code",
      "execution_count": 59,
      "metadata": {
        "id": "1jO8QbUGg4DB"
      },
      "outputs": [],
      "source": [
        "import warnings\n",
        "warnings.filterwarnings('ignore')"
      ]
    },
    {
      "cell_type": "code",
      "execution_count": 60,
      "metadata": {
        "id": "a6HYNIIHg4DC"
      },
      "outputs": [],
      "source": [
        "df=pd.read_csv(\"/content/Friday-WorkingHours-Afternoon-PortScan.pcap_ISCX.csv\")"
      ]
    },
    {
      "cell_type": "code",
      "execution_count": 61,
      "metadata": {
        "colab": {
          "base_uri": "https://localhost:8080/"
        },
        "id": "Zzu7X-jgmKP-",
        "outputId": "56716305-890f-4b24-c5e8-4f1ae9cd4252"
      },
      "outputs": [
        {
          "data": {
            "text/plain": [
              "Index([' Destination Port', ' Flow Duration', ' Total Fwd Packets',\n",
              "       ' Total Backward Packets', 'Total Length of Fwd Packets',\n",
              "       ' Total Length of Bwd Packets', ' Fwd Packet Length Max',\n",
              "       ' Fwd Packet Length Min', ' Fwd Packet Length Mean',\n",
              "       ' Fwd Packet Length Std', 'Bwd Packet Length Max',\n",
              "       ' Bwd Packet Length Min', ' Bwd Packet Length Mean',\n",
              "       ' Bwd Packet Length Std', 'Flow Bytes/s', ' Flow Packets/s',\n",
              "       ' Flow IAT Mean', ' Flow IAT Std', ' Flow IAT Max', ' Flow IAT Min',\n",
              "       'Fwd IAT Total', ' Fwd IAT Mean', ' Fwd IAT Std', ' Fwd IAT Max',\n",
              "       ' Fwd IAT Min', 'Bwd IAT Total', ' Bwd IAT Mean', ' Bwd IAT Std',\n",
              "       ' Bwd IAT Max', ' Bwd IAT Min', 'Fwd PSH Flags', ' Bwd PSH Flags',\n",
              "       ' Fwd URG Flags', ' Bwd URG Flags', ' Fwd Header Length',\n",
              "       ' Bwd Header Length', 'Fwd Packets/s', ' Bwd Packets/s',\n",
              "       ' Min Packet Length', ' Max Packet Length', ' Packet Length Mean',\n",
              "       ' Packet Length Std', ' Packet Length Variance', 'FIN Flag Count',\n",
              "       ' SYN Flag Count', ' RST Flag Count', ' PSH Flag Count',\n",
              "       ' ACK Flag Count', ' URG Flag Count', ' CWE Flag Count',\n",
              "       ' ECE Flag Count', ' Down/Up Ratio', ' Average Packet Size',\n",
              "       ' Avg Fwd Segment Size', ' Avg Bwd Segment Size',\n",
              "       ' Fwd Header Length.1', 'Fwd Avg Bytes/Bulk', ' Fwd Avg Packets/Bulk',\n",
              "       ' Fwd Avg Bulk Rate', ' Bwd Avg Bytes/Bulk', ' Bwd Avg Packets/Bulk',\n",
              "       'Bwd Avg Bulk Rate', 'Subflow Fwd Packets', ' Subflow Fwd Bytes',\n",
              "       ' Subflow Bwd Packets', ' Subflow Bwd Bytes', 'Init_Win_bytes_forward',\n",
              "       ' Init_Win_bytes_backward', ' act_data_pkt_fwd',\n",
              "       ' min_seg_size_forward', 'Active Mean', ' Active Std', ' Active Max',\n",
              "       ' Active Min', 'Idle Mean', ' Idle Std', ' Idle Max', ' Idle Min',\n",
              "       ' Label'],\n",
              "      dtype='object')"
            ]
          },
          "execution_count": 61,
          "metadata": {},
          "output_type": "execute_result"
        }
      ],
      "source": [
        "df.columns\n"
      ]
    },
    {
      "cell_type": "code",
      "execution_count": 62,
      "metadata": {
        "id": "lLdmV4t-npUH"
      },
      "outputs": [],
      "source": [
        "df['Label'] = df[' Label']"
      ]
    },
    {
      "cell_type": "code",
      "execution_count": 63,
      "metadata": {
        "colab": {
          "base_uri": "https://localhost:8080/"
        },
        "id": "34bLWYLcmNbh",
        "outputId": "5cbfff0c-d987-4360-c2db-c2e31d18f3fb"
      },
      "outputs": [
        {
          "data": {
            "text/plain": [
              "Index([' Destination Port', ' Flow Duration', ' Total Fwd Packets',\n",
              "       ' Total Backward Packets', 'Total Length of Fwd Packets',\n",
              "       ' Total Length of Bwd Packets', ' Fwd Packet Length Max',\n",
              "       ' Fwd Packet Length Min', ' Fwd Packet Length Mean',\n",
              "       ' Fwd Packet Length Std', 'Bwd Packet Length Max',\n",
              "       ' Bwd Packet Length Min', ' Bwd Packet Length Mean',\n",
              "       ' Bwd Packet Length Std', 'Flow Bytes/s', ' Flow Packets/s',\n",
              "       ' Flow IAT Mean', ' Flow IAT Std', ' Flow IAT Max', ' Flow IAT Min',\n",
              "       'Fwd IAT Total', ' Fwd IAT Mean', ' Fwd IAT Std', ' Fwd IAT Max',\n",
              "       ' Fwd IAT Min', 'Bwd IAT Total', ' Bwd IAT Mean', ' Bwd IAT Std',\n",
              "       ' Bwd IAT Max', ' Bwd IAT Min', 'Fwd PSH Flags', ' Bwd PSH Flags',\n",
              "       ' Fwd URG Flags', ' Bwd URG Flags', ' Fwd Header Length',\n",
              "       ' Bwd Header Length', 'Fwd Packets/s', ' Bwd Packets/s',\n",
              "       ' Min Packet Length', ' Max Packet Length', ' Packet Length Mean',\n",
              "       ' Packet Length Std', ' Packet Length Variance', 'FIN Flag Count',\n",
              "       ' SYN Flag Count', ' RST Flag Count', ' PSH Flag Count',\n",
              "       ' ACK Flag Count', ' URG Flag Count', ' CWE Flag Count',\n",
              "       ' ECE Flag Count', ' Down/Up Ratio', ' Average Packet Size',\n",
              "       ' Avg Fwd Segment Size', ' Avg Bwd Segment Size',\n",
              "       ' Fwd Header Length.1', 'Fwd Avg Bytes/Bulk', ' Fwd Avg Packets/Bulk',\n",
              "       ' Fwd Avg Bulk Rate', ' Bwd Avg Bytes/Bulk', ' Bwd Avg Packets/Bulk',\n",
              "       'Bwd Avg Bulk Rate', 'Subflow Fwd Packets', ' Subflow Fwd Bytes',\n",
              "       ' Subflow Bwd Packets', ' Subflow Bwd Bytes', 'Init_Win_bytes_forward',\n",
              "       ' Init_Win_bytes_backward', ' act_data_pkt_fwd',\n",
              "       ' min_seg_size_forward', 'Active Mean', ' Active Std', ' Active Max',\n",
              "       ' Active Min', 'Idle Mean', ' Idle Std', ' Idle Max', ' Idle Min',\n",
              "       ' Label', 'Label'],\n",
              "      dtype='object')"
            ]
          },
          "execution_count": 63,
          "metadata": {},
          "output_type": "execute_result"
        }
      ],
      "source": [
        "df.columns"
      ]
    },
    {
      "cell_type": "code",
      "execution_count": 64,
      "metadata": {
        "id": "8knJ0iahg4DF"
      },
      "outputs": [],
      "source": [
        "# Define the automated data encoding function\n",
        "def Auto_Encoding(df):\n",
        "    cat_features=[x for x in df.columns if df[x].dtype==\"object\"] ## Find string/text features\n",
        "    le=LabelEncoder()\n",
        "    for col in cat_features:\n",
        "        if col in df.columns:\n",
        "            i = df.columns.get_loc(col)\n",
        "            # Transform to numerical features\n",
        "            df.iloc[:,i] = df.apply(lambda i:le.fit_transform(i.astype(str)), axis=0, result_type='expand')\n",
        "    return df"
      ]
    },
    {
      "cell_type": "code",
      "execution_count": 65,
      "metadata": {
        "id": "Zzfq0F7fg4DF"
      },
      "outputs": [],
      "source": [
        "df=Auto_Encoding(df)"
      ]
    },
    {
      "cell_type": "markdown",
      "metadata": {
        "id": "yzoTFoSeg4DG"
      },
      "source": [
        "## Automated Imputation\n",
        "Detect and impute missing values to improve data quality"
      ]
    },
    {
      "cell_type": "code",
      "execution_count": 66,
      "metadata": {
        "id": "oX0ch6f8g4DG"
      },
      "outputs": [],
      "source": [
        "# Define the automated data imputation function\n",
        "def Auto_Imputation(df):\n",
        "    if df.isnull().values.any() or np.isinf(df).values.any(): # if there is any empty or infinite values\n",
        "        df.replace([np.inf, -np.inf], np.nan, inplace=True)\n",
        "        df.fillna(0, inplace = True)  # Replace empty values with zeros; there are other imputation methods discussed in the paper\n",
        "    return df"
      ]
    },
    {
      "cell_type": "code",
      "execution_count": 67,
      "metadata": {
        "id": "nv3zb14Cg4DH"
      },
      "outputs": [],
      "source": [
        "df=Auto_Imputation(df)"
      ]
    },
    {
      "cell_type": "markdown",
      "metadata": {
        "id": "z1JC2TI_g4DI"
      },
      "source": [
        "## Automated normalization\n",
        "Normalize the range of features to a similar scale to improve data quality"
      ]
    },
    {
      "cell_type": "code",
      "execution_count": 68,
      "metadata": {
        "id": "z1g76Jlmg4DI",
        "scrolled": true
      },
      "outputs": [],
      "source": [
        "def Auto_Normalization(df):\n",
        "    stat, p = shapiro(df)\n",
        "    print('Statistics=%.3f, p=%.3f' % (stat, p))\n",
        "    # interpret\n",
        "    alpha = 0.05\n",
        "    numeric_features = df.drop(['Label'],axis = 1).dtypes[df.dtypes != 'object'].index\n",
        "\n",
        "    # check if the data distribution follows a Gaussian/normal distribution\n",
        "    # If so, select the Z-score normalization method; otherwise, select the min-max normalization\n",
        "    # Details are in the paper\n",
        "    if p > alpha:\n",
        "        print('Sample looks Gaussian (fail to reject H0)')\n",
        "        df[numeric_features] = df[numeric_features].apply(\n",
        "            lambda x: (x - x.mean()) / (x.std()))\n",
        "        print('Z-score normalization is automatically chosen and used')\n",
        "    else:\n",
        "        print('Sample does not look Gaussian (reject H0)')\n",
        "        df[numeric_features] = df[numeric_features].apply(\n",
        "            lambda x: (x - x.min()) / (x.max()-x.min()))\n",
        "        print('Min-max normalization is automatically chosen and used')\n",
        "    return df"
      ]
    },
    {
      "cell_type": "code",
      "execution_count": 69,
      "metadata": {
        "colab": {
          "base_uri": "https://localhost:8080/"
        },
        "id": "ZtSxNq-lg4DJ",
        "outputId": "d7b343d2-d233-404b-bdf1-318dd746feec"
      },
      "outputs": [
        {
          "name": "stdout",
          "output_type": "stream",
          "text": [
            "Statistics=0.041, p=0.000\n",
            "Sample does not look Gaussian (reject H0)\n",
            "Min-max normalization is automatically chosen and used\n"
          ]
        }
      ],
      "source": [
        "df=Auto_Normalization(df)"
      ]
    },
    {
      "cell_type": "code",
      "execution_count": 70,
      "metadata": {
        "id": "a_FBPigAg4DK"
      },
      "outputs": [],
      "source": [
        "# Remove irrelevant features and select important features\n",
        "def Feature_Importance_IG(data):\n",
        "    features = data.drop(['Label'],axis=1).values  # \"Label\" should be changed to the target class variable name if different\n",
        "    labels = data['Label'].values\n",
        "\n",
        "    # Extract feature names\n",
        "    feature_names = list(data.drop(['Label'],axis=1).columns)\n",
        "\n",
        "    # Empty array for feature importances\n",
        "    feature_importance_values = np.zeros(len(feature_names))\n",
        "    model = lgb.LGBMRegressor(verbose = -1)\n",
        "    model.fit(features, labels)\n",
        "    feature_importances = pd.DataFrame({'feature': feature_names, 'importance': model.feature_importances_})\n",
        "\n",
        "    # Sort features according to importance\n",
        "    feature_importances = feature_importances.sort_values('importance', ascending = False).reset_index(drop = True)\n",
        "\n",
        "    # Normalize the feature importances to add up to one\n",
        "    feature_importances['normalized_importance'] = feature_importances['importance'] / feature_importances['importance'].sum()\n",
        "    feature_importances['cumulative_importance'] = np.cumsum(feature_importances['normalized_importance'])\n",
        "\n",
        "    cumulative_importance=0.90 # Only keep the important features with cumulative importance scores>=90%. It can be changed.\n",
        "\n",
        "    # Make sure most important features are on top\n",
        "    feature_importances = feature_importances.sort_values('cumulative_importance')\n",
        "\n",
        "    # Identify the features not needed to reach the cumulative_importance\n",
        "    record_low_importance = feature_importances[feature_importances['cumulative_importance'] > cumulative_importance]\n",
        "\n",
        "    to_drop = list(record_low_importance['feature'])\n",
        "#     print(feature_importances.drop(['importance'],axis=1))\n",
        "    return to_drop"
      ]
    },
    {
      "cell_type": "code",
      "execution_count": 71,
      "metadata": {
        "id": "yaeL0wbQg4DK"
      },
      "outputs": [],
      "source": [
        "def Feature_Redundancy_Pearson(data):\n",
        "    correlation_threshold = 0.90\n",
        "    features = data.drop(['Label'], axis=1)\n",
        "    corr_matrix = features.corr()\n",
        "    upper = corr_matrix.where(np.triu(np.ones(corr_matrix.shape), k=1).astype(bool))\n",
        "    to_drop = [column for column in upper.columns if any(upper[column].abs() > correlation_threshold)]\n",
        "\n",
        "    return to_drop"
      ]
    },
    {
      "cell_type": "code",
      "execution_count": 72,
      "metadata": {
        "id": "Dj7KYqreg4DL"
      },
      "outputs": [],
      "source": [
        "def Auto_Feature_Engineering(df):\n",
        "    drop1 = Feature_Importance_IG(df)\n",
        "    dfh1 = df.drop(columns=drop1)\n",
        "\n",
        "    drop2 = Feature_Redundancy_Pearson(dfh1)\n",
        "    dfh2 = dfh1.drop(columns=drop2)\n",
        "\n",
        "    return dfh2"
      ]
    },
    {
      "cell_type": "code",
      "execution_count": 73,
      "metadata": {
        "colab": {
          "base_uri": "https://localhost:8080/",
          "height": 423
        },
        "id": "aBT690zDg4DL",
        "outputId": "b2531eaf-23c8-418c-d2bb-2b074171e050",
        "scrolled": true
      },
      "outputs": [
        {
          "data": {
            "application/vnd.google.colaboratory.intrinsic+json": {
              "type": "dataframe",
              "variable_name": "dfh2"
            },
            "text/html": [
              "\n",
              "  <div id=\"df-c5467ff3-172f-47a9-b433-4156c10075cc\" class=\"colab-df-container\">\n",
              "    <div>\n",
              "<style scoped>\n",
              "    .dataframe tbody tr th:only-of-type {\n",
              "        vertical-align: middle;\n",
              "    }\n",
              "\n",
              "    .dataframe tbody tr th {\n",
              "        vertical-align: top;\n",
              "    }\n",
              "\n",
              "    .dataframe thead th {\n",
              "        text-align: right;\n",
              "    }\n",
              "</style>\n",
              "<table border=\"1\" class=\"dataframe\">\n",
              "  <thead>\n",
              "    <tr style=\"text-align: right;\">\n",
              "      <th></th>\n",
              "      <th>Destination Port</th>\n",
              "      <th>Label</th>\n",
              "      <th>Label</th>\n",
              "    </tr>\n",
              "  </thead>\n",
              "  <tbody>\n",
              "    <tr>\n",
              "      <th>0</th>\n",
              "      <td>0.000336</td>\n",
              "      <td>0.027805</td>\n",
              "      <td>403</td>\n",
              "    </tr>\n",
              "    <tr>\n",
              "      <th>1</th>\n",
              "      <td>0.000336</td>\n",
              "      <td>0.027805</td>\n",
              "      <td>403</td>\n",
              "    </tr>\n",
              "    <tr>\n",
              "      <th>2</th>\n",
              "      <td>0.000336</td>\n",
              "      <td>0.027805</td>\n",
              "      <td>403</td>\n",
              "    </tr>\n",
              "    <tr>\n",
              "      <th>3</th>\n",
              "      <td>0.000336</td>\n",
              "      <td>0.027805</td>\n",
              "      <td>403</td>\n",
              "    </tr>\n",
              "    <tr>\n",
              "      <th>4</th>\n",
              "      <td>0.541314</td>\n",
              "      <td>0.087484</td>\n",
              "      <td>1268</td>\n",
              "    </tr>\n",
              "    <tr>\n",
              "      <th>...</th>\n",
              "      <td>...</td>\n",
              "      <td>...</td>\n",
              "      <td>...</td>\n",
              "    </tr>\n",
              "    <tr>\n",
              "      <th>286462</th>\n",
              "      <td>0.006775</td>\n",
              "      <td>0.242928</td>\n",
              "      <td>3521</td>\n",
              "    </tr>\n",
              "    <tr>\n",
              "      <th>286463</th>\n",
              "      <td>0.006775</td>\n",
              "      <td>0.242928</td>\n",
              "      <td>3521</td>\n",
              "    </tr>\n",
              "    <tr>\n",
              "      <th>286464</th>\n",
              "      <td>0.006775</td>\n",
              "      <td>0.242928</td>\n",
              "      <td>3521</td>\n",
              "    </tr>\n",
              "    <tr>\n",
              "      <th>286465</th>\n",
              "      <td>0.006775</td>\n",
              "      <td>0.242928</td>\n",
              "      <td>3521</td>\n",
              "    </tr>\n",
              "    <tr>\n",
              "      <th>286466</th>\n",
              "      <td>0.006775</td>\n",
              "      <td>0.242928</td>\n",
              "      <td>3521</td>\n",
              "    </tr>\n",
              "  </tbody>\n",
              "</table>\n",
              "<p>286467 rows × 3 columns</p>\n",
              "</div>\n",
              "    <div class=\"colab-df-buttons\">\n",
              "\n",
              "  <div class=\"colab-df-container\">\n",
              "    <button class=\"colab-df-convert\" onclick=\"convertToInteractive('df-c5467ff3-172f-47a9-b433-4156c10075cc')\"\n",
              "            title=\"Convert this dataframe to an interactive table.\"\n",
              "            style=\"display:none;\">\n",
              "\n",
              "  <svg xmlns=\"http://www.w3.org/2000/svg\" height=\"24px\" viewBox=\"0 -960 960 960\">\n",
              "    <path d=\"M120-120v-720h720v720H120Zm60-500h600v-160H180v160Zm220 220h160v-160H400v160Zm0 220h160v-160H400v160ZM180-400h160v-160H180v160Zm440 0h160v-160H620v160ZM180-180h160v-160H180v160Zm440 0h160v-160H620v160Z\"/>\n",
              "  </svg>\n",
              "    </button>\n",
              "\n",
              "  <style>\n",
              "    .colab-df-container {\n",
              "      display:flex;\n",
              "      gap: 12px;\n",
              "    }\n",
              "\n",
              "    .colab-df-convert {\n",
              "      background-color: #E8F0FE;\n",
              "      border: none;\n",
              "      border-radius: 50%;\n",
              "      cursor: pointer;\n",
              "      display: none;\n",
              "      fill: #1967D2;\n",
              "      height: 32px;\n",
              "      padding: 0 0 0 0;\n",
              "      width: 32px;\n",
              "    }\n",
              "\n",
              "    .colab-df-convert:hover {\n",
              "      background-color: #E2EBFA;\n",
              "      box-shadow: 0px 1px 2px rgba(60, 64, 67, 0.3), 0px 1px 3px 1px rgba(60, 64, 67, 0.15);\n",
              "      fill: #174EA6;\n",
              "    }\n",
              "\n",
              "    .colab-df-buttons div {\n",
              "      margin-bottom: 4px;\n",
              "    }\n",
              "\n",
              "    [theme=dark] .colab-df-convert {\n",
              "      background-color: #3B4455;\n",
              "      fill: #D2E3FC;\n",
              "    }\n",
              "\n",
              "    [theme=dark] .colab-df-convert:hover {\n",
              "      background-color: #434B5C;\n",
              "      box-shadow: 0px 1px 3px 1px rgba(0, 0, 0, 0.15);\n",
              "      filter: drop-shadow(0px 1px 2px rgba(0, 0, 0, 0.3));\n",
              "      fill: #FFFFFF;\n",
              "    }\n",
              "  </style>\n",
              "\n",
              "    <script>\n",
              "      const buttonEl =\n",
              "        document.querySelector('#df-c5467ff3-172f-47a9-b433-4156c10075cc button.colab-df-convert');\n",
              "      buttonEl.style.display =\n",
              "        google.colab.kernel.accessAllowed ? 'block' : 'none';\n",
              "\n",
              "      async function convertToInteractive(key) {\n",
              "        const element = document.querySelector('#df-c5467ff3-172f-47a9-b433-4156c10075cc');\n",
              "        const dataTable =\n",
              "          await google.colab.kernel.invokeFunction('convertToInteractive',\n",
              "                                                    [key], {});\n",
              "        if (!dataTable) return;\n",
              "\n",
              "        const docLinkHtml = 'Like what you see? Visit the ' +\n",
              "          '<a target=\"_blank\" href=https://colab.research.google.com/notebooks/data_table.ipynb>data table notebook</a>'\n",
              "          + ' to learn more about interactive tables.';\n",
              "        element.innerHTML = '';\n",
              "        dataTable['output_type'] = 'display_data';\n",
              "        await google.colab.output.renderOutput(dataTable, element);\n",
              "        const docLink = document.createElement('div');\n",
              "        docLink.innerHTML = docLinkHtml;\n",
              "        element.appendChild(docLink);\n",
              "      }\n",
              "    </script>\n",
              "  </div>\n",
              "\n",
              "\n",
              "<div id=\"df-482a1f6b-64e2-4f9c-8988-7350885edb75\">\n",
              "  <button class=\"colab-df-quickchart\" onclick=\"quickchart('df-482a1f6b-64e2-4f9c-8988-7350885edb75')\"\n",
              "            title=\"Suggest charts\"\n",
              "            style=\"display:none;\">\n",
              "\n",
              "<svg xmlns=\"http://www.w3.org/2000/svg\" height=\"24px\"viewBox=\"0 0 24 24\"\n",
              "     width=\"24px\">\n",
              "    <g>\n",
              "        <path d=\"M19 3H5c-1.1 0-2 .9-2 2v14c0 1.1.9 2 2 2h14c1.1 0 2-.9 2-2V5c0-1.1-.9-2-2-2zM9 17H7v-7h2v7zm4 0h-2V7h2v10zm4 0h-2v-4h2v4z\"/>\n",
              "    </g>\n",
              "</svg>\n",
              "  </button>\n",
              "\n",
              "<style>\n",
              "  .colab-df-quickchart {\n",
              "      --bg-color: #E8F0FE;\n",
              "      --fill-color: #1967D2;\n",
              "      --hover-bg-color: #E2EBFA;\n",
              "      --hover-fill-color: #174EA6;\n",
              "      --disabled-fill-color: #AAA;\n",
              "      --disabled-bg-color: #DDD;\n",
              "  }\n",
              "\n",
              "  [theme=dark] .colab-df-quickchart {\n",
              "      --bg-color: #3B4455;\n",
              "      --fill-color: #D2E3FC;\n",
              "      --hover-bg-color: #434B5C;\n",
              "      --hover-fill-color: #FFFFFF;\n",
              "      --disabled-bg-color: #3B4455;\n",
              "      --disabled-fill-color: #666;\n",
              "  }\n",
              "\n",
              "  .colab-df-quickchart {\n",
              "    background-color: var(--bg-color);\n",
              "    border: none;\n",
              "    border-radius: 50%;\n",
              "    cursor: pointer;\n",
              "    display: none;\n",
              "    fill: var(--fill-color);\n",
              "    height: 32px;\n",
              "    padding: 0;\n",
              "    width: 32px;\n",
              "  }\n",
              "\n",
              "  .colab-df-quickchart:hover {\n",
              "    background-color: var(--hover-bg-color);\n",
              "    box-shadow: 0 1px 2px rgba(60, 64, 67, 0.3), 0 1px 3px 1px rgba(60, 64, 67, 0.15);\n",
              "    fill: var(--button-hover-fill-color);\n",
              "  }\n",
              "\n",
              "  .colab-df-quickchart-complete:disabled,\n",
              "  .colab-df-quickchart-complete:disabled:hover {\n",
              "    background-color: var(--disabled-bg-color);\n",
              "    fill: var(--disabled-fill-color);\n",
              "    box-shadow: none;\n",
              "  }\n",
              "\n",
              "  .colab-df-spinner {\n",
              "    border: 2px solid var(--fill-color);\n",
              "    border-color: transparent;\n",
              "    border-bottom-color: var(--fill-color);\n",
              "    animation:\n",
              "      spin 1s steps(1) infinite;\n",
              "  }\n",
              "\n",
              "  @keyframes spin {\n",
              "    0% {\n",
              "      border-color: transparent;\n",
              "      border-bottom-color: var(--fill-color);\n",
              "      border-left-color: var(--fill-color);\n",
              "    }\n",
              "    20% {\n",
              "      border-color: transparent;\n",
              "      border-left-color: var(--fill-color);\n",
              "      border-top-color: var(--fill-color);\n",
              "    }\n",
              "    30% {\n",
              "      border-color: transparent;\n",
              "      border-left-color: var(--fill-color);\n",
              "      border-top-color: var(--fill-color);\n",
              "      border-right-color: var(--fill-color);\n",
              "    }\n",
              "    40% {\n",
              "      border-color: transparent;\n",
              "      border-right-color: var(--fill-color);\n",
              "      border-top-color: var(--fill-color);\n",
              "    }\n",
              "    60% {\n",
              "      border-color: transparent;\n",
              "      border-right-color: var(--fill-color);\n",
              "    }\n",
              "    80% {\n",
              "      border-color: transparent;\n",
              "      border-right-color: var(--fill-color);\n",
              "      border-bottom-color: var(--fill-color);\n",
              "    }\n",
              "    90% {\n",
              "      border-color: transparent;\n",
              "      border-bottom-color: var(--fill-color);\n",
              "    }\n",
              "  }\n",
              "</style>\n",
              "\n",
              "  <script>\n",
              "    async function quickchart(key) {\n",
              "      const quickchartButtonEl =\n",
              "        document.querySelector('#' + key + ' button');\n",
              "      quickchartButtonEl.disabled = true;  // To prevent multiple clicks.\n",
              "      quickchartButtonEl.classList.add('colab-df-spinner');\n",
              "      try {\n",
              "        const charts = await google.colab.kernel.invokeFunction(\n",
              "            'suggestCharts', [key], {});\n",
              "      } catch (error) {\n",
              "        console.error('Error during call to suggestCharts:', error);\n",
              "      }\n",
              "      quickchartButtonEl.classList.remove('colab-df-spinner');\n",
              "      quickchartButtonEl.classList.add('colab-df-quickchart-complete');\n",
              "    }\n",
              "    (() => {\n",
              "      let quickchartButtonEl =\n",
              "        document.querySelector('#df-482a1f6b-64e2-4f9c-8988-7350885edb75 button');\n",
              "      quickchartButtonEl.style.display =\n",
              "        google.colab.kernel.accessAllowed ? 'block' : 'none';\n",
              "    })();\n",
              "  </script>\n",
              "</div>\n",
              "\n",
              "  <div id=\"id_4cac42bd-720e-4a95-bda4-6290d075e1a0\">\n",
              "    <style>\n",
              "      .colab-df-generate {\n",
              "        background-color: #E8F0FE;\n",
              "        border: none;\n",
              "        border-radius: 50%;\n",
              "        cursor: pointer;\n",
              "        display: none;\n",
              "        fill: #1967D2;\n",
              "        height: 32px;\n",
              "        padding: 0 0 0 0;\n",
              "        width: 32px;\n",
              "      }\n",
              "\n",
              "      .colab-df-generate:hover {\n",
              "        background-color: #E2EBFA;\n",
              "        box-shadow: 0px 1px 2px rgba(60, 64, 67, 0.3), 0px 1px 3px 1px rgba(60, 64, 67, 0.15);\n",
              "        fill: #174EA6;\n",
              "      }\n",
              "\n",
              "      [theme=dark] .colab-df-generate {\n",
              "        background-color: #3B4455;\n",
              "        fill: #D2E3FC;\n",
              "      }\n",
              "\n",
              "      [theme=dark] .colab-df-generate:hover {\n",
              "        background-color: #434B5C;\n",
              "        box-shadow: 0px 1px 3px 1px rgba(0, 0, 0, 0.15);\n",
              "        filter: drop-shadow(0px 1px 2px rgba(0, 0, 0, 0.3));\n",
              "        fill: #FFFFFF;\n",
              "      }\n",
              "    </style>\n",
              "    <button class=\"colab-df-generate\" onclick=\"generateWithVariable('dfh2')\"\n",
              "            title=\"Generate code using this dataframe.\"\n",
              "            style=\"display:none;\">\n",
              "\n",
              "  <svg xmlns=\"http://www.w3.org/2000/svg\" height=\"24px\"viewBox=\"0 0 24 24\"\n",
              "       width=\"24px\">\n",
              "    <path d=\"M7,19H8.4L18.45,9,17,7.55,7,17.6ZM5,21V16.75L18.45,3.32a2,2,0,0,1,2.83,0l1.4,1.43a1.91,1.91,0,0,1,.58,1.4,1.91,1.91,0,0,1-.58,1.4L9.25,21ZM18.45,9,17,7.55Zm-12,3A5.31,5.31,0,0,0,4.9,8.1,5.31,5.31,0,0,0,1,6.5,5.31,5.31,0,0,0,4.9,4.9,5.31,5.31,0,0,0,6.5,1,5.31,5.31,0,0,0,8.1,4.9,5.31,5.31,0,0,0,12,6.5,5.46,5.46,0,0,0,6.5,12Z\"/>\n",
              "  </svg>\n",
              "    </button>\n",
              "    <script>\n",
              "      (() => {\n",
              "      const buttonEl =\n",
              "        document.querySelector('#id_4cac42bd-720e-4a95-bda4-6290d075e1a0 button.colab-df-generate');\n",
              "      buttonEl.style.display =\n",
              "        google.colab.kernel.accessAllowed ? 'block' : 'none';\n",
              "\n",
              "      buttonEl.onclick = () => {\n",
              "        google.colab.notebook.generateWithVariable('dfh2');\n",
              "      }\n",
              "      })();\n",
              "    </script>\n",
              "  </div>\n",
              "\n",
              "    </div>\n",
              "  </div>\n"
            ],
            "text/plain": [
              "         Destination Port     Label  Label\n",
              "0                0.000336  0.027805    403\n",
              "1                0.000336  0.027805    403\n",
              "2                0.000336  0.027805    403\n",
              "3                0.000336  0.027805    403\n",
              "4                0.541314  0.087484   1268\n",
              "...                   ...       ...    ...\n",
              "286462           0.006775  0.242928   3521\n",
              "286463           0.006775  0.242928   3521\n",
              "286464           0.006775  0.242928   3521\n",
              "286465           0.006775  0.242928   3521\n",
              "286466           0.006775  0.242928   3521\n",
              "\n",
              "[286467 rows x 3 columns]"
            ]
          },
          "execution_count": 73,
          "metadata": {},
          "output_type": "execute_result"
        }
      ],
      "source": [
        "dfh2 = Auto_Feature_Engineering(df)\n",
        "dfh2"
      ]
    },
    {
      "cell_type": "code",
      "execution_count": 74,
      "metadata": {
        "id": "Xa7En6I03ZkD"
      },
      "outputs": [],
      "source": [
        "a=dfh2.columns"
      ]
    },
    {
      "cell_type": "code",
      "execution_count": 75,
      "metadata": {
        "colab": {
          "base_uri": "https://localhost:8080/",
          "height": 203
        },
        "id": "iwmBBFpY6VkV",
        "outputId": "8c3ac564-5faa-4067-e3e4-318a4a1dfceb"
      },
      "outputs": [
        {
          "data": {
            "text/html": [
              "<div style=\"max-width:800px; border: 1px solid var(--colab-border-color);\"><style>\n",
              "      pre.function-repr-contents {\n",
              "        overflow-x: auto;\n",
              "        padding: 8px 12px;\n",
              "        max-height: 500px;\n",
              "      }\n",
              "\n",
              "      pre.function-repr-contents.function-repr-contents-collapsed {\n",
              "        cursor: pointer;\n",
              "        max-height: 100px;\n",
              "      }\n",
              "    </style>\n",
              "    <pre style=\"white-space: initial; background:\n",
              "         var(--colab-secondary-surface-color); padding: 8px 12px;\n",
              "         border-bottom: 1px solid var(--colab-border-color);\"><b>pandas.core.frame.DataFrame</b><br/>def __init__(data=None, index: Axes | None=None, columns: Axes | None=None, dtype: Dtype | None=None, copy: bool | None=None) -&gt; None</pre><pre class=\"function-repr-contents function-repr-contents-collapsed\" style=\"\"><a class=\"filepath\" style=\"display:none\" href=\"#\">/usr/local/lib/python3.10/dist-packages/pandas/core/frame.py</a>Two-dimensional, size-mutable, potentially heterogeneous tabular data.\n",
              "\n",
              "Data structure also contains labeled axes (rows and columns).\n",
              "Arithmetic operations align on both row and column labels. Can be\n",
              "thought of as a dict-like container for Series objects. The primary\n",
              "pandas data structure.\n",
              "\n",
              "Parameters\n",
              "----------\n",
              "data : ndarray (structured or homogeneous), Iterable, dict, or DataFrame\n",
              "    Dict can contain Series, arrays, constants, dataclass or list-like objects. If\n",
              "    data is a dict, column order follows insertion-order. If a dict contains Series\n",
              "    which have an index defined, it is aligned by its index. This alignment also\n",
              "    occurs if data is a Series or a DataFrame itself. Alignment is done on\n",
              "    Series/DataFrame inputs.\n",
              "\n",
              "    If data is a list of dicts, column order follows insertion-order.\n",
              "\n",
              "index : Index or array-like\n",
              "    Index to use for resulting frame. Will default to RangeIndex if\n",
              "    no indexing information part of input data and no index provided.\n",
              "columns : Index or array-like\n",
              "    Column labels to use for resulting frame when data does not have them,\n",
              "    defaulting to RangeIndex(0, 1, 2, ..., n). If data contains column labels,\n",
              "    will perform column selection instead.\n",
              "dtype : dtype, default None\n",
              "    Data type to force. Only a single dtype is allowed. If None, infer.\n",
              "copy : bool or None, default None\n",
              "    Copy data from inputs.\n",
              "    For dict data, the default of None behaves like ``copy=True``.  For DataFrame\n",
              "    or 2d ndarray input, the default of None behaves like ``copy=False``.\n",
              "    If data is a dict containing one or more Series (possibly of different dtypes),\n",
              "    ``copy=False`` will ensure that these inputs are not copied.\n",
              "\n",
              "    .. versionchanged:: 1.3.0\n",
              "\n",
              "See Also\n",
              "--------\n",
              "DataFrame.from_records : Constructor from tuples, also record arrays.\n",
              "DataFrame.from_dict : From dicts of Series, arrays, or dicts.\n",
              "read_csv : Read a comma-separated values (csv) file into DataFrame.\n",
              "read_table : Read general delimited file into DataFrame.\n",
              "read_clipboard : Read text from clipboard into DataFrame.\n",
              "\n",
              "Notes\n",
              "-----\n",
              "Please reference the :ref:`User Guide &lt;basics.dataframe&gt;` for more information.\n",
              "\n",
              "Examples\n",
              "--------\n",
              "Constructing DataFrame from a dictionary.\n",
              "\n",
              "&gt;&gt;&gt; d = {&#x27;col1&#x27;: [1, 2], &#x27;col2&#x27;: [3, 4]}\n",
              "&gt;&gt;&gt; df = pd.DataFrame(data=d)\n",
              "&gt;&gt;&gt; df\n",
              "   col1  col2\n",
              "0     1     3\n",
              "1     2     4\n",
              "\n",
              "Notice that the inferred dtype is int64.\n",
              "\n",
              "&gt;&gt;&gt; df.dtypes\n",
              "col1    int64\n",
              "col2    int64\n",
              "dtype: object\n",
              "\n",
              "To enforce a single dtype:\n",
              "\n",
              "&gt;&gt;&gt; df = pd.DataFrame(data=d, dtype=np.int8)\n",
              "&gt;&gt;&gt; df.dtypes\n",
              "col1    int8\n",
              "col2    int8\n",
              "dtype: object\n",
              "\n",
              "Constructing DataFrame from a dictionary including Series:\n",
              "\n",
              "&gt;&gt;&gt; d = {&#x27;col1&#x27;: [0, 1, 2, 3], &#x27;col2&#x27;: pd.Series([2, 3], index=[2, 3])}\n",
              "&gt;&gt;&gt; pd.DataFrame(data=d, index=[0, 1, 2, 3])\n",
              "   col1  col2\n",
              "0     0   NaN\n",
              "1     1   NaN\n",
              "2     2   2.0\n",
              "3     3   3.0\n",
              "\n",
              "Constructing DataFrame from numpy ndarray:\n",
              "\n",
              "&gt;&gt;&gt; df2 = pd.DataFrame(np.array([[1, 2, 3], [4, 5, 6], [7, 8, 9]]),\n",
              "...                    columns=[&#x27;a&#x27;, &#x27;b&#x27;, &#x27;c&#x27;])\n",
              "&gt;&gt;&gt; df2\n",
              "   a  b  c\n",
              "0  1  2  3\n",
              "1  4  5  6\n",
              "2  7  8  9\n",
              "\n",
              "Constructing DataFrame from a numpy ndarray that has labeled columns:\n",
              "\n",
              "&gt;&gt;&gt; data = np.array([(1, 2, 3), (4, 5, 6), (7, 8, 9)],\n",
              "...                 dtype=[(&quot;a&quot;, &quot;i4&quot;), (&quot;b&quot;, &quot;i4&quot;), (&quot;c&quot;, &quot;i4&quot;)])\n",
              "&gt;&gt;&gt; df3 = pd.DataFrame(data, columns=[&#x27;c&#x27;, &#x27;a&#x27;])\n",
              "...\n",
              "&gt;&gt;&gt; df3\n",
              "   c  a\n",
              "0  3  1\n",
              "1  6  4\n",
              "2  9  7\n",
              "\n",
              "Constructing DataFrame from dataclass:\n",
              "\n",
              "&gt;&gt;&gt; from dataclasses import make_dataclass\n",
              "&gt;&gt;&gt; Point = make_dataclass(&quot;Point&quot;, [(&quot;x&quot;, int), (&quot;y&quot;, int)])\n",
              "&gt;&gt;&gt; pd.DataFrame([Point(0, 0), Point(0, 3), Point(2, 3)])\n",
              "   x  y\n",
              "0  0  0\n",
              "1  0  3\n",
              "2  2  3\n",
              "\n",
              "Constructing DataFrame from Series/DataFrame:\n",
              "\n",
              "&gt;&gt;&gt; ser = pd.Series([1, 2, 3], index=[&quot;a&quot;, &quot;b&quot;, &quot;c&quot;])\n",
              "&gt;&gt;&gt; df = pd.DataFrame(data=ser, index=[&quot;a&quot;, &quot;c&quot;])\n",
              "&gt;&gt;&gt; df\n",
              "   0\n",
              "a  1\n",
              "c  3\n",
              "\n",
              "&gt;&gt;&gt; df1 = pd.DataFrame([1, 2, 3], index=[&quot;a&quot;, &quot;b&quot;, &quot;c&quot;], columns=[&quot;x&quot;])\n",
              "&gt;&gt;&gt; df2 = pd.DataFrame(data=df1, index=[&quot;a&quot;, &quot;c&quot;])\n",
              "&gt;&gt;&gt; df2\n",
              "   x\n",
              "a  1\n",
              "c  3</pre>\n",
              "      <script>\n",
              "      if (google.colab.kernel.accessAllowed && google.colab.files && google.colab.files.view) {\n",
              "        for (const element of document.querySelectorAll('.filepath')) {\n",
              "          element.style.display = 'block'\n",
              "          element.onclick = (event) => {\n",
              "            event.preventDefault();\n",
              "            event.stopPropagation();\n",
              "            google.colab.files.view(element.textContent, 490);\n",
              "          };\n",
              "        }\n",
              "      }\n",
              "      for (const element of document.querySelectorAll('.function-repr-contents')) {\n",
              "        element.onclick = (event) => {\n",
              "          event.preventDefault();\n",
              "          event.stopPropagation();\n",
              "          element.classList.toggle('function-repr-contents-collapsed');\n",
              "        };\n",
              "      }\n",
              "      </script>\n",
              "      </div>"
            ],
            "text/plain": [
              "pandas.core.frame.DataFrame"
            ]
          },
          "execution_count": 75,
          "metadata": {},
          "output_type": "execute_result"
        }
      ],
      "source": [
        "type(dfh2)"
      ]
    },
    {
      "cell_type": "code",
      "execution_count": 128,
      "metadata": {
        "colab": {
          "base_uri": "https://localhost:8080/"
        },
        "id": "kzQh_H4nKKqM",
        "outputId": "bcda7d4c-f68c-42ec-c802-e34563e702a9"
      },
      "outputs": [
        {
          "data": {
            "text/plain": [
              "Index([' Destination Port', ' Label', 'Label'], dtype='object')"
            ]
          },
          "execution_count": 128,
          "metadata": {},
          "output_type": "execute_result"
        }
      ],
      "source": [
        "dfh2.columns"
      ]
    },
    {
      "cell_type": "code",
      "execution_count": 76,
      "metadata": {
        "id": "zVQsVqc7z_rL"
      },
      "outputs": [],
      "source": [
        "dfh2.to_csv('output_data.csv', index=False)"
      ]
    },
    {
      "cell_type": "code",
      "execution_count": 126,
      "metadata": {
        "id": "U9c8j5RjI7BV"
      },
      "outputs": [],
      "source": [
        "d=pd.read_csv(\"output_data.csv\")"
      ]
    },
    {
      "cell_type": "code",
      "execution_count": 127,
      "metadata": {
        "colab": {
          "base_uri": "https://localhost:8080/"
        },
        "id": "4yMcci0gKHJq",
        "outputId": "645a6b51-76f7-48a4-8ecb-30d4d09d288d"
      },
      "outputs": [
        {
          "data": {
            "text/plain": [
              "Index([' Destination Port', ' Label', 'Label'], dtype='object')"
            ]
          },
          "execution_count": 127,
          "metadata": {},
          "output_type": "execute_result"
        }
      ],
      "source": [
        "d.columns"
      ]
    },
    {
      "cell_type": "code",
      "execution_count": 87,
      "metadata": {
        "id": "qibdUg5R2poL"
      },
      "outputs": [],
      "source": [
        "# Assuming 0 is normal and anything else is an anomaly\n",
        "df['Label'] = (df['Label'] != 0).astype(int)"
      ]
    },
    {
      "cell_type": "code",
      "execution_count": 88,
      "metadata": {
        "colab": {
          "base_uri": "https://localhost:8080/"
        },
        "id": "gcJcjxsq0yB4",
        "outputId": "a4341a73-7a45-493c-a23e-7d8a856e86be"
      },
      "outputs": [
        {
          "name": "stdout",
          "output_type": "stream",
          "text": [
            "Label\n",
            "0    101\n",
            "1    101\n",
            "Name: count, dtype: int64\n"
          ]
        }
      ],
      "source": [
        "from imblearn.under_sampling import RandomUnderSampler\n",
        "\n",
        "# Initialize the under-sampler\n",
        "rus = RandomUnderSampler(random_state=0)\n",
        "\n",
        "# Fit and apply the transform to the dataset\n",
        "X = df.drop('Label', axis=1)  # Assuming 'Label' is the target column\n",
        "y = df['Label']\n",
        "X_resampled, y_resampled = rus.fit_resample(X, y)\n",
        "\n",
        "# Check the imbalance after resampling\n",
        "print(y_resampled.value_counts())\n"
      ]
    },
    {
      "cell_type": "code",
      "execution_count": 89,
      "metadata": {
        "id": "-zG4XWMZ3Lrl"
      },
      "outputs": [],
      "source": [
        "from sklearn.model_selection import train_test_split\n",
        "\n",
        "# Split the resampled data\n",
        "X_train, X_test, y_train, y_test = train_test_split(X_resampled, y_resampled, test_size=0.2, random_state=42)"
      ]
    },
    {
      "cell_type": "code",
      "execution_count": 90,
      "metadata": {
        "colab": {
          "base_uri": "https://localhost:8080/",
          "height": 52
        },
        "id": "eDAgFjlQg4DM",
        "outputId": "7f9c24ac-bbaa-4b4c-f3f6-e287aaac1870"
      },
      "outputs": [
        {
          "data": {
            "application/vnd.google.colaboratory.intrinsic+json": {
              "type": "string"
            },
            "text/plain": [
              "\"X = dfh2.drop(['Label'],axis=1)\\ny = dfh2['Label']\\n\\n\\n#X_train, X_test, y_train, y_test = train_test_split(X, y, test_size=0.8, random_state=0)\""
            ]
          },
          "execution_count": 90,
          "metadata": {},
          "output_type": "execute_result"
        }
      ],
      "source": [
        "'''X = dfh2.drop(['Label'],axis=1)\n",
        "y = dfh2['Label']\n",
        "\n",
        "\n",
        "#X_train, X_test, y_train, y_test = train_test_split(X, y, test_size=0.8, random_state=0)'''"
      ]
    },
    {
      "cell_type": "code",
      "execution_count": 91,
      "metadata": {
        "id": "aj6bw0LKrp0o"
      },
      "outputs": [],
      "source": [
        "from sklearn.model_selection import train_test_split, StratifiedShuffleSplit"
      ]
    },
    {
      "cell_type": "code",
      "execution_count": 92,
      "metadata": {
        "id": "HiATZq67g4DN",
        "scrolled": false
      },
      "outputs": [],
      "source": [
        "#pd.Series(y_train).value_counts()"
      ]
    },
    {
      "cell_type": "code",
      "execution_count": 93,
      "metadata": {
        "id": "mVRINCHKxF-q"
      },
      "outputs": [],
      "source": [
        "from imblearn.over_sampling import SMOTE"
      ]
    },
    {
      "cell_type": "code",
      "execution_count": 94,
      "metadata": {
        "colab": {
          "base_uri": "https://localhost:8080/",
          "height": 70
        },
        "id": "wj7l93SSxYsd",
        "outputId": "219165f8-6aa7-46f1-fb26-ab3c67f1588f"
      },
      "outputs": [
        {
          "data": {
            "application/vnd.google.colaboratory.intrinsic+json": {
              "type": "string"
            },
            "text/plain": [
              "'from imblearn.over_sampling import SMOTE\\n\\nsmote = SMOTE(random_state=0)\\nX_resampled, y_resampled = smote.fit_resample(X, y)\\n\\nX_train, X_test, y_train, y_test = train_test_split(X_resampled, y_resampled, train_size=0.2, test_size=0.8, stratify=y_resampled, random_state=0)'"
            ]
          },
          "execution_count": 94,
          "metadata": {},
          "output_type": "execute_result"
        }
      ],
      "source": [
        "'''from imblearn.over_sampling import SMOTE\n",
        "\n",
        "smote = SMOTE(random_state=0)\n",
        "X_resampled, y_resampled = smote.fit_resample(X, y)\n",
        "\n",
        "X_train, X_test, y_train, y_test = train_test_split(X_resampled, y_resampled, train_size=0.2, test_size=0.8, stratify=y_resampled, random_state=0)'''"
      ]
    },
    {
      "cell_type": "code",
      "execution_count": 95,
      "metadata": {
        "id": "GTdaWuVRg4DN"
      },
      "outputs": [],
      "source": [
        "def Auto_Balancing(X_train, y_train):\n",
        "    number0 = y_train.value_counts().iloc[0]\n",
        "    number1 = y_train.value_counts().iloc[1]\n",
        "\n",
        "    if number0 > number1:\n",
        "        nlarge = number0\n",
        "    else:\n",
        "        nlarge = number1\n",
        "\n",
        "    if (number1 / number0 > 1.5) or (number0 / number1 > 1.5):\n",
        "        smote = SMOTE(n_jobs=-1, sampling_strategy={0: nlarge, 1: nlarge})\n",
        "        X_train, y_train = smote.fit_resample(X_train, y_train)\n",
        "\n",
        "    return X_train, y_train"
      ]
    },
    {
      "cell_type": "code",
      "execution_count": 96,
      "metadata": {
        "colab": {
          "base_uri": "https://localhost:8080/",
          "height": 35
        },
        "id": "8a8hItAbw9ky",
        "outputId": "19242eaa-3df3-4cc9-f28b-fb5c2112a096"
      },
      "outputs": [
        {
          "data": {
            "application/vnd.google.colaboratory.intrinsic+json": {
              "type": "string"
            },
            "text/plain": [
              "'!pip install imbalanced-learn\\nfrom imblearn.over_sampling import SMOTE'"
            ]
          },
          "execution_count": 96,
          "metadata": {},
          "output_type": "execute_result"
        }
      ],
      "source": [
        "'''!pip install imbalanced-learn\n",
        "from imblearn.over_sampling import SMOTE'''"
      ]
    },
    {
      "cell_type": "code",
      "execution_count": 96,
      "metadata": {
        "id": "eMO3HzDJ7XVe"
      },
      "outputs": [],
      "source": []
    },
    {
      "cell_type": "code",
      "execution_count": 97,
      "metadata": {
        "id": "iDWk941Tg4DO"
      },
      "outputs": [],
      "source": [
        "X_train, y_train = Auto_Balancing(X_train, y_train)"
      ]
    },
    {
      "cell_type": "code",
      "execution_count": 98,
      "metadata": {
        "colab": {
          "base_uri": "https://localhost:8080/"
        },
        "id": "_YpD7meLg4DO",
        "outputId": "4a7ec355-9686-41ff-ea8d-b99acc99b5c8",
        "scrolled": false
      },
      "outputs": [
        {
          "data": {
            "text/plain": [
              "Label\n",
              "1    82\n",
              "0    79\n",
              "Name: count, dtype: int64"
            ]
          },
          "execution_count": 98,
          "metadata": {},
          "output_type": "execute_result"
        }
      ],
      "source": [
        "pd.Series(y_train).value_counts()"
      ]
    },
    {
      "cell_type": "code",
      "execution_count": 99,
      "metadata": {
        "colab": {
          "base_uri": "https://localhost:8080/"
        },
        "id": "MGQBxLkJ8-G6",
        "outputId": "7fbb682d-6a95-4806-e2f2-42e33f2c4e35"
      },
      "outputs": [
        {
          "name": "stdout",
          "output_type": "stream",
          "text": [
            "Name: river\n",
            "Version: 0.21.1\n",
            "Summary: Online machine learning in Python\n",
            "Home-page: https://riverml.xyz/\n",
            "Author: Max Halford\n",
            "Author-email: maxhalford25@gmail.com\n",
            "License: \n",
            "Location: /usr/local/lib/python3.10/dist-packages\n",
            "Requires: numpy, pandas, polars, scipy\n",
            "Required-by: \n"
          ]
        }
      ],
      "source": [
        "!pip show river"
      ]
    },
    {
      "cell_type": "code",
      "execution_count": 100,
      "metadata": {
        "colab": {
          "base_uri": "https://localhost:8080/"
        },
        "id": "t40MFkT88Unr",
        "outputId": "14b5e547-175c-4e9c-9898-dc7cabb715b4"
      },
      "outputs": [
        {
          "name": "stdout",
          "output_type": "stream",
          "text": [
            "Requirement already satisfied: river in /usr/local/lib/python3.10/dist-packages (0.21.1)\n",
            "Requirement already satisfied: numpy<2.0.0,>=1.23.0 in /usr/local/lib/python3.10/dist-packages (from river) (1.25.2)\n",
            "Collecting pandas<3.0,>=2.1 (from river)\n",
            "  Using cached pandas-2.2.2-cp310-cp310-manylinux_2_17_x86_64.manylinux2014_x86_64.whl (13.0 MB)\n",
            "Requirement already satisfied: polars<0.21.0,>=0.20.8 in /usr/local/lib/python3.10/dist-packages (from river) (0.20.31)\n",
            "Requirement already satisfied: scipy<2.0.0,>=1.8.1 in /usr/local/lib/python3.10/dist-packages (from river) (1.14.0)\n",
            "Requirement already satisfied: python-dateutil>=2.8.2 in /usr/local/lib/python3.10/dist-packages (from pandas<3.0,>=2.1->river) (2.8.2)\n",
            "Requirement already satisfied: pytz>=2020.1 in /usr/local/lib/python3.10/dist-packages (from pandas<3.0,>=2.1->river) (2023.4)\n",
            "Requirement already satisfied: tzdata>=2022.7 in /usr/local/lib/python3.10/dist-packages (from pandas<3.0,>=2.1->river) (2024.1)\n",
            "Requirement already satisfied: six>=1.5 in /usr/local/lib/python3.10/dist-packages (from python-dateutil>=2.8.2->pandas<3.0,>=2.1->river) (1.16.0)\n",
            "Installing collected packages: pandas\n",
            "  Attempting uninstall: pandas\n",
            "    Found existing installation: pandas 2.0.3\n",
            "    Uninstalling pandas-2.0.3:\n",
            "      Successfully uninstalled pandas-2.0.3\n",
            "\u001b[31mERROR: pip's dependency resolver does not currently take into account all the packages that are installed. This behaviour is the source of the following dependency conflicts.\n",
            "cudf-cu12 24.4.1 requires pandas<2.2.2dev0,>=2.0, but you have pandas 2.2.2 which is incompatible.\n",
            "google-colab 1.0.0 requires pandas==2.0.3, but you have pandas 2.2.2 which is incompatible.\u001b[0m\u001b[31m\n",
            "\u001b[0mSuccessfully installed pandas-2.2.2\n"
          ]
        }
      ],
      "source": [
        "!pip install river"
      ]
    },
    {
      "cell_type": "code",
      "execution_count": 101,
      "metadata": {
        "colab": {
          "base_uri": "https://localhost:8080/"
        },
        "id": "q5_hgoyr9Cfq",
        "outputId": "1d2bb27f-a34a-4165-d1fd-aa221e5c1697"
      },
      "outputs": [
        {
          "name": "stdout",
          "output_type": "stream",
          "text": [
            "Requirement already satisfied: river in /usr/local/lib/python3.10/dist-packages (0.21.1)\n",
            "Requirement already satisfied: numpy<2.0.0,>=1.23.0 in /usr/local/lib/python3.10/dist-packages (from river) (1.25.2)\n",
            "Requirement already satisfied: pandas<3.0,>=2.1 in /usr/local/lib/python3.10/dist-packages (from river) (2.2.2)\n",
            "Requirement already satisfied: polars<0.21.0,>=0.20.8 in /usr/local/lib/python3.10/dist-packages (from river) (0.20.31)\n",
            "Requirement already satisfied: scipy<2.0.0,>=1.8.1 in /usr/local/lib/python3.10/dist-packages (from river) (1.14.0)\n",
            "Requirement already satisfied: python-dateutil>=2.8.2 in /usr/local/lib/python3.10/dist-packages (from pandas<3.0,>=2.1->river) (2.8.2)\n",
            "Requirement already satisfied: pytz>=2020.1 in /usr/local/lib/python3.10/dist-packages (from pandas<3.0,>=2.1->river) (2023.4)\n",
            "Requirement already satisfied: tzdata>=2022.7 in /usr/local/lib/python3.10/dist-packages (from pandas<3.0,>=2.1->river) (2024.1)\n",
            "Requirement already satisfied: six>=1.5 in /usr/local/lib/python3.10/dist-packages (from python-dateutil>=2.8.2->pandas<3.0,>=2.1->river) (1.16.0)\n"
          ]
        }
      ],
      "source": [
        "!pip install --upgrade river"
      ]
    },
    {
      "cell_type": "code",
      "execution_count": 102,
      "metadata": {
        "colab": {
          "base_uri": "https://localhost:8080/"
        },
        "id": "PtjFBF8PJboH",
        "outputId": "97341458-9f80-494e-9cf9-36556ba4f02b"
      },
      "outputs": [
        {
          "name": "stdout",
          "output_type": "stream",
          "text": [
            "Requirement already satisfied: river[extras] in /usr/local/lib/python3.10/dist-packages (0.21.1)\n",
            "\u001b[33mWARNING: river 0.21.1 does not provide the extra 'extras'\u001b[0m\u001b[33m\n",
            "\u001b[0mRequirement already satisfied: numpy<2.0.0,>=1.23.0 in /usr/local/lib/python3.10/dist-packages (from river[extras]) (1.25.2)\n",
            "Requirement already satisfied: pandas<3.0,>=2.1 in /usr/local/lib/python3.10/dist-packages (from river[extras]) (2.2.2)\n",
            "Requirement already satisfied: polars<0.21.0,>=0.20.8 in /usr/local/lib/python3.10/dist-packages (from river[extras]) (0.20.31)\n",
            "Requirement already satisfied: scipy<2.0.0,>=1.8.1 in /usr/local/lib/python3.10/dist-packages (from river[extras]) (1.14.0)\n",
            "Requirement already satisfied: python-dateutil>=2.8.2 in /usr/local/lib/python3.10/dist-packages (from pandas<3.0,>=2.1->river[extras]) (2.8.2)\n",
            "Requirement already satisfied: pytz>=2020.1 in /usr/local/lib/python3.10/dist-packages (from pandas<3.0,>=2.1->river[extras]) (2023.4)\n",
            "Requirement already satisfied: tzdata>=2022.7 in /usr/local/lib/python3.10/dist-packages (from pandas<3.0,>=2.1->river[extras]) (2024.1)\n",
            "Requirement already satisfied: six>=1.5 in /usr/local/lib/python3.10/dist-packages (from python-dateutil>=2.8.2->pandas<3.0,>=2.1->river[extras]) (1.16.0)\n"
          ]
        }
      ],
      "source": [
        "!pip install river[extras]\n"
      ]
    },
    {
      "cell_type": "code",
      "execution_count": 103,
      "metadata": {
        "id": "XBZsvhBWT4Cl"
      },
      "outputs": [],
      "source": [
        "from river import drift\n"
      ]
    },
    {
      "cell_type": "code",
      "execution_count": 104,
      "metadata": {
        "colab": {
          "base_uri": "https://localhost:8080/"
        },
        "id": "LgR2RNfBWUQa",
        "outputId": "92ff4931-cbd7-4189-e418-897c75ee7e6c"
      },
      "outputs": [
        {
          "name": "stdout",
          "output_type": "stream",
          "text": [
            "Collecting git+https://github.com/online-ml/river\n",
            "  Cloning https://github.com/online-ml/river to /tmp/pip-req-build-c3d6ysyn\n",
            "  Running command git clone --filter=blob:none --quiet https://github.com/online-ml/river /tmp/pip-req-build-c3d6ysyn\n",
            "  Resolved https://github.com/online-ml/river to commit 6995f1522a9136fd3982890afac5c4a178e4cd57\n",
            "  Installing build dependencies ... \u001b[?25l\u001b[?25hdone\n",
            "  Getting requirements to build wheel ... \u001b[?25l\u001b[?25hdone\n",
            "  Preparing metadata (pyproject.toml) ... \u001b[?25l\u001b[?25hdone\n",
            "Requirement already satisfied: numpy<2.0.0,>=1.23.0 in /usr/local/lib/python3.10/dist-packages (from river==0.21.1) (1.25.2)\n",
            "Requirement already satisfied: pandas<3.0,>=2.1 in /usr/local/lib/python3.10/dist-packages (from river==0.21.1) (2.2.2)\n",
            "Requirement already satisfied: scipy<2.0.0,>=1.12.1 in /usr/local/lib/python3.10/dist-packages (from river==0.21.1) (1.14.0)\n",
            "Requirement already satisfied: python-dateutil>=2.8.2 in /usr/local/lib/python3.10/dist-packages (from pandas<3.0,>=2.1->river==0.21.1) (2.8.2)\n",
            "Requirement already satisfied: pytz>=2020.1 in /usr/local/lib/python3.10/dist-packages (from pandas<3.0,>=2.1->river==0.21.1) (2023.4)\n",
            "Requirement already satisfied: tzdata>=2022.7 in /usr/local/lib/python3.10/dist-packages (from pandas<3.0,>=2.1->river==0.21.1) (2024.1)\n",
            "Requirement already satisfied: six>=1.5 in /usr/local/lib/python3.10/dist-packages (from python-dateutil>=2.8.2->pandas<3.0,>=2.1->river==0.21.1) (1.16.0)\n"
          ]
        }
      ],
      "source": [
        "!pip install git+https://github.com/online-ml/river --upgrade\n"
      ]
    },
    {
      "cell_type": "code",
      "execution_count": 105,
      "metadata": {
        "colab": {
          "base_uri": "https://localhost:8080/"
        },
        "id": "TJXRwPlYFias",
        "outputId": "a86ee9e9-b9e4-46a9-f26f-7e44ac3c731f"
      },
      "outputs": [
        {
          "name": "stdout",
          "output_type": "stream",
          "text": [
            "Collecting sklearn\n",
            "  Using cached sklearn-0.0.post12.tar.gz (2.6 kB)\n",
            "  \u001b[1;31merror\u001b[0m: \u001b[1msubprocess-exited-with-error\u001b[0m\n",
            "  \n",
            "  \u001b[31m×\u001b[0m \u001b[32mpython setup.py egg_info\u001b[0m did not run successfully.\n",
            "  \u001b[31m│\u001b[0m exit code: \u001b[1;36m1\u001b[0m\n",
            "  \u001b[31m╰─>\u001b[0m See above for output.\n",
            "  \n",
            "  \u001b[1;35mnote\u001b[0m: This error originates from a subprocess, and is likely not a problem with pip.\n",
            "  Preparing metadata (setup.py) ... \u001b[?25l\u001b[?25herror\n",
            "\u001b[1;31merror\u001b[0m: \u001b[1mmetadata-generation-failed\u001b[0m\n",
            "\n",
            "\u001b[31m×\u001b[0m Encountered error while generating package metadata.\n",
            "\u001b[31m╰─>\u001b[0m See above for output.\n",
            "\n",
            "\u001b[1;35mnote\u001b[0m: This is an issue with the package mentioned above, not pip.\n",
            "\u001b[1;36mhint\u001b[0m: See above for details.\n"
          ]
        }
      ],
      "source": [
        "\n",
        "!pip install sklearn"
      ]
    },
    {
      "cell_type": "code",
      "execution_count": 106,
      "metadata": {
        "id": "rQEZ4v87g4DR"
      },
      "outputs": [],
      "source": [
        "import pandas as pd\n",
        "from sklearn.model_selection import train_test_split\n",
        "from sklearn.metrics import accuracy_score, precision_score, recall_score, f1_score\n",
        "import matplotlib.pyplot as plt\n",
        "import seaborn as sns\n",
        "from river import tree, metrics, stream\n",
        "from river import ensemble, linear_model\n",
        "from river import neighbors, naive_bayes\n",
        "from river import drift\n",
        "from river import metrics\n",
        "from river import stream\n",
        "from river import tree, neighbors, naive_bayes, ensemble, linear_model\n",
        "from river.drift import ADWIN"
      ]
    },
    {
      "cell_type": "code",
      "execution_count": 107,
      "metadata": {
        "id": "eBkvjvgOg4DS"
      },
      "outputs": [],
      "source": [
        "def adaptive_learning(model, X_train, y_train, X_test, y_test):\n",
        "    metric = metrics.Accuracy()  # Use accuracy as the metric\n",
        "    i = 0  # count the number of evaluated data points\n",
        "    t = []  # record the number of evaluated data points\n",
        "    m = []  # record the real-time accuracy\n",
        "    yt = []  # record all the true labels of the test set\n",
        "    yp = []  # record all the predicted labels of the test set\n",
        "\n",
        "    # Learn the training set\n",
        "    for xi1, yi1 in stream.iter_pandas(X_train, y_train):\n",
        "        model.learn_one(xi1, yi1)\n",
        "\n",
        "    # Predict the test set\n",
        "    for xi, yi in stream.iter_pandas(X_test, y_test):\n",
        "        y_pred = model.predict_one(xi)  # Predict the test sample\n",
        "        model.learn_one(xi, yi)  # Learn the test sample\n",
        "        metric.update(yi, y_pred)  # Update the real-time accuracy\n",
        "        t.append(i)\n",
        "        m.append(metric.get() * 100)\n",
        "        yt.append(yi)\n",
        "        yp.append(y_pred)\n",
        "        i += 1\n",
        "\n",
        "    print(\"Accuracy: \" + str(round(accuracy_score(yt, yp), 5) * 100) + \"%\")\n",
        "    print(\"Precision: \" + str(round(precision_score(yt, yp), 5) * 100) + \"%\")\n",
        "    print(\"Recall: \" + str(round(recall_score(yt, yp), 5) * 100) + \"%\")\n",
        "    print(\"F1-score: \" + str(round(f1_score(yt, yp), 5) * 100) + \"%\")\n",
        "\n",
        "    return t, m\n"
      ]
    },
    {
      "cell_type": "code",
      "execution_count": 108,
      "metadata": {
        "id": "Z_4m1aANk7oo"
      },
      "outputs": [],
      "source": [
        "# Define a figure function that shows the real-time accuracy changes\n",
        "def acc_fig(t, m, name):\n",
        "    plt.rcParams.update({'font.size': 15})\n",
        "    plt.figure(1,figsize=(10,6))\n",
        "    sns.set_style(\"darkgrid\")\n",
        "    plt.clf()\n",
        "    plt.plot(t,m,'-b',label='Avg Accuracy: %.2f%%'%(m[-1]))\n",
        "\n",
        "    plt.legend(loc='best')\n",
        "    plt.title(name+' on CICIDS2017 dataset', fontsize=15)\n",
        "    plt.xlabel('Number of samples')\n",
        "    plt.ylabel('Accuracy (%)')\n",
        "\n",
        "    plt.draw()"
      ]
    },
    {
      "cell_type": "code",
      "execution_count": 109,
      "metadata": {
        "colab": {
          "base_uri": "https://localhost:8080/"
        },
        "id": "CM8D3QDW_bGU",
        "outputId": "242851a1-461e-4d21-908c-e9058367dfb1"
      },
      "outputs": [
        {
          "name": "stdout",
          "output_type": "stream",
          "text": [
            "Missing values detected in data!\n"
          ]
        }
      ],
      "source": [
        "if pd.isnull(X).any().any() or pd.isnull(y).any():\n",
        "    print(\"Missing values detected in data!\")"
      ]
    },
    {
      "cell_type": "code",
      "execution_count": 110,
      "metadata": {
        "id": "30Xu4zh8KwWr"
      },
      "outputs": [],
      "source": [
        "from river.metrics import Accuracy"
      ]
    },
    {
      "cell_type": "code",
      "execution_count": 110,
      "metadata": {
        "id": "thDZbwttfpVS"
      },
      "outputs": [],
      "source": []
    },
    {
      "cell_type": "code",
      "execution_count": 111,
      "metadata": {
        "id": "sDCXrcatK4q7"
      },
      "outputs": [],
      "source": [
        "#metric = metrics.Accuracy()"
      ]
    },
    {
      "cell_type": "code",
      "execution_count": 112,
      "metadata": {
        "colab": {
          "base_uri": "https://localhost:8080/",
          "height": 52
        },
        "id": "nVHGvJV5fy2Q",
        "outputId": "178079bf-5a79-4a50-ec3b-789099cc90fc"
      },
      "outputs": [
        {
          "data": {
            "application/vnd.google.colaboratory.intrinsic+json": {
              "type": "string"
            },
            "text/plain": [
              "'name1 = \"HT model\"\\nmodel1 = tree.HoeffdingTreeClassifier()  # Define the model\\nlearn_and_evaluate(model1, X_train, y_train, X_test, y_test)'"
            ]
          },
          "execution_count": 112,
          "metadata": {},
          "output_type": "execute_result"
        }
      ],
      "source": [
        "'''name1 = \"HT model\"\n",
        "model1 = tree.HoeffdingTreeClassifier()  # Define the model\n",
        "learn_and_evaluate(model1, X_train, y_train, X_test, y_test)'''"
      ]
    },
    {
      "cell_type": "code",
      "execution_count": 112,
      "metadata": {
        "id": "uXmaO8klj43N"
      },
      "outputs": [],
      "source": []
    },
    {
      "cell_type": "code",
      "execution_count": 113,
      "metadata": {
        "colab": {
          "base_uri": "https://localhost:8080/",
          "height": 70
        },
        "id": "t3wbL4KMg4Dh",
        "outputId": "5c02c806-e7ff-43a5-e6d6-d1b4e2d2217a"
      },
      "outputs": [
        {
          "data": {
            "application/vnd.google.colaboratory.intrinsic+json": {
              "type": "string"
            },
            "text/plain": [
              "'%%time\\n# Use the Hoeffding Tree (HT) model\\nname1 = \"HT model\"\\nmodel1 = tree.HoeffdingTreeClassifier() # Define the model\\nt, m1 = adaptive_learning(model1, X_train, y_train, X_test, y_test) # Learn the model on the dataset\\nacc_fig(t, m1, name1)'"
            ]
          },
          "execution_count": 113,
          "metadata": {},
          "output_type": "execute_result"
        }
      ],
      "source": [
        "'''%%time\n",
        "# Use the Hoeffding Tree (HT) model\n",
        "name1 = \"HT model\"\n",
        "model1 = tree.HoeffdingTreeClassifier() # Define the model\n",
        "t, m1 = adaptive_learning(model1, X_train, y_train, X_test, y_test) # Learn the model on the dataset\n",
        "acc_fig(t, m1, name1)'''"
      ]
    },
    {
      "cell_type": "code",
      "execution_count": 114,
      "metadata": {
        "colab": {
          "base_uri": "https://localhost:8080/",
          "height": 87
        },
        "id": "Q5K8qSh2g4Dh",
        "outputId": "f868e8a8-c588-4641-87ab-32df34c28bcb"
      },
      "outputs": [
        {
          "data": {
            "application/vnd.google.colaboratory.intrinsic+json": {
              "type": "string"
            },
            "text/plain": [
              "'%%time\\n# Use the Leveraging Bagging (LB) model\\nname2 = \"LB model\"\\nmodel2 = ensemble.LeveragingBaggingClassifier(model=tree.HoeffdingTreeClassifier(),n_models=3) # Define the model\\nt, m2 = adaptive_learning(model2, X_train, y_train, X_test, y_test) # Learn the model on the dataset\\nacc_fig(t, m2, name2) # Draw the figure of how the real-time accuracy changes with the number of samples'"
            ]
          },
          "execution_count": 114,
          "metadata": {},
          "output_type": "execute_result"
        }
      ],
      "source": [
        "'''%%time\n",
        "# Use the Leveraging Bagging (LB) model\n",
        "name2 = \"LB model\"\n",
        "model2 = ensemble.LeveragingBaggingClassifier(model=tree.HoeffdingTreeClassifier(),n_models=3) # Define the model\n",
        "t, m2 = adaptive_learning(model2, X_train, y_train, X_test, y_test) # Learn the model on the dataset\n",
        "acc_fig(t, m2, name2) # Draw the figure of how the real-time accuracy changes with the number of samples'''"
      ]
    },
    {
      "cell_type": "code",
      "execution_count": 115,
      "metadata": {
        "id": "8WJoGcUwD9di"
      },
      "outputs": [],
      "source": [
        "from river import ensemble"
      ]
    },
    {
      "cell_type": "code",
      "execution_count": 116,
      "metadata": {
        "colab": {
          "base_uri": "https://localhost:8080/",
          "height": 673
        },
        "id": "T7T9W_3Ig4Di",
        "outputId": "013ddfec-1289-4152-c381-1bde7fd619d7"
      },
      "outputs": [
        {
          "name": "stdout",
          "output_type": "stream",
          "text": [
            "Accuracy: 87.805%\n",
            "Precision: 81.818%\n",
            "Recall: 94.73700000000001%\n",
            "F1-score: 87.805%\n",
            "CPU times: user 2.43 s, sys: 146 ms, total: 2.57 s\n",
            "Wall time: 2.62 s\n"
          ]
        },
        {
          "data": {
            "image/png": "[encoded data removed]",
            "text/plain": [
              "<Figure size 1000x600 with 1 Axes>"
            ]
          },
          "metadata": {},
          "output_type": "display_data"
        }
      ],
      "source": [
        "%%time\n",
        "# Use the Streaming Random Patches (SRP) model with ADWIN drift detector\n",
        "name4 = \"SRP model\"\n",
        "model4 = ensemble.SRPClassifier(n_models = 3) # Define the model\n",
        "t, m4 = adaptive_learning(model4, X_train, y_train, X_test, y_test) # Learn the model on the dataset\n",
        "acc_fig(t, m4, name4) # Draw the figure of how the real-time accuracy changes with the number of samples"
      ]
    },
    {
      "cell_type": "code",
      "execution_count": 117,
      "metadata": {
        "colab": {
          "base_uri": "https://localhost:8080/",
          "height": 174
        },
        "id": "wkS5pSObg4Di",
        "outputId": "bf72c7d7-3dee-43ec-f4f6-b40905d0f889"
      },
      "outputs": [
        {
          "data": {
            "application/vnd.google.colaboratory.intrinsic+json": {
              "type": "string"
            },
            "text/plain": [
              "'plt.rcParams.update({\\'font.size\\': 30})\\nplt.figure(1,figsize=(24,15))\\nsns.set_style(\"darkgrid\")\\nplt.clf()\\n\\n# Plot the accuracy change of each learner\\nplt.plot(t,m1,\\'-b\\',label=name1+\\', Avg Accuracy: %.2f%%\\'%(m1[-1]))\\nplt.plot(t,m2,\\'-g\\',label=name2+\\', Avg Accuracy: %.2f%%\\'%(m2[-1]))\\n#plt.plot(t,m3,\\'orange\\',label=name3+\\', Avg Accuracy: %.2f%%\\'%(m3[-1]))\\nplt.plot(t,m4,\\'black\\',label=name4+\\', Avg Accuracy: %.2f%%\\'%(m4[-1]))\\n\\n# Draw the drift points/time\\ndr = [0,9900,12600, 14200,15800,18800,21600]\\nfor i in range(len(dr)):\\n    if i!=0:\\n        plt.text(dr[i]-500, 100.2, \\'Drift \\'+str(i), c = \"red\", fontsize = 25)\\n        plt.vlines(dr[i], 0, 100, colors = \"red\", linewidth=4, linestyles = \"dashed\")\\n\\nplt.legend(loc=\\'lower right\\')\\nplt.ylim(85, 100.8)\\nplt.title(\\'Online Learning Methods Comparison on CICIDS2017\\', fontsize=40)\\nplt.xlabel(\\'Number of samples\\')\\nplt.ylabel(\\'Accuracy (%)\\')\\n\\nplt.draw()'"
            ]
          },
          "execution_count": 117,
          "metadata": {},
          "output_type": "execute_result"
        }
      ],
      "source": [
        "# Draw a comprehensive figure to compare the performance of all models\n",
        "'''plt.rcParams.update({'font.size': 30})\n",
        "plt.figure(1,figsize=(24,15))\n",
        "sns.set_style(\"darkgrid\")\n",
        "plt.clf()\n",
        "\n",
        "# Plot the accuracy change of each learner\n",
        "plt.plot(t,m1,'-b',label=name1+', Avg Accuracy: %.2f%%'%(m1[-1]))\n",
        "plt.plot(t,m2,'-g',label=name2+', Avg Accuracy: %.2f%%'%(m2[-1]))\n",
        "#plt.plot(t,m3,'orange',label=name3+', Avg Accuracy: %.2f%%'%(m3[-1]))\n",
        "plt.plot(t,m4,'black',label=name4+', Avg Accuracy: %.2f%%'%(m4[-1]))\n",
        "\n",
        "# Draw the drift points/time\n",
        "dr = [0,9900,12600, 14200,15800,18800,21600]\n",
        "for i in range(len(dr)):\n",
        "    if i!=0:\n",
        "        plt.text(dr[i]-500, 100.2, 'Drift '+str(i), c = \"red\", fontsize = 25)\n",
        "        plt.vlines(dr[i], 0, 100, colors = \"red\", linewidth=4, linestyles = \"dashed\")\n",
        "\n",
        "plt.legend(loc='lower right')\n",
        "plt.ylim(85, 100.8)\n",
        "plt.title('Online Learning Methods Comparison on CICIDS2017', fontsize=40)\n",
        "plt.xlabel('Number of samples')\n",
        "plt.ylabel('Accuracy (%)')\n",
        "\n",
        "plt.draw()'''"
      ]
    },
    {
      "cell_type": "code",
      "execution_count": 118,
      "metadata": {
        "colab": {
          "base_uri": "https://localhost:8080/",
          "height": 191
        },
        "id": "hiZn_ovwg4Dk",
        "outputId": "5e94ac1c-28b4-4cd0-9655-bfb740cee016"
      },
      "outputs": [
        {
          "data": {
            "application/vnd.google.colaboratory.intrinsic+json": {
              "type": "string"
            },
            "text/plain": [
              "'# Define a generic adaptive learning function\\n# The argument \"model\" means an online adaptive learning algorithm\\ndef adaptive_learning_model_selection(model_list, X_train, y_train, X_test, y_test):\\n    metric = metrics.Accuracy() # Use accuracy as the metric\\n    i = 0 # count the number of evaluated data points\\n    t = [] # record the number of evaluated data points\\n    m = [] # record the real-time accuracy\\n    yt = [] # record all the true labels of the test set\\n    yp = [] # record all the predicted labels of the test set\\n    ypb = [] # record all the predicted labels of the test set for the best performing model\\n    acc_b = 0 # The best accuracy score\\n    mb = [] # record the real-time accuracy of the best performing model\\n\\n    for model in model_list:\\n        # Learn the training set\\n        for xi1, yi1 in stream.iter_pandas(X_train, y_train):\\n            model.learn_one(xi1,yi1)\\n\\n        # Predict the test set\\n        for xi, yi in stream.iter_pandas(X_test, y_test):\\n            y_pred= model.predict_one(xi)  # Predict the test sample\\n            model.learn_one(xi,yi) # Learn the test sample\\n            metric = metric.update(yi, y_pred) # Update the real-time accuracy\\n            t.append(i)\\n            m.append(metric.get()*100)\\n            yt.append(yi)\\n            yp.append(y_pred)\\n            i = i+1\\n#         print(accuracy_score(yt,yp))\\n        if accuracy_score(yt,yp)>acc_b:\\n            acc_b = accuracy_score(yt,yp)\\n            mb = m\\n            ypb = yp\\n            model_b = model\\n\\n    print(model_b)\\n    print(\"Accuracy: \"+str(round(accuracy_score(yt,ypb),5)*100)+\"%\")\\n    print(\"Precision: \"+str(round(precision_score(yt,ypb),5)*100)+\"%\")\\n    print(\"Recall: \"+str(round(recall_score(yt,ypb),5)*100)+\"%\")\\n    print(\"F1-score: \"+str(round(f1_score(yt,ypb),5)*100)+\"%\")\\n    return t, mb'"
            ]
          },
          "execution_count": 118,
          "metadata": {},
          "output_type": "execute_result"
        }
      ],
      "source": [
        "'''# Define a generic adaptive learning function\n",
        "# The argument \"model\" means an online adaptive learning algorithm\n",
        "def adaptive_learning_model_selection(model_list, X_train, y_train, X_test, y_test):\n",
        "    metric = metrics.Accuracy() # Use accuracy as the metric\n",
        "    i = 0 # count the number of evaluated data points\n",
        "    t = [] # record the number of evaluated data points\n",
        "    m = [] # record the real-time accuracy\n",
        "    yt = [] # record all the true labels of the test set\n",
        "    yp = [] # record all the predicted labels of the test set\n",
        "    ypb = [] # record all the predicted labels of the test set for the best performing model\n",
        "    acc_b = 0 # The best accuracy score\n",
        "    mb = [] # record the real-time accuracy of the best performing model\n",
        "\n",
        "    for model in model_list:\n",
        "        # Learn the training set\n",
        "        for xi1, yi1 in stream.iter_pandas(X_train, y_train):\n",
        "            model.learn_one(xi1,yi1)\n",
        "\n",
        "        # Predict the test set\n",
        "        for xi, yi in stream.iter_pandas(X_test, y_test):\n",
        "            y_pred= model.predict_one(xi)  # Predict the test sample\n",
        "            model.learn_one(xi,yi) # Learn the test sample\n",
        "            metric = metric.update(yi, y_pred) # Update the real-time accuracy\n",
        "            t.append(i)\n",
        "            m.append(metric.get()*100)\n",
        "            yt.append(yi)\n",
        "            yp.append(y_pred)\n",
        "            i = i+1\n",
        "#         print(accuracy_score(yt,yp))\n",
        "        if accuracy_score(yt,yp)>acc_b:\n",
        "            acc_b = accuracy_score(yt,yp)\n",
        "            mb = m\n",
        "            ypb = yp\n",
        "            model_b = model\n",
        "\n",
        "    print(model_b)\n",
        "    print(\"Accuracy: \"+str(round(accuracy_score(yt,ypb),5)*100)+\"%\")\n",
        "    print(\"Precision: \"+str(round(precision_score(yt,ypb),5)*100)+\"%\")\n",
        "    print(\"Recall: \"+str(round(recall_score(yt,ypb),5)*100)+\"%\")\n",
        "    print(\"F1-score: \"+str(round(f1_score(yt,ypb),5)*100)+\"%\")\n",
        "    return t, mb'''"
      ]
    },
    {
      "cell_type": "markdown",
      "metadata": {
        "id": "5FTV4v5eg4Dm"
      },
      "source": [
        "SRP with the highest accuracy is selected as the best/most suitable online learner"
      ]
    },
    {
      "cell_type": "code",
      "execution_count": 119,
      "metadata": {
        "colab": {
          "base_uri": "https://localhost:8080/",
          "height": 157
        },
        "id": "paU6kBJQg4Dn",
        "outputId": "b36cded7-d027-490c-8e27-07dec29c7319"
      },
      "outputs": [
        {
          "data": {
            "application/vnd.google.colaboratory.intrinsic+json": {
              "type": "string"
            },
            "text/plain": [
              "'from hyperopt import hp, fmin, tpe, STATUS_OK, Trials\\nfrom sklearn.model_selection import cross_val_score, StratifiedKFold\\n\\n# Define the objective function\\ndef objective(params):\\n    params = {\\n        \\'n_models\\': int(params[\\'n_models\\']),\\n        \\'subspace_size\\': abs(float(params[\\'subspace_size\\'])),\\n    }\\n    clf = ensemble.SRPClassifier( **params)\\n\\n    t, m = adaptive_learning(clf, X_train, y_train, X_test, y_test)\\n\\n    return {\\'loss\\':-m[-1], \\'status\\': STATUS_OK }\\n\\n# Define the hyperparameter configuration space\\nspace = {\\n    \\'n_models\\': hp.quniform(\\'n_models\\', 2, 10, 1),\\n    \"subspace_size\":hp.uniform(\\'subspace_size\\', 0.3, 1),\\n}\\n\\n# Detect the optimal hyperparameter values\\nbest = fmin(fn=objective,\\n            space=space,\\n            algo=tpe.suggest,\\n            max_evals=10)\\nprint(\"SRP: Hyperopt estimated optimum {}\".format(best))'"
            ]
          },
          "execution_count": 119,
          "metadata": {},
          "output_type": "execute_result"
        }
      ],
      "source": [
        "from hyperopt import hp, fmin, tpe, STATUS_OK, Trials\n",
        "from sklearn.model_selection import cross_val_score, StratifiedKFold\n",
        "\n",
        "# Define the objective function\n",
        "def objective(params):\n",
        "    params = {\n",
        "        'n_models': int(params['n_models']),\n",
        "        'subspace_size': abs(float(params['subspace_size'])),\n",
        "    }\n",
        "    clf = ensemble.SRPClassifier( **params)\n",
        "\n",
        "    t, m = adaptive_learning(clf, X_train, y_train, X_test, y_test)\n",
        "\n",
        "    return {'loss':-m[-1], 'status': STATUS_OK }\n",
        "\n",
        "# Define the hyperparameter configuration space\n",
        "space = {\n",
        "    'n_models': hp.quniform('n_models', 2, 10, 1),\n",
        "    \"subspace_size\":hp.uniform('subspace_size', 0.3, 1),\n",
        "}\n",
        "\n",
        "# Detect the optimal hyperparameter values\n",
        "best = fmin(fn=objective,\n",
        "            space=space,\n",
        "            algo=tpe.suggest,\n",
        "            max_evals=10)\n",
        "print(\"SRP: Hyperopt estimated optimum {}\".format(best))"
      ]
    },
    {
      "cell_type": "markdown",
      "metadata": {
        "collapsed": true,
        "id": "XLW43FpWg4Do"
      },
      "source": [
        "After hyperparameter optimization, the accuracy of SRP has been improved from 97.392% to 99.841%"
      ]
    },
    {
      "cell_type": "code",
      "execution_count": 120,
      "metadata": {
        "id": "Vs3NNyNU0L_U"
      },
      "outputs": [],
      "source": [
        "import pickle\n",
        "\n",
        "# Save the trained classifier model\n",
        "with open('ids_online_model.pkl', 'wb') as f:\n",
        "    pickle.dump(model4,f)\n",
        "\n",
        "\n"
      ]
    },
    {
      "cell_type": "code",
      "execution_count": null,
      "metadata": {
        "id": "dWfsqaOeL05f"
      },
      "outputs": [],
      "source": []
    },
    {
      "cell_type": "code",
      "execution_count": 129,
      "metadata": {
        "colab": {
          "base_uri": "https://localhost:8080/"
        },
        "id": "U0gLvBhDSzWD",
        "outputId": "ecdd6504-a811-4b75-a64a-0644af08958c"
      },
      "outputs": [
        {
          "name": "stdout",
          "output_type": "stream",
          "text": [
            "0\n",
            "Normal\n"
          ]
        }
      ],
      "source": [
        "i=[[54865,3,2,0,12,0,6,6,6,0,0,0,0,0,4000000,666666.6667,3,0,3,3,3,3,0,3,3,0,0,0,0,0,0,0,0,0,40,0,666666.6667,0,6,6,6,0,0,0,0,0,0,1,0,0,0,0,9,6,0,40,0,0,0,0,0,0,2,12,0,0,33,-1,1,20,0,0,0,0,0,0,0,0]]\n",
        "\n",
        "with open('ids_online_model.pkl', 'rb') as f:\n",
        "    ids_online_model = pickle.load(f)\n",
        "\n",
        "class_labels = [\"Normal\", \"Anamoly\"]\n",
        "\n",
        "predictions = []\n",
        "for instance in i:\n",
        "    instance = np.array(instance)\n",
        "    prediction = ids_online_model.predict_proba_one(instance)\n",
        "    predicted_class = max(prediction, key=prediction.get)\n",
        "    predictions.append(predicted_class)\n",
        "\n",
        "for prediction in predictions:\n",
        "  print(prediction)\n",
        "  class_label = class_labels[prediction]\n",
        "  print(class_label)\n"
      ]
    },
    {
      "cell_type": "code",
      "execution_count": 122,
      "metadata": {
        "id": "ThGxtzrtVxWs"
      },
      "outputs": [],
      "source": [
        "import os\n",
        "import time\n",
        "import pickle\n",
        "import smtplib\n",
        "from email.mime.text import MIMEText\n",
        "import pandas as pd\n",
        "import numpy as np\n",
        "import matplotlib.pyplot as plt\n",
        "import seaborn as sns\n",
        "from sklearn.model_selection import train_test_split\n",
        "from sklearn.metrics import classification_report, confusion_matrix, accuracy_score, precision_score, recall_score, f1_score\n",
        "import lightgbm as lgb\n",
        "from sklearn.preprocessing import LabelEncoder, StandardScaler\n",
        "from sklearn.pipeline import Pipeline\n",
        "from sklearn.model_selection import GridSearchCV\n",
        "from scipy.stats import shapiro\n",
        "from imblearn.over_sampling import SMOTE\n",
        "import warnings\n",
        "warnings.filterwarnings('ignore')\n"
      ]
    },
    {
      "cell_type": "code",
      "execution_count": 123,
      "metadata": {
        "id": "8aVlSmPjyPyC"
      },
      "outputs": [],
      "source": [
        "def send_alert(subject, message):\n",
        "    sender_email = \"gmeghana0408@gmail.com\"\n",
        "    receiver_email = \"shivakalagujjari99@gmail.com\"\n",
        "    password = \"dyff bhyz pdwg fseh\"\n",
        "\n",
        "    msg = MIMEText(message)\n",
        "    msg['Subject'] = subject\n",
        "    msg['From'] = sender_email\n",
        "    msg['To'] = receiver_email\n",
        "\n",
        "    try:\n",
        "        server = smtplib.SMTP('smtp.gmail.com', 587)  # Replace with your SMTP server details\n",
        "        server.starttls()\n",
        "        server.login(sender_email, password)\n",
        "        server.sendmail(sender_email, receiver_email, msg.as_string())\n",
        "        server.quit()\n",
        "        print(\"Email sent!\")\n",
        "    except Exception as e:\n",
        "        print(f\"Failed to send email: {e}\")\n"
      ]
    },
    {
      "cell_type": "code",
      "execution_count": 124,
      "metadata": {
        "colab": {
          "base_uri": "https://localhost:8080/",
          "height": 373
        },
        "id": "dy6FvI1gyzy0",
        "outputId": "365a7d40-dd2c-4006-a3ff-4badd81dc737"
      },
      "outputs": [
        {
          "ename": "FileNotFoundError",
          "evalue": "[Errno 2] No such file or directory: '/content/cic_0.01km (1).csv'",
          "output_type": "error",
          "traceback": [
            "\u001b[0;31m---------------------------------------------------------------------------\u001b[0m",
            "\u001b[0;31mFileNotFoundError\u001b[0m                         Traceback (most recent call last)",
            "\u001b[0;32m<ipython-input-124-20e9ad3453a9>\u001b[0m in \u001b[0;36m<cell line: 4>\u001b[0;34m()\u001b[0m\n\u001b[1;32m      2\u001b[0m     \u001b[0mids_online_model\u001b[0m \u001b[0;34m=\u001b[0m \u001b[0mpickle\u001b[0m\u001b[0;34m.\u001b[0m\u001b[0mload\u001b[0m\u001b[0;34m(\u001b[0m\u001b[0mf\u001b[0m\u001b[0;34m)\u001b[0m\u001b[0;34m\u001b[0m\u001b[0;34m\u001b[0m\u001b[0m\n\u001b[1;32m      3\u001b[0m \u001b[0;34m\u001b[0m\u001b[0m\n\u001b[0;32m----> 4\u001b[0;31m \u001b[0mdf\u001b[0m \u001b[0;34m=\u001b[0m \u001b[0mpd\u001b[0m\u001b[0;34m.\u001b[0m\u001b[0mread_csv\u001b[0m\u001b[0;34m(\u001b[0m\u001b[0;34m\"/content/cic_0.01km (1).csv\"\u001b[0m\u001b[0;34m)\u001b[0m\u001b[0;34m\u001b[0m\u001b[0;34m\u001b[0m\u001b[0m\n\u001b[0m\u001b[1;32m      5\u001b[0m df.columns=['Flow Duration', 'Total Length of Fwd Packets', 'Fwd Packet Length Max',\n\u001b[1;32m      6\u001b[0m        \u001b[0;34m'Fwd Packet Length Mean'\u001b[0m\u001b[0;34m,\u001b[0m \u001b[0;34m'Bwd Packet Length Max'\u001b[0m\u001b[0;34m,\u001b[0m\u001b[0;34m\u001b[0m\u001b[0;34m\u001b[0m\u001b[0m\n",
            "\u001b[0;32m/usr/local/lib/python3.10/dist-packages/pandas/io/parsers/readers.py\u001b[0m in \u001b[0;36mread_csv\u001b[0;34m(filepath_or_buffer, sep, delimiter, header, names, index_col, usecols, dtype, engine, converters, true_values, false_values, skipinitialspace, skiprows, skipfooter, nrows, na_values, keep_default_na, na_filter, verbose, skip_blank_lines, parse_dates, infer_datetime_format, keep_date_col, date_parser, date_format, dayfirst, cache_dates, iterator, chunksize, compression, thousands, decimal, lineterminator, quotechar, quoting, doublequote, escapechar, comment, encoding, encoding_errors, dialect, on_bad_lines, delim_whitespace, low_memory, memory_map, float_precision, storage_options, dtype_backend)\u001b[0m\n\u001b[1;32m    910\u001b[0m     \u001b[0mparse_dates\u001b[0m\u001b[0;34m:\u001b[0m \u001b[0mbool\u001b[0m \u001b[0;34m|\u001b[0m \u001b[0mSequence\u001b[0m\u001b[0;34m[\u001b[0m\u001b[0mHashable\u001b[0m\u001b[0;34m]\u001b[0m \u001b[0;34m|\u001b[0m \u001b[0;32mNone\u001b[0m \u001b[0;34m=\u001b[0m \u001b[0;32mNone\u001b[0m\u001b[0;34m,\u001b[0m\u001b[0;34m\u001b[0m\u001b[0;34m\u001b[0m\u001b[0m\n\u001b[1;32m    911\u001b[0m     \u001b[0minfer_datetime_format\u001b[0m\u001b[0;34m:\u001b[0m \u001b[0mbool\u001b[0m \u001b[0;34m|\u001b[0m \u001b[0mlib\u001b[0m\u001b[0;34m.\u001b[0m\u001b[0mNoDefault\u001b[0m \u001b[0;34m=\u001b[0m \u001b[0mlib\u001b[0m\u001b[0;34m.\u001b[0m\u001b[0mno_default\u001b[0m\u001b[0;34m,\u001b[0m\u001b[0;34m\u001b[0m\u001b[0;34m\u001b[0m\u001b[0m\n\u001b[0;32m--> 912\u001b[0;31m     \u001b[0mkeep_date_col\u001b[0m\u001b[0;34m:\u001b[0m \u001b[0mbool\u001b[0m \u001b[0;34m|\u001b[0m \u001b[0mlib\u001b[0m\u001b[0;34m.\u001b[0m\u001b[0mNoDefault\u001b[0m \u001b[0;34m=\u001b[0m \u001b[0mlib\u001b[0m\u001b[0;34m.\u001b[0m\u001b[0mno_default\u001b[0m\u001b[0;34m,\u001b[0m\u001b[0;34m\u001b[0m\u001b[0;34m\u001b[0m\u001b[0m\n\u001b[0m\u001b[1;32m    913\u001b[0m     \u001b[0mdate_parser\u001b[0m\u001b[0;34m:\u001b[0m \u001b[0mCallable\u001b[0m \u001b[0;34m|\u001b[0m \u001b[0mlib\u001b[0m\u001b[0;34m.\u001b[0m\u001b[0mNoDefault\u001b[0m \u001b[0;34m=\u001b[0m \u001b[0mlib\u001b[0m\u001b[0;34m.\u001b[0m\u001b[0mno_default\u001b[0m\u001b[0;34m,\u001b[0m\u001b[0;34m\u001b[0m\u001b[0;34m\u001b[0m\u001b[0m\n\u001b[1;32m    914\u001b[0m     \u001b[0mdate_format\u001b[0m\u001b[0;34m:\u001b[0m \u001b[0mstr\u001b[0m \u001b[0;34m|\u001b[0m \u001b[0mdict\u001b[0m\u001b[0;34m[\u001b[0m\u001b[0mHashable\u001b[0m\u001b[0;34m,\u001b[0m \u001b[0mstr\u001b[0m\u001b[0;34m]\u001b[0m \u001b[0;34m|\u001b[0m \u001b[0;32mNone\u001b[0m \u001b[0;34m=\u001b[0m \u001b[0;32mNone\u001b[0m\u001b[0;34m,\u001b[0m\u001b[0;34m\u001b[0m\u001b[0;34m\u001b[0m\u001b[0m\n",
            "\u001b[0;32m/usr/local/lib/python3.10/dist-packages/pandas/io/parsers/readers.py\u001b[0m in \u001b[0;36m_read\u001b[0;34m(filepath_or_buffer, kwds)\u001b[0m\n\u001b[1;32m    575\u001b[0m         \u001b[0;32mif\u001b[0m \u001b[0mlen\u001b[0m\u001b[0;34m(\u001b[0m\u001b[0mnames\u001b[0m\u001b[0;34m)\u001b[0m \u001b[0;34m!=\u001b[0m \u001b[0mlen\u001b[0m\u001b[0;34m(\u001b[0m\u001b[0mset\u001b[0m\u001b[0;34m(\u001b[0m\u001b[0mnames\u001b[0m\u001b[0;34m)\u001b[0m\u001b[0;34m)\u001b[0m\u001b[0;34m:\u001b[0m\u001b[0;34m\u001b[0m\u001b[0;34m\u001b[0m\u001b[0m\n\u001b[1;32m    576\u001b[0m             \u001b[0;32mraise\u001b[0m \u001b[0mValueError\u001b[0m\u001b[0;34m(\u001b[0m\u001b[0;34m\"Duplicate names are not allowed.\"\u001b[0m\u001b[0;34m)\u001b[0m\u001b[0;34m\u001b[0m\u001b[0;34m\u001b[0m\u001b[0m\n\u001b[0;32m--> 577\u001b[0;31m         if not (\n\u001b[0m\u001b[1;32m    578\u001b[0m             \u001b[0mis_list_like\u001b[0m\u001b[0;34m(\u001b[0m\u001b[0mnames\u001b[0m\u001b[0;34m,\u001b[0m \u001b[0mallow_sets\u001b[0m\u001b[0;34m=\u001b[0m\u001b[0;32mFalse\u001b[0m\u001b[0;34m)\u001b[0m \u001b[0;32mor\u001b[0m \u001b[0misinstance\u001b[0m\u001b[0;34m(\u001b[0m\u001b[0mnames\u001b[0m\u001b[0;34m,\u001b[0m \u001b[0mabc\u001b[0m\u001b[0;34m.\u001b[0m\u001b[0mKeysView\u001b[0m\u001b[0;34m)\u001b[0m\u001b[0;34m\u001b[0m\u001b[0;34m\u001b[0m\u001b[0m\n\u001b[1;32m    579\u001b[0m         ):\n",
            "\u001b[0;32m/usr/local/lib/python3.10/dist-packages/pandas/io/parsers/readers.py\u001b[0m in \u001b[0;36m__init__\u001b[0;34m(self, f, engine, **kwds)\u001b[0m\n\u001b[1;32m   1405\u001b[0m     \u001b[0;32mreturn\u001b[0m \u001b[0m_read\u001b[0m\u001b[0;34m(\u001b[0m\u001b[0mfilepath_or_buffer\u001b[0m\u001b[0;34m,\u001b[0m \u001b[0mkwds\u001b[0m\u001b[0;34m)\u001b[0m\u001b[0;34m\u001b[0m\u001b[0;34m\u001b[0m\u001b[0m\n\u001b[1;32m   1406\u001b[0m \u001b[0;34m\u001b[0m\u001b[0m\n\u001b[0;32m-> 1407\u001b[0;31m \u001b[0;34m\u001b[0m\u001b[0m\n\u001b[0m\u001b[1;32m   1408\u001b[0m \u001b[0;34m@\u001b[0m\u001b[0moverload\u001b[0m\u001b[0;34m\u001b[0m\u001b[0;34m\u001b[0m\u001b[0m\n\u001b[1;32m   1409\u001b[0m def read_fwf(\n",
            "\u001b[0;32m/usr/local/lib/python3.10/dist-packages/pandas/io/parsers/readers.py\u001b[0m in \u001b[0;36m_make_engine\u001b[0;34m(self, f, engine)\u001b[0m\n\u001b[1;32m   1659\u001b[0m                     \u001b[0;32melse\u001b[0m\u001b[0;34m:\u001b[0m\u001b[0;34m\u001b[0m\u001b[0;34m\u001b[0m\u001b[0m\n\u001b[1;32m   1660\u001b[0m                         raise ValueError(\n\u001b[0;32m-> 1661\u001b[0;31m                             \u001b[0;34mf\"The {repr(argname)} option is not supported with the \"\u001b[0m\u001b[0;34m\u001b[0m\u001b[0;34m\u001b[0m\u001b[0m\n\u001b[0m\u001b[1;32m   1662\u001b[0m                             \u001b[0;34mf\"{repr(engine)} engine\"\u001b[0m\u001b[0;34m\u001b[0m\u001b[0;34m\u001b[0m\u001b[0m\n\u001b[1;32m   1663\u001b[0m                         )\n",
            "\u001b[0;32m/usr/local/lib/python3.10/dist-packages/pandas/io/common.py\u001b[0m in \u001b[0;36mget_handle\u001b[0;34m(path_or_buf, mode, encoding, compression, memory_map, is_text, errors, storage_options)\u001b[0m\n\u001b[1;32m    857\u001b[0m                 \u001b[0;34m**\u001b[0m\u001b[0mopen_args\u001b[0m\u001b[0;34m,\u001b[0m\u001b[0;34m\u001b[0m\u001b[0;34m\u001b[0m\u001b[0m\n\u001b[1;32m    858\u001b[0m             )\n\u001b[0;32m--> 859\u001b[0;31m \u001b[0;34m\u001b[0m\u001b[0m\n\u001b[0m\u001b[1;32m    860\u001b[0m         \u001b[0;31m# Unrecognized Compression\u001b[0m\u001b[0;34m\u001b[0m\u001b[0;34m\u001b[0m\u001b[0m\n\u001b[1;32m    861\u001b[0m         \u001b[0;32melse\u001b[0m\u001b[0;34m:\u001b[0m\u001b[0;34m\u001b[0m\u001b[0;34m\u001b[0m\u001b[0m\n",
            "\u001b[0;31mFileNotFoundError\u001b[0m: [Errno 2] No such file or directory: '/content/cic_0.01km (1).csv'"
          ]
        }
      ],
      "source": [
        "with open('/content/ids_online_model.pkl', 'rb') as f:\n",
        "    ids_online_model = pickle.load(f)\n",
        "\n",
        "df = pd.read_csv(\"/content/Friday-WorkingHours-Afternoon-PortScan.pcap_ISCX.csv\")\n",
        "df.columns=['Flow Duration', 'Total Length of Fwd Packets', 'Fwd Packet Length Max',\n",
        "       'Fwd Packet Length Mean', 'Bwd Packet Length Max',\n",
        "       'Bwd Packet Length Min', 'Flow IAT Mean', 'Flow IAT Min', 'Fwd IAT Min',\n",
        "       'Fwd Header Length', 'Bwd Header Length', 'Fwd Packets/s',\n",
        "       'Bwd Packets/s', 'Min Packet Length', 'URG Flag Count', 'Down/Up Ratio',\n",
        "       'Init_Win_bytes_forward', 'Init_Win_bytes_backward',\n",
        "       'min_seg_size_forward', 'Label']\n",
        "\n",
        "def Auto_Encoding(df):\n",
        "    cat_features = [x for x in df.columns if df[x].dtype == \"object\"]\n",
        "    le = LabelEncoder()\n",
        "    for col in cat_features:\n",
        "        if col in df.columns:\n",
        "            i = df.columns.get_loc(col)\n",
        "            df.iloc[:, i] = df.apply(lambda i: le.fit_transform(i.astype(str)), axis=0, result_type='expand')\n",
        "    return df\n",
        "\n",
        "def Auto_Imputation(df):\n",
        "    if df.isnull().values.any() or np.isinf(df).values.any():\n",
        "        df.replace([np.inf, -np.inf], np.nan, inplace=True)\n",
        "        df.fillna(0, inplace=True)\n",
        "    return df\n",
        "\n",
        "df = Auto_Encoding(df)\n",
        "df = Auto_Imputation(df)\n"
      ]
    },
    {
      "cell_type": "code",
      "execution_count": null,
      "metadata": {
        "id": "jRc_ciVUk18c"
      },
      "outputs": [],
      "source": [
        "print(dir(ids_online_model))\n"
      ]
    },
    {
      "cell_type": "code",
      "execution_count": null,
      "metadata": {
        "id": "8P3XZJ1r9zVM"
      },
      "outputs": [],
      "source": [
        "# Function to preprocess new data and make predictions\n",
        "def process_and_predict(new_data):\n",
        "    predictions = []\n",
        "    for _, row in new_data.iterrows():\n",
        "        # Convert the row to a dictionary format expected by predict_one or predict_proba_one\n",
        "        row_dict = row.to_dict()\n",
        "        prediction = ids_online_model.predict_one(row_dict)  # Use predict_one\n",
        "        predictions.append(prediction)\n",
        "    return predictions\n",
        "\n",
        "\n",
        "import os\n",
        "\n",
        "# Specify your desired directory path\n",
        "watch_dir = '/content/data/new_data'\n",
        "\n",
        "# Check if watch_dir exists, create it if not\n",
        "if not os.path.exists(watch_dir):\n",
        "    os.makedirs(watch_dir)\n",
        "    print(f\"Directory {watch_dir} created.\")\n",
        "\n",
        "# Now you can proceed with the main script logic\n",
        "while True:\n",
        "    #time.sleep(60)  # Check for new data every 60 seconds\n",
        "\n",
        "    files = os.listdir(watch_dir)\n",
        "\n",
        "    for file in files:\n",
        "        if file.endswith('.csv'):\n",
        "            file_path = os.path.join(watch_dir, file)\n",
        "            new_data = pd.read_csv(file_path)\n",
        "            new_data = Auto_Encoding(new_data)\n",
        "            new_data = Auto_Imputation(new_data)\n",
        "\n",
        "            prediction = process_and_predict(new_data)\n",
        "\n",
        "            if 1 in prediction:  # Assuming 1 represents an anomaly\n",
        "                subject = \"Anomaly Detected!\"\n",
        "                message = f\"An anomaly has been detected in the file: {file}\"\n",
        "                send_alert(subject, message)\n",
        "\n",
        "                # Optionally, delete the processed file after sending the alert\n",
        "                os.remove(file_path)\n"
      ]
    }
  ],
  "metadata": {
    "anaconda-cloud": {},
    "colab": {
      "provenance": []
    },
    "kernelspec": {
      "display_name": "Python 3",
      "language": "python",
      "name": "python3"
    },
    "language_info": {
      "codemirror_mode": {
        "name": "ipython",
        "version": 3
      },
      "file_extension": ".py",
      "mimetype": "text/x-python",
      "name": "python",
      "nbconvert_exporter": "python",
      "pygments_lexer": "ipython3",
      "version": "3.6.8"
    }
  },
  "nbformat": 4,
  "nbformat_minor": 0
}
