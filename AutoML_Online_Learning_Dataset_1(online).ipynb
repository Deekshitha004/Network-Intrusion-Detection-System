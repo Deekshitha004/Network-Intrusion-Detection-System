{
  "cells": [
    {
      "cell_type": "markdown",
      "metadata": {
        "id": "view-in-github",
        "colab_type": "text"
      },
      "source": [
        "<a href=\"https://colab.research.google.com/github/Deekshitha004/Network-Intrusion-Detection-System/blob/main/AutoML_Online_Learning_Dataset_1(online).ipynb\" target=\"_parent\"><img src=\"https://colab.research.google.com/assets/colab-badge.svg\" alt=\"Open In Colab\"/></a>"
      ]
    },
    {
      "cell_type": "code",
      "execution_count": null,
      "metadata": {
        "id": "9Rm4xOZUg4DA"
      },
      "outputs": [],
      "source": [
        "\n",
        "import numpy as np\n",
        "import matplotlib.pyplot as plt\n",
        "import seaborn as sns\n",
        "from sklearn.model_selection import train_test_split\n",
        "from sklearn.metrics import classification_report,confusion_matrix,accuracy_score, precision_score, recall_score, f1_score\n",
        "import lightgbm as lgb\n",
        "from sklearn.preprocessing import LabelEncoder\n",
        "from sklearn.metrics import classification_report,confusion_matrix,accuracy_score\n",
        "from sklearn.pipeline import Pipeline\n",
        "from sklearn.model_selection import GridSearchCV\n",
        "from scipy.stats import shapiro\n",
        "from imblearn.over_sampling import SMOTE\n",
        "import time"
      ]
    },
    {
      "cell_type": "code",
      "execution_count": null,
      "metadata": {
        "id": "1jO8QbUGg4DB"
      },
      "outputs": [],
      "source": [
        "import warnings\n",
        "warnings.filterwarnings('ignore')"
      ]
    },
    {
      "cell_type": "code",
      "execution_count": null,
      "metadata": {
        "colab": {
          "base_uri": "https://localhost:8080/"
        },
        "id": "mcth3ZL3iFxz",
        "outputId": "b1e5e76a-2cbc-4032-8405-7b9712090b4a"
      },
      "outputs": [
        {
          "name": "stdout",
          "output_type": "stream",
          "text": [
            "Found existing installation: pandas 1.3.5\n",
            "Uninstalling pandas-1.3.5:\n",
            "  Successfully uninstalled pandas-1.3.5\n"
          ]
        }
      ],
      "source": [
        "!pip uninstall pandas -y"
      ]
    },
    {
      "cell_type": "code",
      "execution_count": null,
      "metadata": {
        "colab": {
          "base_uri": "https://localhost:8080/",
          "height": 325
        },
        "id": "vJv7qwnHiJE0",
        "outputId": "803e1bed-d5a1-4d5a-eafe-bb40cfb59213"
      },
      "outputs": [
        {
          "name": "stdout",
          "output_type": "stream",
          "text": [
            "\u001b[33mWARNING: Ignoring invalid distribution -andas (/usr/local/lib/python3.10/dist-packages)\u001b[0m\u001b[33m\n",
            "\u001b[0mCollecting pandas==2.0.3\n",
            "  Using cached pandas-2.0.3-cp310-cp310-manylinux_2_17_x86_64.manylinux2014_x86_64.whl (12.3 MB)\n",
            "Requirement already satisfied: python-dateutil>=2.8.2 in /usr/local/lib/python3.10/dist-packages (from pandas==2.0.3) (2.8.2)\n",
            "Requirement already satisfied: pytz>=2020.1 in /usr/local/lib/python3.10/dist-packages (from pandas==2.0.3) (2023.4)\n",
            "Requirement already satisfied: tzdata>=2022.1 in /usr/local/lib/python3.10/dist-packages (from pandas==2.0.3) (2024.1)\n",
            "Requirement already satisfied: numpy>=1.21.0 in /usr/local/lib/python3.10/dist-packages (from pandas==2.0.3) (1.25.2)\n",
            "Requirement already satisfied: six>=1.5 in /usr/local/lib/python3.10/dist-packages (from python-dateutil>=2.8.2->pandas==2.0.3) (1.16.0)\n",
            "\u001b[33mWARNING: Ignoring invalid distribution -andas (/usr/local/lib/python3.10/dist-packages)\u001b[0m\u001b[33m\n",
            "\u001b[0mInstalling collected packages: pandas\n",
            "Successfully installed pandas-2.0.3\n"
          ]
        },
        {
          "data": {
            "application/vnd.colab-display-data+json": {
              "id": "757820b0721146a68183f9c75283576c",
              "pip_warning": {
                "packages": [
                  "pandas"
                ]
              }
            }
          },
          "metadata": {},
          "output_type": "display_data"
        }
      ],
      "source": [
        "!pip install pandas==2.0.3"
      ]
    },
    {
      "cell_type": "code",
      "execution_count": null,
      "metadata": {
        "id": "2oKzV64niAHY"
      },
      "outputs": [],
      "source": [
        "import pandas as pd"
      ]
    },
    {
      "cell_type": "code",
      "execution_count": null,
      "metadata": {
        "id": "jSV42LyGg4DC"
      },
      "outputs": [],
      "source": [
        "df = pd.read_csv(\"/content/cic_0.01km.csv\")"
      ]
    },
    {
      "cell_type": "code",
      "execution_count": null,
      "metadata": {
        "colab": {
          "base_uri": "https://localhost:8080/",
          "height": 495
        },
        "id": "a6HYNIIHg4DC",
        "outputId": "63d634ba-b843-4f50-d38f-fa6ab6419d1b"
      },
      "outputs": [
        {
          "data": {
            "application/vnd.google.colaboratory.intrinsic+json": {
              "summary": "{\n  \"name\": \"df\",\n  \"rows\": 28303,\n  \"fields\": [\n    {\n      \"column\": \"Flow Duration\",\n      \"properties\": {\n        \"dtype\": \"number\",\n        \"std\": 33656654,\n        \"min\": -4,\n        \"max\": 119999943,\n        \"num_unique_values\": 16916,\n        \"samples\": [\n          92848,\n          63158280,\n          85689043\n        ],\n        \"semantic_type\": \"\",\n        \"description\": \"\"\n      }\n    },\n    {\n      \"column\": \"Total Length of Fwd Packets\",\n      \"properties\": {\n        \"dtype\": \"number\",\n        \"std\": 5600,\n        \"min\": 0,\n        \"max\": 719406,\n        \"num_unique_values\": 2392,\n        \"samples\": [\n          2960,\n          635,\n          12273\n        ],\n        \"semantic_type\": \"\",\n        \"description\": \"\"\n      }\n    },\n    {\n      \"column\": \"Fwd Packet Length Max\",\n      \"properties\": {\n        \"dtype\": \"number\",\n        \"std\": 704,\n        \"min\": 0,\n        \"max\": 24820,\n        \"num_unique_values\": 1320,\n        \"samples\": [\n          1429,\n          1228,\n          1719\n        ],\n        \"semantic_type\": \"\",\n        \"description\": \"\"\n      }\n    },\n    {\n      \"column\": \"Fwd Packet Length Mean\",\n      \"properties\": {\n        \"dtype\": \"number\",\n        \"std\": 182.86528036770136,\n        \"min\": 0.0,\n        \"max\": 3856.184211,\n        \"num_unique_values\": 4108,\n        \"samples\": [\n          70.69230769,\n          42.85714286,\n          26.18604651\n        ],\n        \"semantic_type\": \"\",\n        \"description\": \"\"\n      }\n    },\n    {\n      \"column\": \"Bwd Packet Length Max\",\n      \"properties\": {\n        \"dtype\": \"number\",\n        \"std\": 1951,\n        \"min\": 0,\n        \"max\": 11632,\n        \"num_unique_values\": 1373,\n        \"samples\": [\n          821,\n          2952,\n          286\n        ],\n        \"semantic_type\": \"\",\n        \"description\": \"\"\n      }\n    },\n    {\n      \"column\": \"Bwd Packet Length Min\",\n      \"properties\": {\n        \"dtype\": \"number\",\n        \"std\": 68,\n        \"min\": 0,\n        \"max\": 1448,\n        \"num_unique_values\": 310,\n        \"samples\": [\n          40,\n          60,\n          242\n        ],\n        \"semantic_type\": \"\",\n        \"description\": \"\"\n      }\n    },\n    {\n      \"column\": \"Flow IAT Mean\",\n      \"properties\": {\n        \"dtype\": \"number\",\n        \"std\": 4255073.900460955,\n        \"min\": -4.0,\n        \"max\": 108000000.0,\n        \"num_unique_values\": 17548,\n        \"samples\": [\n          724.6666667000003,\n          6725975.833,\n          80898.0\n        ],\n        \"semantic_type\": \"\",\n        \"description\": \"\"\n      }\n    },\n    {\n      \"column\": \"Flow IAT Min\",\n      \"properties\": {\n        \"dtype\": \"number\",\n        \"std\": 2509181,\n        \"min\": -4,\n        \"max\": 108000000,\n        \"num_unique_values\": 4299,\n        \"samples\": [\n          23836,\n          94248,\n          415\n        ],\n        \"semantic_type\": \"\",\n        \"description\": \"\"\n      }\n    },\n    {\n      \"column\": \"Fwd IAT Min\",\n      \"properties\": {\n        \"dtype\": \"number\",\n        \"std\": 8506092,\n        \"min\": 0,\n        \"max\": 120000000,\n        \"num_unique_values\": 3192,\n        \"samples\": [\n          23399,\n          1427,\n          868\n        ],\n        \"semantic_type\": \"\",\n        \"description\": \"\"\n      }\n    },\n    {\n      \"column\": \"Fwd Header Length\",\n      \"properties\": {\n        \"dtype\": \"number\",\n        \"std\": 1414,\n        \"min\": 0,\n        \"max\": 213708,\n        \"num_unique_values\": 450,\n        \"samples\": [\n          1996,\n          3744,\n          460\n        ],\n        \"semantic_type\": \"\",\n        \"description\": \"\"\n      }\n    },\n    {\n      \"column\": \"Bwd Header Length\",\n      \"properties\": {\n        \"dtype\": \"number\",\n        \"std\": 1295,\n        \"min\": 0,\n        \"max\": 170832,\n        \"num_unique_values\": 470,\n        \"samples\": [\n          680,\n          232,\n          168\n        ],\n        \"semantic_type\": \"\",\n        \"description\": \"\"\n      }\n    },\n    {\n      \"column\": \"Fwd Packets/s\",\n      \"properties\": {\n        \"dtype\": \"number\",\n        \"std\": 247591.44628531166,\n        \"min\": 0.0,\n        \"max\": 3000000.0,\n        \"num_unique_values\": 17903,\n        \"samples\": [\n          0.24783526,\n          32.81701234,\n          2.574397956\n        ],\n        \"semantic_type\": \"\",\n        \"description\": \"\"\n      }\n    },\n    {\n      \"column\": \"Bwd Packets/s\",\n      \"properties\": {\n        \"dtype\": \"number\",\n        \"std\": 40758.84931949395,\n        \"min\": 0.0,\n        \"max\": 1500000.0,\n        \"num_unique_values\": 16388,\n        \"samples\": [\n          155.1036139,\n          51724.1379310345,\n          0.1348202388\n        ],\n        \"semantic_type\": \"\",\n        \"description\": \"\"\n      }\n    },\n    {\n      \"column\": \"Min Packet Length\",\n      \"properties\": {\n        \"dtype\": \"number\",\n        \"std\": 22,\n        \"min\": 0,\n        \"max\": 337,\n        \"num_unique_values\": 108,\n        \"samples\": [\n          59,\n          52,\n          44\n        ],\n        \"semantic_type\": \"\",\n        \"description\": \"\"\n      }\n    },\n    {\n      \"column\": \"URG Flag Count\",\n      \"properties\": {\n        \"dtype\": \"number\",\n        \"std\": 0,\n        \"min\": 0,\n        \"max\": 1,\n        \"num_unique_values\": 2,\n        \"samples\": [\n          0,\n          1\n        ],\n        \"semantic_type\": \"\",\n        \"description\": \"\"\n      }\n    },\n    {\n      \"column\": \"Down/Up Ratio\",\n      \"properties\": {\n        \"dtype\": \"number\",\n        \"std\": 0,\n        \"min\": 0,\n        \"max\": 7,\n        \"num_unique_values\": 8,\n        \"samples\": [\n          0,\n          4\n        ],\n        \"semantic_type\": \"\",\n        \"description\": \"\"\n      }\n    },\n    {\n      \"column\": \"Init_Win_bytes_forward\",\n      \"properties\": {\n        \"dtype\": \"number\",\n        \"std\": 14311,\n        \"min\": -1,\n        \"max\": 65535,\n        \"num_unique_values\": 1167,\n        \"samples\": [\n          409,\n          2749\n        ],\n        \"semantic_type\": \"\",\n        \"description\": \"\"\n      }\n    },\n    {\n      \"column\": \"Init_Win_bytes_backward\",\n      \"properties\": {\n        \"dtype\": \"number\",\n        \"std\": 8581,\n        \"min\": -1,\n        \"max\": 65535,\n        \"num_unique_values\": 1198,\n        \"samples\": [\n          2221,\n          347\n        ],\n        \"semantic_type\": \"\",\n        \"description\": \"\"\n      }\n    },\n    {\n      \"column\": \"min_seg_size_forward\",\n      \"properties\": {\n        \"dtype\": \"number\",\n        \"std\": 6,\n        \"min\": 0,\n        \"max\": 56,\n        \"num_unique_values\": 10,\n        \"samples\": [\n          52,\n          20\n        ],\n        \"semantic_type\": \"\",\n        \"description\": \"\"\n      }\n    },\n    {\n      \"column\": \"Labelb\",\n      \"properties\": {\n        \"dtype\": \"number\",\n        \"std\": 0,\n        \"min\": 0,\n        \"max\": 1,\n        \"num_unique_values\": 2,\n        \"samples\": [\n          1,\n          0\n        ],\n        \"semantic_type\": \"\",\n        \"description\": \"\"\n      }\n    }\n  ]\n}",
              "type": "dataframe",
              "variable_name": "df"
            },
            "text/html": [
              "\n",
              "  <div id=\"df-af18b723-535e-4743-bf47-9a7734d6f651\" class=\"colab-df-container\">\n",
              "    <div>\n",
              "<style scoped>\n",
              "    .dataframe tbody tr th:only-of-type {\n",
              "        vertical-align: middle;\n",
              "    }\n",
              "\n",
              "    .dataframe tbody tr th {\n",
              "        vertical-align: top;\n",
              "    }\n",
              "\n",
              "    .dataframe thead th {\n",
              "        text-align: right;\n",
              "    }\n",
              "</style>\n",
              "<table border=\"1\" class=\"dataframe\">\n",
              "  <thead>\n",
              "    <tr style=\"text-align: right;\">\n",
              "      <th></th>\n",
              "      <th>Flow Duration</th>\n",
              "      <th>Total Length of Fwd Packets</th>\n",
              "      <th>Fwd Packet Length Max</th>\n",
              "      <th>Fwd Packet Length Mean</th>\n",
              "      <th>Bwd Packet Length Max</th>\n",
              "      <th>Bwd Packet Length Min</th>\n",
              "      <th>Flow IAT Mean</th>\n",
              "      <th>Flow IAT Min</th>\n",
              "      <th>Fwd IAT Min</th>\n",
              "      <th>Fwd Header Length</th>\n",
              "      <th>Bwd Header Length</th>\n",
              "      <th>Fwd Packets/s</th>\n",
              "      <th>Bwd Packets/s</th>\n",
              "      <th>Min Packet Length</th>\n",
              "      <th>URG Flag Count</th>\n",
              "      <th>Down/Up Ratio</th>\n",
              "      <th>Init_Win_bytes_forward</th>\n",
              "      <th>Init_Win_bytes_backward</th>\n",
              "      <th>min_seg_size_forward</th>\n",
              "      <th>Labelb</th>\n",
              "    </tr>\n",
              "  </thead>\n",
              "  <tbody>\n",
              "    <tr>\n",
              "      <th>0</th>\n",
              "      <td>50833</td>\n",
              "      <td>0</td>\n",
              "      <td>0</td>\n",
              "      <td>0.0000</td>\n",
              "      <td>0</td>\n",
              "      <td>0</td>\n",
              "      <td>5.083300e+04</td>\n",
              "      <td>50833</td>\n",
              "      <td>0</td>\n",
              "      <td>32</td>\n",
              "      <td>32</td>\n",
              "      <td>19.672260</td>\n",
              "      <td>19.672260</td>\n",
              "      <td>0</td>\n",
              "      <td>1</td>\n",
              "      <td>1</td>\n",
              "      <td>319</td>\n",
              "      <td>153</td>\n",
              "      <td>32</td>\n",
              "      <td>0</td>\n",
              "    </tr>\n",
              "    <tr>\n",
              "      <th>1</th>\n",
              "      <td>49</td>\n",
              "      <td>0</td>\n",
              "      <td>0</td>\n",
              "      <td>0.0000</td>\n",
              "      <td>0</td>\n",
              "      <td>0</td>\n",
              "      <td>4.900000e+01</td>\n",
              "      <td>49</td>\n",
              "      <td>49</td>\n",
              "      <td>64</td>\n",
              "      <td>0</td>\n",
              "      <td>40816.326530</td>\n",
              "      <td>0.000000</td>\n",
              "      <td>0</td>\n",
              "      <td>0</td>\n",
              "      <td>0</td>\n",
              "      <td>277</td>\n",
              "      <td>-1</td>\n",
              "      <td>32</td>\n",
              "      <td>0</td>\n",
              "    </tr>\n",
              "    <tr>\n",
              "      <th>2</th>\n",
              "      <td>306</td>\n",
              "      <td>6</td>\n",
              "      <td>6</td>\n",
              "      <td>6.0000</td>\n",
              "      <td>6</td>\n",
              "      <td>6</td>\n",
              "      <td>3.060000e+02</td>\n",
              "      <td>306</td>\n",
              "      <td>0</td>\n",
              "      <td>20</td>\n",
              "      <td>20</td>\n",
              "      <td>3267.973856</td>\n",
              "      <td>3267.973856</td>\n",
              "      <td>6</td>\n",
              "      <td>0</td>\n",
              "      <td>1</td>\n",
              "      <td>0</td>\n",
              "      <td>0</td>\n",
              "      <td>20</td>\n",
              "      <td>0</td>\n",
              "    </tr>\n",
              "    <tr>\n",
              "      <th>3</th>\n",
              "      <td>63041</td>\n",
              "      <td>65</td>\n",
              "      <td>65</td>\n",
              "      <td>65.0000</td>\n",
              "      <td>124</td>\n",
              "      <td>124</td>\n",
              "      <td>6.304100e+04</td>\n",
              "      <td>63041</td>\n",
              "      <td>0</td>\n",
              "      <td>32</td>\n",
              "      <td>32</td>\n",
              "      <td>15.862693</td>\n",
              "      <td>15.862693</td>\n",
              "      <td>65</td>\n",
              "      <td>0</td>\n",
              "      <td>1</td>\n",
              "      <td>-1</td>\n",
              "      <td>-1</td>\n",
              "      <td>32</td>\n",
              "      <td>0</td>\n",
              "    </tr>\n",
              "    <tr>\n",
              "      <th>4</th>\n",
              "      <td>47682</td>\n",
              "      <td>43</td>\n",
              "      <td>43</td>\n",
              "      <td>43.0000</td>\n",
              "      <td>59</td>\n",
              "      <td>59</td>\n",
              "      <td>4.768200e+04</td>\n",
              "      <td>47682</td>\n",
              "      <td>0</td>\n",
              "      <td>32</td>\n",
              "      <td>32</td>\n",
              "      <td>20.972275</td>\n",
              "      <td>20.972275</td>\n",
              "      <td>43</td>\n",
              "      <td>0</td>\n",
              "      <td>1</td>\n",
              "      <td>-1</td>\n",
              "      <td>-1</td>\n",
              "      <td>32</td>\n",
              "      <td>0</td>\n",
              "    </tr>\n",
              "    <tr>\n",
              "      <th>...</th>\n",
              "      <td>...</td>\n",
              "      <td>...</td>\n",
              "      <td>...</td>\n",
              "      <td>...</td>\n",
              "      <td>...</td>\n",
              "      <td>...</td>\n",
              "      <td>...</td>\n",
              "      <td>...</td>\n",
              "      <td>...</td>\n",
              "      <td>...</td>\n",
              "      <td>...</td>\n",
              "      <td>...</td>\n",
              "      <td>...</td>\n",
              "      <td>...</td>\n",
              "      <td>...</td>\n",
              "      <td>...</td>\n",
              "      <td>...</td>\n",
              "      <td>...</td>\n",
              "      <td>...</td>\n",
              "      <td>...</td>\n",
              "    </tr>\n",
              "    <tr>\n",
              "      <th>28298</th>\n",
              "      <td>45</td>\n",
              "      <td>0</td>\n",
              "      <td>0</td>\n",
              "      <td>0.0000</td>\n",
              "      <td>0</td>\n",
              "      <td>0</td>\n",
              "      <td>4.500000e+01</td>\n",
              "      <td>45</td>\n",
              "      <td>0</td>\n",
              "      <td>32</td>\n",
              "      <td>32</td>\n",
              "      <td>22222.222220</td>\n",
              "      <td>22222.222220</td>\n",
              "      <td>0</td>\n",
              "      <td>1</td>\n",
              "      <td>1</td>\n",
              "      <td>349</td>\n",
              "      <td>307</td>\n",
              "      <td>32</td>\n",
              "      <td>0</td>\n",
              "    </tr>\n",
              "    <tr>\n",
              "      <th>28299</th>\n",
              "      <td>114309573</td>\n",
              "      <td>511</td>\n",
              "      <td>427</td>\n",
              "      <td>31.9375</td>\n",
              "      <td>746</td>\n",
              "      <td>0</td>\n",
              "      <td>3.941709e+06</td>\n",
              "      <td>94</td>\n",
              "      <td>165</td>\n",
              "      <td>332</td>\n",
              "      <td>424</td>\n",
              "      <td>0.139971</td>\n",
              "      <td>0.122474</td>\n",
              "      <td>0</td>\n",
              "      <td>0</td>\n",
              "      <td>0</td>\n",
              "      <td>8192</td>\n",
              "      <td>343</td>\n",
              "      <td>20</td>\n",
              "      <td>0</td>\n",
              "    </tr>\n",
              "    <tr>\n",
              "      <th>28300</th>\n",
              "      <td>48850</td>\n",
              "      <td>80</td>\n",
              "      <td>40</td>\n",
              "      <td>40.0000</td>\n",
              "      <td>72</td>\n",
              "      <td>72</td>\n",
              "      <td>1.628333e+04</td>\n",
              "      <td>1</td>\n",
              "      <td>48</td>\n",
              "      <td>64</td>\n",
              "      <td>64</td>\n",
              "      <td>40.941658</td>\n",
              "      <td>40.941658</td>\n",
              "      <td>40</td>\n",
              "      <td>0</td>\n",
              "      <td>1</td>\n",
              "      <td>-1</td>\n",
              "      <td>-1</td>\n",
              "      <td>32</td>\n",
              "      <td>0</td>\n",
              "    </tr>\n",
              "    <tr>\n",
              "      <th>28301</th>\n",
              "      <td>260</td>\n",
              "      <td>66</td>\n",
              "      <td>33</td>\n",
              "      <td>33.0000</td>\n",
              "      <td>97</td>\n",
              "      <td>97</td>\n",
              "      <td>8.666667e+01</td>\n",
              "      <td>48</td>\n",
              "      <td>48</td>\n",
              "      <td>40</td>\n",
              "      <td>40</td>\n",
              "      <td>7692.307692</td>\n",
              "      <td>7692.307692</td>\n",
              "      <td>33</td>\n",
              "      <td>0</td>\n",
              "      <td>1</td>\n",
              "      <td>-1</td>\n",
              "      <td>-1</td>\n",
              "      <td>20</td>\n",
              "      <td>0</td>\n",
              "    </tr>\n",
              "    <tr>\n",
              "      <th>28302</th>\n",
              "      <td>25</td>\n",
              "      <td>6</td>\n",
              "      <td>6</td>\n",
              "      <td>6.0000</td>\n",
              "      <td>6</td>\n",
              "      <td>6</td>\n",
              "      <td>2.500000e+01</td>\n",
              "      <td>25</td>\n",
              "      <td>0</td>\n",
              "      <td>20</td>\n",
              "      <td>20</td>\n",
              "      <td>40000.000000</td>\n",
              "      <td>40000.000000</td>\n",
              "      <td>6</td>\n",
              "      <td>1</td>\n",
              "      <td>1</td>\n",
              "      <td>11256</td>\n",
              "      <td>35000</td>\n",
              "      <td>20</td>\n",
              "      <td>0</td>\n",
              "    </tr>\n",
              "  </tbody>\n",
              "</table>\n",
              "<p>28303 rows × 20 columns</p>\n",
              "</div>\n",
              "    <div class=\"colab-df-buttons\">\n",
              "\n",
              "  <div class=\"colab-df-container\">\n",
              "    <button class=\"colab-df-convert\" onclick=\"convertToInteractive('df-af18b723-535e-4743-bf47-9a7734d6f651')\"\n",
              "            title=\"Convert this dataframe to an interactive table.\"\n",
              "            style=\"display:none;\">\n",
              "\n",
              "  <svg xmlns=\"http://www.w3.org/2000/svg\" height=\"24px\" viewBox=\"0 -960 960 960\">\n",
              "    <path d=\"M120-120v-720h720v720H120Zm60-500h600v-160H180v160Zm220 220h160v-160H400v160Zm0 220h160v-160H400v160ZM180-400h160v-160H180v160Zm440 0h160v-160H620v160ZM180-180h160v-160H180v160Zm440 0h160v-160H620v160Z\"/>\n",
              "  </svg>\n",
              "    </button>\n",
              "\n",
              "  <style>\n",
              "    .colab-df-container {\n",
              "      display:flex;\n",
              "      gap: 12px;\n",
              "    }\n",
              "\n",
              "    .colab-df-convert {\n",
              "      background-color: #E8F0FE;\n",
              "      border: none;\n",
              "      border-radius: 50%;\n",
              "      cursor: pointer;\n",
              "      display: none;\n",
              "      fill: #1967D2;\n",
              "      height: 32px;\n",
              "      padding: 0 0 0 0;\n",
              "      width: 32px;\n",
              "    }\n",
              "\n",
              "    .colab-df-convert:hover {\n",
              "      background-color: #E2EBFA;\n",
              "      box-shadow: 0px 1px 2px rgba(60, 64, 67, 0.3), 0px 1px 3px 1px rgba(60, 64, 67, 0.15);\n",
              "      fill: #174EA6;\n",
              "    }\n",
              "\n",
              "    .colab-df-buttons div {\n",
              "      margin-bottom: 4px;\n",
              "    }\n",
              "\n",
              "    [theme=dark] .colab-df-convert {\n",
              "      background-color: #3B4455;\n",
              "      fill: #D2E3FC;\n",
              "    }\n",
              "\n",
              "    [theme=dark] .colab-df-convert:hover {\n",
              "      background-color: #434B5C;\n",
              "      box-shadow: 0px 1px 3px 1px rgba(0, 0, 0, 0.15);\n",
              "      filter: drop-shadow(0px 1px 2px rgba(0, 0, 0, 0.3));\n",
              "      fill: #FFFFFF;\n",
              "    }\n",
              "  </style>\n",
              "\n",
              "    <script>\n",
              "      const buttonEl =\n",
              "        document.querySelector('#df-af18b723-535e-4743-bf47-9a7734d6f651 button.colab-df-convert');\n",
              "      buttonEl.style.display =\n",
              "        google.colab.kernel.accessAllowed ? 'block' : 'none';\n",
              "\n",
              "      async function convertToInteractive(key) {\n",
              "        const element = document.querySelector('#df-af18b723-535e-4743-bf47-9a7734d6f651');\n",
              "        const dataTable =\n",
              "          await google.colab.kernel.invokeFunction('convertToInteractive',\n",
              "                                                    [key], {});\n",
              "        if (!dataTable) return;\n",
              "\n",
              "        const docLinkHtml = 'Like what you see? Visit the ' +\n",
              "          '<a target=\"_blank\" href=https://colab.research.google.com/notebooks/data_table.ipynb>data table notebook</a>'\n",
              "          + ' to learn more about interactive tables.';\n",
              "        element.innerHTML = '';\n",
              "        dataTable['output_type'] = 'display_data';\n",
              "        await google.colab.output.renderOutput(dataTable, element);\n",
              "        const docLink = document.createElement('div');\n",
              "        docLink.innerHTML = docLinkHtml;\n",
              "        element.appendChild(docLink);\n",
              "      }\n",
              "    </script>\n",
              "  </div>\n",
              "\n",
              "\n",
              "<div id=\"df-a9269029-12a9-4508-bfbb-19840e4805b2\">\n",
              "  <button class=\"colab-df-quickchart\" onclick=\"quickchart('df-a9269029-12a9-4508-bfbb-19840e4805b2')\"\n",
              "            title=\"Suggest charts\"\n",
              "            style=\"display:none;\">\n",
              "\n",
              "<svg xmlns=\"http://www.w3.org/2000/svg\" height=\"24px\"viewBox=\"0 0 24 24\"\n",
              "     width=\"24px\">\n",
              "    <g>\n",
              "        <path d=\"M19 3H5c-1.1 0-2 .9-2 2v14c0 1.1.9 2 2 2h14c1.1 0 2-.9 2-2V5c0-1.1-.9-2-2-2zM9 17H7v-7h2v7zm4 0h-2V7h2v10zm4 0h-2v-4h2v4z\"/>\n",
              "    </g>\n",
              "</svg>\n",
              "  </button>\n",
              "\n",
              "<style>\n",
              "  .colab-df-quickchart {\n",
              "      --bg-color: #E8F0FE;\n",
              "      --fill-color: #1967D2;\n",
              "      --hover-bg-color: #E2EBFA;\n",
              "      --hover-fill-color: #174EA6;\n",
              "      --disabled-fill-color: #AAA;\n",
              "      --disabled-bg-color: #DDD;\n",
              "  }\n",
              "\n",
              "  [theme=dark] .colab-df-quickchart {\n",
              "      --bg-color: #3B4455;\n",
              "      --fill-color: #D2E3FC;\n",
              "      --hover-bg-color: #434B5C;\n",
              "      --hover-fill-color: #FFFFFF;\n",
              "      --disabled-bg-color: #3B4455;\n",
              "      --disabled-fill-color: #666;\n",
              "  }\n",
              "\n",
              "  .colab-df-quickchart {\n",
              "    background-color: var(--bg-color);\n",
              "    border: none;\n",
              "    border-radius: 50%;\n",
              "    cursor: pointer;\n",
              "    display: none;\n",
              "    fill: var(--fill-color);\n",
              "    height: 32px;\n",
              "    padding: 0;\n",
              "    width: 32px;\n",
              "  }\n",
              "\n",
              "  .colab-df-quickchart:hover {\n",
              "    background-color: var(--hover-bg-color);\n",
              "    box-shadow: 0 1px 2px rgba(60, 64, 67, 0.3), 0 1px 3px 1px rgba(60, 64, 67, 0.15);\n",
              "    fill: var(--button-hover-fill-color);\n",
              "  }\n",
              "\n",
              "  .colab-df-quickchart-complete:disabled,\n",
              "  .colab-df-quickchart-complete:disabled:hover {\n",
              "    background-color: var(--disabled-bg-color);\n",
              "    fill: var(--disabled-fill-color);\n",
              "    box-shadow: none;\n",
              "  }\n",
              "\n",
              "  .colab-df-spinner {\n",
              "    border: 2px solid var(--fill-color);\n",
              "    border-color: transparent;\n",
              "    border-bottom-color: var(--fill-color);\n",
              "    animation:\n",
              "      spin 1s steps(1) infinite;\n",
              "  }\n",
              "\n",
              "  @keyframes spin {\n",
              "    0% {\n",
              "      border-color: transparent;\n",
              "      border-bottom-color: var(--fill-color);\n",
              "      border-left-color: var(--fill-color);\n",
              "    }\n",
              "    20% {\n",
              "      border-color: transparent;\n",
              "      border-left-color: var(--fill-color);\n",
              "      border-top-color: var(--fill-color);\n",
              "    }\n",
              "    30% {\n",
              "      border-color: transparent;\n",
              "      border-left-color: var(--fill-color);\n",
              "      border-top-color: var(--fill-color);\n",
              "      border-right-color: var(--fill-color);\n",
              "    }\n",
              "    40% {\n",
              "      border-color: transparent;\n",
              "      border-right-color: var(--fill-color);\n",
              "      border-top-color: var(--fill-color);\n",
              "    }\n",
              "    60% {\n",
              "      border-color: transparent;\n",
              "      border-right-color: var(--fill-color);\n",
              "    }\n",
              "    80% {\n",
              "      border-color: transparent;\n",
              "      border-right-color: var(--fill-color);\n",
              "      border-bottom-color: var(--fill-color);\n",
              "    }\n",
              "    90% {\n",
              "      border-color: transparent;\n",
              "      border-bottom-color: var(--fill-color);\n",
              "    }\n",
              "  }\n",
              "</style>\n",
              "\n",
              "  <script>\n",
              "    async function quickchart(key) {\n",
              "      const quickchartButtonEl =\n",
              "        document.querySelector('#' + key + ' button');\n",
              "      quickchartButtonEl.disabled = true;  // To prevent multiple clicks.\n",
              "      quickchartButtonEl.classList.add('colab-df-spinner');\n",
              "      try {\n",
              "        const charts = await google.colab.kernel.invokeFunction(\n",
              "            'suggestCharts', [key], {});\n",
              "      } catch (error) {\n",
              "        console.error('Error during call to suggestCharts:', error);\n",
              "      }\n",
              "      quickchartButtonEl.classList.remove('colab-df-spinner');\n",
              "      quickchartButtonEl.classList.add('colab-df-quickchart-complete');\n",
              "    }\n",
              "    (() => {\n",
              "      let quickchartButtonEl =\n",
              "        document.querySelector('#df-a9269029-12a9-4508-bfbb-19840e4805b2 button');\n",
              "      quickchartButtonEl.style.display =\n",
              "        google.colab.kernel.accessAllowed ? 'block' : 'none';\n",
              "    })();\n",
              "  </script>\n",
              "</div>\n",
              "\n",
              "  <div id=\"id_cef618e2-c783-4876-8622-089f18ef8518\">\n",
              "    <style>\n",
              "      .colab-df-generate {\n",
              "        background-color: #E8F0FE;\n",
              "        border: none;\n",
              "        border-radius: 50%;\n",
              "        cursor: pointer;\n",
              "        display: none;\n",
              "        fill: #1967D2;\n",
              "        height: 32px;\n",
              "        padding: 0 0 0 0;\n",
              "        width: 32px;\n",
              "      }\n",
              "\n",
              "      .colab-df-generate:hover {\n",
              "        background-color: #E2EBFA;\n",
              "        box-shadow: 0px 1px 2px rgba(60, 64, 67, 0.3), 0px 1px 3px 1px rgba(60, 64, 67, 0.15);\n",
              "        fill: #174EA6;\n",
              "      }\n",
              "\n",
              "      [theme=dark] .colab-df-generate {\n",
              "        background-color: #3B4455;\n",
              "        fill: #D2E3FC;\n",
              "      }\n",
              "\n",
              "      [theme=dark] .colab-df-generate:hover {\n",
              "        background-color: #434B5C;\n",
              "        box-shadow: 0px 1px 3px 1px rgba(0, 0, 0, 0.15);\n",
              "        filter: drop-shadow(0px 1px 2px rgba(0, 0, 0, 0.3));\n",
              "        fill: #FFFFFF;\n",
              "      }\n",
              "    </style>\n",
              "    <button class=\"colab-df-generate\" onclick=\"generateWithVariable('df')\"\n",
              "            title=\"Generate code using this dataframe.\"\n",
              "            style=\"display:none;\">\n",
              "\n",
              "  <svg xmlns=\"http://www.w3.org/2000/svg\" height=\"24px\"viewBox=\"0 0 24 24\"\n",
              "       width=\"24px\">\n",
              "    <path d=\"M7,19H8.4L18.45,9,17,7.55,7,17.6ZM5,21V16.75L18.45,3.32a2,2,0,0,1,2.83,0l1.4,1.43a1.91,1.91,0,0,1,.58,1.4,1.91,1.91,0,0,1-.58,1.4L9.25,21ZM18.45,9,17,7.55Zm-12,3A5.31,5.31,0,0,0,4.9,8.1,5.31,5.31,0,0,0,1,6.5,5.31,5.31,0,0,0,4.9,4.9,5.31,5.31,0,0,0,6.5,1,5.31,5.31,0,0,0,8.1,4.9,5.31,5.31,0,0,0,12,6.5,5.46,5.46,0,0,0,6.5,12Z\"/>\n",
              "  </svg>\n",
              "    </button>\n",
              "    <script>\n",
              "      (() => {\n",
              "      const buttonEl =\n",
              "        document.querySelector('#id_cef618e2-c783-4876-8622-089f18ef8518 button.colab-df-generate');\n",
              "      buttonEl.style.display =\n",
              "        google.colab.kernel.accessAllowed ? 'block' : 'none';\n",
              "\n",
              "      buttonEl.onclick = () => {\n",
              "        google.colab.notebook.generateWithVariable('df');\n",
              "      }\n",
              "      })();\n",
              "    </script>\n",
              "  </div>\n",
              "\n",
              "    </div>\n",
              "  </div>\n"
            ],
            "text/plain": [
              "       Flow Duration  Total Length of Fwd Packets  Fwd Packet Length Max  \\\n",
              "0              50833                            0                      0   \n",
              "1                 49                            0                      0   \n",
              "2                306                            6                      6   \n",
              "3              63041                           65                     65   \n",
              "4              47682                           43                     43   \n",
              "...              ...                          ...                    ...   \n",
              "28298             45                            0                      0   \n",
              "28299      114309573                          511                    427   \n",
              "28300          48850                           80                     40   \n",
              "28301            260                           66                     33   \n",
              "28302             25                            6                      6   \n",
              "\n",
              "       Fwd Packet Length Mean  Bwd Packet Length Max  Bwd Packet Length Min  \\\n",
              "0                      0.0000                      0                      0   \n",
              "1                      0.0000                      0                      0   \n",
              "2                      6.0000                      6                      6   \n",
              "3                     65.0000                    124                    124   \n",
              "4                     43.0000                     59                     59   \n",
              "...                       ...                    ...                    ...   \n",
              "28298                  0.0000                      0                      0   \n",
              "28299                 31.9375                    746                      0   \n",
              "28300                 40.0000                     72                     72   \n",
              "28301                 33.0000                     97                     97   \n",
              "28302                  6.0000                      6                      6   \n",
              "\n",
              "       Flow IAT Mean  Flow IAT Min  Fwd IAT Min  Fwd Header Length  \\\n",
              "0       5.083300e+04         50833            0                 32   \n",
              "1       4.900000e+01            49           49                 64   \n",
              "2       3.060000e+02           306            0                 20   \n",
              "3       6.304100e+04         63041            0                 32   \n",
              "4       4.768200e+04         47682            0                 32   \n",
              "...              ...           ...          ...                ...   \n",
              "28298   4.500000e+01            45            0                 32   \n",
              "28299   3.941709e+06            94          165                332   \n",
              "28300   1.628333e+04             1           48                 64   \n",
              "28301   8.666667e+01            48           48                 40   \n",
              "28302   2.500000e+01            25            0                 20   \n",
              "\n",
              "       Bwd Header Length  Fwd Packets/s  Bwd Packets/s  Min Packet Length  \\\n",
              "0                     32      19.672260      19.672260                  0   \n",
              "1                      0   40816.326530       0.000000                  0   \n",
              "2                     20    3267.973856    3267.973856                  6   \n",
              "3                     32      15.862693      15.862693                 65   \n",
              "4                     32      20.972275      20.972275                 43   \n",
              "...                  ...            ...            ...                ...   \n",
              "28298                 32   22222.222220   22222.222220                  0   \n",
              "28299                424       0.139971       0.122474                  0   \n",
              "28300                 64      40.941658      40.941658                 40   \n",
              "28301                 40    7692.307692    7692.307692                 33   \n",
              "28302                 20   40000.000000   40000.000000                  6   \n",
              "\n",
              "       URG Flag Count  Down/Up Ratio  Init_Win_bytes_forward  \\\n",
              "0                   1              1                     319   \n",
              "1                   0              0                     277   \n",
              "2                   0              1                       0   \n",
              "3                   0              1                      -1   \n",
              "4                   0              1                      -1   \n",
              "...               ...            ...                     ...   \n",
              "28298               1              1                     349   \n",
              "28299               0              0                    8192   \n",
              "28300               0              1                      -1   \n",
              "28301               0              1                      -1   \n",
              "28302               1              1                   11256   \n",
              "\n",
              "       Init_Win_bytes_backward  min_seg_size_forward  Labelb  \n",
              "0                          153                    32       0  \n",
              "1                           -1                    32       0  \n",
              "2                            0                    20       0  \n",
              "3                           -1                    32       0  \n",
              "4                           -1                    32       0  \n",
              "...                        ...                   ...     ...  \n",
              "28298                      307                    32       0  \n",
              "28299                      343                    20       0  \n",
              "28300                       -1                    32       0  \n",
              "28301                       -1                    20       0  \n",
              "28302                    35000                    20       0  \n",
              "\n",
              "[28303 rows x 20 columns]"
            ]
          },
          "execution_count": 78,
          "metadata": {},
          "output_type": "execute_result"
        }
      ],
      "source": [
        "df"
      ]
    },
    {
      "cell_type": "code",
      "execution_count": null,
      "metadata": {
        "colab": {
          "base_uri": "https://localhost:8080/"
        },
        "id": "Zzu7X-jgmKP-",
        "outputId": "a2c4b5f4-f16e-4323-904e-d66e89fb163c"
      },
      "outputs": [
        {
          "data": {
            "text/plain": [
              "Index(['Flow Duration', 'Total Length of Fwd Packets', 'Fwd Packet Length Max',\n",
              "       'Fwd Packet Length Mean', 'Bwd Packet Length Max',\n",
              "       'Bwd Packet Length Min', 'Flow IAT Mean', 'Flow IAT Min', 'Fwd IAT Min',\n",
              "       'Fwd Header Length', 'Bwd Header Length', 'Fwd Packets/s',\n",
              "       'Bwd Packets/s', 'Min Packet Length', 'URG Flag Count', 'Down/Up Ratio',\n",
              "       'Init_Win_bytes_forward', 'Init_Win_bytes_backward',\n",
              "       'min_seg_size_forward', 'Labelb'],\n",
              "      dtype='object')"
            ]
          },
          "execution_count": 79,
          "metadata": {},
          "output_type": "execute_result"
        }
      ],
      "source": [
        "df.columns\n"
      ]
    },
    {
      "cell_type": "code",
      "execution_count": null,
      "metadata": {
        "id": "34bLWYLcmNbh"
      },
      "outputs": [],
      "source": [
        "df.columns=['Flow Duration', 'Total Length of Fwd Packets', 'Fwd Packet Length Max',\n",
        "       'Fwd Packet Length Mean', 'Bwd Packet Length Max',\n",
        "       'Bwd Packet Length Min', 'Flow IAT Mean', 'Flow IAT Min', 'Fwd IAT Min',\n",
        "       'Fwd Header Length', 'Bwd Header Length', 'Fwd Packets/s',\n",
        "       'Bwd Packets/s', 'Min Packet Length', 'URG Flag Count', 'Down/Up Ratio',\n",
        "       'Init_Win_bytes_forward', 'Init_Win_bytes_backward',\n",
        "       'min_seg_size_forward', 'Label']"
      ]
    },
    {
      "cell_type": "code",
      "execution_count": null,
      "metadata": {
        "id": "8knJ0iahg4DF"
      },
      "outputs": [],
      "source": [
        "# Define the automated data encoding function\n",
        "def Auto_Encoding(df):\n",
        "    cat_features=[x for x in df.columns if df[x].dtype==\"object\"] ## Find string/text features\n",
        "    le=LabelEncoder()\n",
        "    for col in cat_features:\n",
        "        if col in df.columns:\n",
        "            i = df.columns.get_loc(col)\n",
        "            # Transform to numerical features\n",
        "            df.iloc[:,i] = df.apply(lambda i:le.fit_transform(i.astype(str)), axis=0, result_type='expand')\n",
        "    return df"
      ]
    },
    {
      "cell_type": "code",
      "execution_count": null,
      "metadata": {
        "id": "Zzfq0F7fg4DF"
      },
      "outputs": [],
      "source": [
        "df=Auto_Encoding(df)"
      ]
    },
    {
      "cell_type": "code",
      "execution_count": null,
      "metadata": {
        "id": "oX0ch6f8g4DG"
      },
      "outputs": [],
      "source": [
        "# Define the automated data imputation function\n",
        "def Auto_Imputation(df):\n",
        "    if df.isnull().values.any() or np.isinf(df).values.any(): # if there is any empty or infinite values\n",
        "        df.replace([np.inf, -np.inf], np.nan, inplace=True)\n",
        "        df.fillna(0, inplace = True)  # Replace empty values with zeros; there are other imputation methods discussed in the paper\n",
        "    return df"
      ]
    },
    {
      "cell_type": "code",
      "source": [],
      "metadata": {
        "id": "ORjkCE_KIZBM"
      },
      "execution_count": null,
      "outputs": []
    },
    {
      "cell_type": "code",
      "execution_count": null,
      "metadata": {
        "id": "nv3zb14Cg4DH"
      },
      "outputs": [],
      "source": [
        "df=Auto_Imputation(df)"
      ]
    },
    {
      "cell_type": "markdown",
      "metadata": {
        "id": "z1JC2TI_g4DI"
      },
      "source": [
        "## Automated normalization\n",
        "Normalize the range of features to a similar scale to improve data quality"
      ]
    },
    {
      "cell_type": "code",
      "execution_count": null,
      "metadata": {
        "id": "z1g76Jlmg4DI",
        "scrolled": true
      },
      "outputs": [],
      "source": [
        "def Auto_Normalization(df):\n",
        "    stat, p = shapiro(df)\n",
        "    print('Statistics=%.3f, p=%.3f' % (stat, p))\n",
        "    # interpret\n",
        "    alpha = 0.05\n",
        "    numeric_features = df.drop(['Label'],axis = 1).dtypes[df.dtypes != 'object'].index\n",
        "\n",
        "    # check if the data distribution follows a Gaussian/normal distribution\n",
        "    # If so, select the Z-score normalization method; otherwise, select the min-max normalization\n",
        "    # Details are in the paper\n",
        "    if p > alpha:\n",
        "        print('Sample looks Gaussian (fail to reject H0)')\n",
        "        df[numeric_features] = df[numeric_features].apply(\n",
        "            lambda x: (x - x.mean()) / (x.std()))\n",
        "        print('Z-score normalization is automatically chosen and used')\n",
        "    else:\n",
        "        print('Sample does not look Gaussian (reject H0)')\n",
        "        df[numeric_features] = df[numeric_features].apply(\n",
        "            lambda x: (x - x.min()) / (x.max()-x.min()))\n",
        "        print('Min-max normalization is automatically chosen and used')\n",
        "    return df"
      ]
    },
    {
      "cell_type": "code",
      "execution_count": null,
      "metadata": {
        "colab": {
          "base_uri": "https://localhost:8080/"
        },
        "id": "ZtSxNq-lg4DJ",
        "outputId": "4f624bed-8b53-4800-f55a-8a54a0c9c319"
      },
      "outputs": [
        {
          "name": "stdout",
          "output_type": "stream",
          "text": [
            "Statistics=0.076, p=0.000\n",
            "Sample does not look Gaussian (reject H0)\n",
            "Min-max normalization is automatically chosen and used\n"
          ]
        }
      ],
      "source": [
        "df=Auto_Normalization(df)"
      ]
    },
    {
      "cell_type": "markdown",
      "metadata": {
        "id": "W1oh4pIjg4DJ"
      },
      "source": [
        "# 2. Automated Feature Engineering\n",
        "Feature selection method 1: **Information Gain (IG)**, used to remove irrelevant features to improve model efficiency  \n",
        "Feature selection method 2: **Pearson Correlation**, used to remove redundant features to improve model efficiency and accuracy  "
      ]
    },
    {
      "cell_type": "code",
      "execution_count": null,
      "metadata": {
        "id": "a_FBPigAg4DK"
      },
      "outputs": [],
      "source": [
        "# Remove irrelevant features and select important features\n",
        "def Feature_Importance_IG(data):\n",
        "    features = data.drop(['Label'],axis=1).values  # \"Label\" should be changed to the target class variable name if different\n",
        "    labels = data['Label'].values\n",
        "\n",
        "    # Extract feature names\n",
        "    feature_names = list(data.drop(['Label'],axis=1).columns)\n",
        "\n",
        "    # Empty array for feature importances\n",
        "    feature_importance_values = np.zeros(len(feature_names))\n",
        "    model = lgb.LGBMRegressor(verbose = -1)\n",
        "    model.fit(features, labels)\n",
        "    feature_importances = pd.DataFrame({'feature': feature_names, 'importance': model.feature_importances_})\n",
        "\n",
        "    # Sort features according to importance\n",
        "    feature_importances = feature_importances.sort_values('importance', ascending = False).reset_index(drop = True)\n",
        "\n",
        "    # Normalize the feature importances to add up to one\n",
        "    feature_importances['normalized_importance'] = feature_importances['importance'] / feature_importances['importance'].sum()\n",
        "    feature_importances['cumulative_importance'] = np.cumsum(feature_importances['normalized_importance'])\n",
        "\n",
        "    cumulative_importance=0.90 # Only keep the important features with cumulative importance scores>=90%. It can be changed.\n",
        "\n",
        "    # Make sure most important features are on top\n",
        "    feature_importances = feature_importances.sort_values('cumulative_importance')\n",
        "\n",
        "    # Identify the features not needed to reach the cumulative_importance\n",
        "    record_low_importance = feature_importances[feature_importances['cumulative_importance'] > cumulative_importance]\n",
        "\n",
        "    to_drop = list(record_low_importance['feature'])\n",
        "#     print(feature_importances.drop(['importance'],axis=1))\n",
        "    return to_drop"
      ]
    },
    {
      "cell_type": "code",
      "execution_count": null,
      "metadata": {
        "id": "yaeL0wbQg4DK"
      },
      "outputs": [],
      "source": [
        "def Feature_Redundancy_Pearson(data):\n",
        "    correlation_threshold = 0.90\n",
        "    features = data.drop(['Label'], axis=1)\n",
        "    corr_matrix = features.corr()\n",
        "    upper = corr_matrix.where(np.triu(np.ones(corr_matrix.shape), k=1).astype(bool))\n",
        "    to_drop = [column for column in upper.columns if any(upper[column].abs() > correlation_threshold)]\n",
        "\n",
        "    return to_drop"
      ]
    },
    {
      "cell_type": "code",
      "execution_count": null,
      "metadata": {
        "id": "Dj7KYqreg4DL"
      },
      "outputs": [],
      "source": [
        "def Auto_Feature_Engineering(df):\n",
        "    drop1 = Feature_Importance_IG(df)\n",
        "    dfh1 = df.drop(columns=drop1)\n",
        "\n",
        "    drop2 = Feature_Redundancy_Pearson(dfh1)\n",
        "    dfh2 = dfh1.drop(columns=drop2)\n",
        "\n",
        "    return dfh2"
      ]
    },
    {
      "cell_type": "code",
      "execution_count": null,
      "metadata": {
        "colab": {
          "base_uri": "https://localhost:8080/",
          "height": 669
        },
        "id": "aBT690zDg4DL",
        "outputId": "28e60b4f-c800-4b47-c627-b28b392bc497",
        "scrolled": true
      },
      "outputs": [
        {
          "data": {
            "application/vnd.google.colaboratory.intrinsic+json": {
              "summary": "{\n  \"name\": \"dfh2\",\n  \"rows\": 28303,\n  \"fields\": [\n    {\n      \"column\": \"Flow Duration\",\n      \"properties\": {\n        \"dtype\": \"number\",\n        \"std\": 0.28047224682932775,\n        \"min\": 0.0,\n        \"max\": 1.0,\n        \"num_unique_values\": 16916,\n        \"samples\": [\n          0.0007737670084137621,\n          0.5263192657910091,\n          0.7140757070501039\n        ],\n        \"semantic_type\": \"\",\n        \"description\": \"\"\n      }\n    },\n    {\n      \"column\": \"Total Length of Fwd Packets\",\n      \"properties\": {\n        \"dtype\": \"number\",\n        \"std\": 0.007784415261982187,\n        \"min\": 0.0,\n        \"max\": 1.0,\n        \"num_unique_values\": 2392,\n        \"samples\": [\n          0.004114505578213137,\n          0.0008826726493801831,\n          0.01705990775723305\n        ],\n        \"semantic_type\": \"\",\n        \"description\": \"\"\n      }\n    },\n    {\n      \"column\": \"Fwd Packet Length Max\",\n      \"properties\": {\n        \"dtype\": \"number\",\n        \"std\": 0.028364247907715946,\n        \"min\": 0.0,\n        \"max\": 1.0,\n        \"num_unique_values\": 1320,\n        \"samples\": [\n          0.05757453666398066,\n          0.04947622884770347,\n          0.06925866236905721\n        ],\n        \"semantic_type\": \"\",\n        \"description\": \"\"\n      }\n    },\n    {\n      \"column\": \"Fwd Packet Length Mean\",\n      \"properties\": {\n        \"dtype\": \"number\",\n        \"std\": 0.047421303122933564,\n        \"min\": 0.0,\n        \"max\": 1.0,\n        \"num_unique_values\": 4108,\n        \"samples\": [\n          0.01833219157122886,\n          0.011113873330466786,\n          0.006790662758097165\n        ],\n        \"semantic_type\": \"\",\n        \"description\": \"\"\n      }\n    },\n    {\n      \"column\": \"Bwd Packet Length Max\",\n      \"properties\": {\n        \"dtype\": \"number\",\n        \"std\": 0.16774204556173464,\n        \"min\": 0.0,\n        \"max\": 1.0,\n        \"num_unique_values\": 1373,\n        \"samples\": [\n          0.07058115543328748,\n          0.25378266850068776,\n          0.024587345254470427\n        ],\n        \"semantic_type\": \"\",\n        \"description\": \"\"\n      }\n    },\n    {\n      \"column\": \"Flow IAT Mean\",\n      \"properties\": {\n        \"dtype\": \"number\",\n        \"std\": 0.039398830952459545,\n        \"min\": 0.0,\n        \"max\": 1.0,\n        \"num_unique_values\": 17548,\n        \"samples\": [\n          6.746913330669879e-06,\n          0.062277588739718934,\n          0.0007490925648484235\n        ],\n        \"semantic_type\": \"\",\n        \"description\": \"\"\n      }\n    },\n    {\n      \"column\": \"Flow IAT Min\",\n      \"properties\": {\n        \"dtype\": \"number\",\n        \"std\": 0.02323316105776711,\n        \"min\": 0.0,\n        \"max\": 1.0,\n        \"num_unique_values\": 4299,\n        \"samples\": [\n          0.00022074073256515806,\n          0.0008727036713813455,\n          3.879629485939649e-06\n        ],\n        \"semantic_type\": \"\",\n        \"description\": \"\"\n      }\n    },\n    {\n      \"column\": \"Fwd IAT Min\",\n      \"properties\": {\n        \"dtype\": \"number\",\n        \"std\": 0.07088410323443024,\n        \"min\": 0.0,\n        \"max\": 1.0,\n        \"num_unique_values\": 3192,\n        \"samples\": [\n          0.00019499166666666666,\n          1.1891666666666667e-05,\n          7.233333333333333e-06\n        ],\n        \"semantic_type\": \"\",\n        \"description\": \"\"\n      }\n    },\n    {\n      \"column\": \"Fwd Header Length\",\n      \"properties\": {\n        \"dtype\": \"number\",\n        \"std\": 0.00661665655204161,\n        \"min\": 0.0,\n        \"max\": 1.0,\n        \"num_unique_values\": 450,\n        \"samples\": [\n          0.009339846893892601,\n          0.01751923184906508,\n          0.002152469725045389\n        ],\n        \"semantic_type\": \"\",\n        \"description\": \"\"\n      }\n    },\n    {\n      \"column\": \"Bwd Packets/s\",\n      \"properties\": {\n        \"dtype\": \"number\",\n        \"std\": 0.027172566212995963,\n        \"min\": 0.0,\n        \"max\": 1.0,\n        \"num_unique_values\": 16388,\n        \"samples\": [\n          0.00010340240926666667,\n          0.03448275862068967,\n          8.988015919999999e-08\n        ],\n        \"semantic_type\": \"\",\n        \"description\": \"\"\n      }\n    },\n    {\n      \"column\": \"Init_Win_bytes_forward\",\n      \"properties\": {\n        \"dtype\": \"number\",\n        \"std\": 0.21837377404250016,\n        \"min\": 0.0,\n        \"max\": 1.0,\n        \"num_unique_values\": 1167,\n        \"samples\": [\n          0.006256103515625,\n          0.041961669921875,\n          0.0020904541015625\n        ],\n        \"semantic_type\": \"\",\n        \"description\": \"\"\n      }\n    },\n    {\n      \"column\": \"Init_Win_bytes_backward\",\n      \"properties\": {\n        \"dtype\": \"number\",\n        \"std\": 0.1309498474342695,\n        \"min\": 0.0,\n        \"max\": 1.0,\n        \"num_unique_values\": 1198,\n        \"samples\": [\n          0.033905029296875,\n          0.00531005859375,\n          0.00042724609375\n        ],\n        \"semantic_type\": \"\",\n        \"description\": \"\"\n      }\n    },\n    {\n      \"column\": \"Label\",\n      \"properties\": {\n        \"dtype\": \"number\",\n        \"std\": 0,\n        \"min\": 0,\n        \"max\": 1,\n        \"num_unique_values\": 2,\n        \"samples\": [\n          1,\n          0\n        ],\n        \"semantic_type\": \"\",\n        \"description\": \"\"\n      }\n    }\n  ]\n}",
              "type": "dataframe",
              "variable_name": "dfh2"
            },
            "text/html": [
              "\n",
              "  <div id=\"df-2c062ba1-4a2b-4a36-b860-1cdbd8e979b9\" class=\"colab-df-container\">\n",
              "    <div>\n",
              "<style scoped>\n",
              "    .dataframe tbody tr th:only-of-type {\n",
              "        vertical-align: middle;\n",
              "    }\n",
              "\n",
              "    .dataframe tbody tr th {\n",
              "        vertical-align: top;\n",
              "    }\n",
              "\n",
              "    .dataframe thead th {\n",
              "        text-align: right;\n",
              "    }\n",
              "</style>\n",
              "<table border=\"1\" class=\"dataframe\">\n",
              "  <thead>\n",
              "    <tr style=\"text-align: right;\">\n",
              "      <th></th>\n",
              "      <th>Flow Duration</th>\n",
              "      <th>Total Length of Fwd Packets</th>\n",
              "      <th>Fwd Packet Length Max</th>\n",
              "      <th>Fwd Packet Length Mean</th>\n",
              "      <th>Bwd Packet Length Max</th>\n",
              "      <th>Flow IAT Mean</th>\n",
              "      <th>Flow IAT Min</th>\n",
              "      <th>Fwd IAT Min</th>\n",
              "      <th>Fwd Header Length</th>\n",
              "      <th>Bwd Packets/s</th>\n",
              "      <th>Init_Win_bytes_forward</th>\n",
              "      <th>Init_Win_bytes_backward</th>\n",
              "      <th>Label</th>\n",
              "    </tr>\n",
              "  </thead>\n",
              "  <tbody>\n",
              "    <tr>\n",
              "      <th>0</th>\n",
              "      <td>4.236419e-04</td>\n",
              "      <td>0.000000</td>\n",
              "      <td>0.000000</td>\n",
              "      <td>0.000000</td>\n",
              "      <td>0.000000</td>\n",
              "      <td>4.707129e-04</td>\n",
              "      <td>4.707129e-04</td>\n",
              "      <td>0.000000e+00</td>\n",
              "      <td>0.000150</td>\n",
              "      <td>1.311484e-05</td>\n",
              "      <td>0.004883</td>\n",
              "      <td>0.002350</td>\n",
              "      <td>0</td>\n",
              "    </tr>\n",
              "    <tr>\n",
              "      <th>1</th>\n",
              "      <td>4.416669e-07</td>\n",
              "      <td>0.000000</td>\n",
              "      <td>0.000000</td>\n",
              "      <td>0.000000</td>\n",
              "      <td>0.000000</td>\n",
              "      <td>4.907407e-07</td>\n",
              "      <td>4.907407e-07</td>\n",
              "      <td>4.083333e-07</td>\n",
              "      <td>0.000299</td>\n",
              "      <td>0.000000e+00</td>\n",
              "      <td>0.004242</td>\n",
              "      <td>0.000000</td>\n",
              "      <td>0</td>\n",
              "    </tr>\n",
              "    <tr>\n",
              "      <th>2</th>\n",
              "      <td>2.583334e-06</td>\n",
              "      <td>0.000008</td>\n",
              "      <td>0.000242</td>\n",
              "      <td>0.001556</td>\n",
              "      <td>0.000516</td>\n",
              "      <td>2.870370e-06</td>\n",
              "      <td>2.870370e-06</td>\n",
              "      <td>0.000000e+00</td>\n",
              "      <td>0.000094</td>\n",
              "      <td>2.178649e-03</td>\n",
              "      <td>0.000015</td>\n",
              "      <td>0.000015</td>\n",
              "      <td>0</td>\n",
              "    </tr>\n",
              "    <tr>\n",
              "      <th>3</th>\n",
              "      <td>5.253752e-04</td>\n",
              "      <td>0.000090</td>\n",
              "      <td>0.002619</td>\n",
              "      <td>0.016856</td>\n",
              "      <td>0.010660</td>\n",
              "      <td>5.837500e-04</td>\n",
              "      <td>5.837500e-04</td>\n",
              "      <td>0.000000e+00</td>\n",
              "      <td>0.000150</td>\n",
              "      <td>1.057513e-05</td>\n",
              "      <td>0.000000</td>\n",
              "      <td>0.000000</td>\n",
              "      <td>0</td>\n",
              "    </tr>\n",
              "    <tr>\n",
              "      <th>4</th>\n",
              "      <td>3.973835e-04</td>\n",
              "      <td>0.000060</td>\n",
              "      <td>0.001732</td>\n",
              "      <td>0.011151</td>\n",
              "      <td>0.005072</td>\n",
              "      <td>4.415370e-04</td>\n",
              "      <td>4.415370e-04</td>\n",
              "      <td>0.000000e+00</td>\n",
              "      <td>0.000150</td>\n",
              "      <td>1.398152e-05</td>\n",
              "      <td>0.000000</td>\n",
              "      <td>0.000000</td>\n",
              "      <td>0</td>\n",
              "    </tr>\n",
              "    <tr>\n",
              "      <th>...</th>\n",
              "      <td>...</td>\n",
              "      <td>...</td>\n",
              "      <td>...</td>\n",
              "      <td>...</td>\n",
              "      <td>...</td>\n",
              "      <td>...</td>\n",
              "      <td>...</td>\n",
              "      <td>...</td>\n",
              "      <td>...</td>\n",
              "      <td>...</td>\n",
              "      <td>...</td>\n",
              "      <td>...</td>\n",
              "      <td>...</td>\n",
              "    </tr>\n",
              "    <tr>\n",
              "      <th>28298</th>\n",
              "      <td>4.083335e-07</td>\n",
              "      <td>0.000000</td>\n",
              "      <td>0.000000</td>\n",
              "      <td>0.000000</td>\n",
              "      <td>0.000000</td>\n",
              "      <td>4.537037e-07</td>\n",
              "      <td>4.537037e-07</td>\n",
              "      <td>0.000000e+00</td>\n",
              "      <td>0.000150</td>\n",
              "      <td>1.481481e-02</td>\n",
              "      <td>0.005341</td>\n",
              "      <td>0.004700</td>\n",
              "      <td>0</td>\n",
              "    </tr>\n",
              "    <tr>\n",
              "      <th>28299</th>\n",
              "      <td>9.525802e-01</td>\n",
              "      <td>0.000710</td>\n",
              "      <td>0.017204</td>\n",
              "      <td>0.008282</td>\n",
              "      <td>0.064133</td>\n",
              "      <td>3.649735e-02</td>\n",
              "      <td>9.074074e-07</td>\n",
              "      <td>1.375000e-06</td>\n",
              "      <td>0.001554</td>\n",
              "      <td>8.164962e-08</td>\n",
              "      <td>0.125015</td>\n",
              "      <td>0.005249</td>\n",
              "      <td>0</td>\n",
              "    </tr>\n",
              "    <tr>\n",
              "      <th>28300</th>\n",
              "      <td>4.071168e-04</td>\n",
              "      <td>0.000111</td>\n",
              "      <td>0.001612</td>\n",
              "      <td>0.010373</td>\n",
              "      <td>0.006190</td>\n",
              "      <td>1.508086e-04</td>\n",
              "      <td>4.629629e-08</td>\n",
              "      <td>4.000000e-07</td>\n",
              "      <td>0.000299</td>\n",
              "      <td>2.729444e-05</td>\n",
              "      <td>0.000000</td>\n",
              "      <td>0.000000</td>\n",
              "      <td>0</td>\n",
              "    </tr>\n",
              "    <tr>\n",
              "      <th>28301</th>\n",
              "      <td>2.200001e-06</td>\n",
              "      <td>0.000092</td>\n",
              "      <td>0.001330</td>\n",
              "      <td>0.008558</td>\n",
              "      <td>0.008339</td>\n",
              "      <td>8.395061e-07</td>\n",
              "      <td>4.814815e-07</td>\n",
              "      <td>4.000000e-07</td>\n",
              "      <td>0.000187</td>\n",
              "      <td>5.128205e-03</td>\n",
              "      <td>0.000000</td>\n",
              "      <td>0.000000</td>\n",
              "      <td>0</td>\n",
              "    </tr>\n",
              "    <tr>\n",
              "      <th>28302</th>\n",
              "      <td>2.416668e-07</td>\n",
              "      <td>0.000008</td>\n",
              "      <td>0.000242</td>\n",
              "      <td>0.001556</td>\n",
              "      <td>0.000516</td>\n",
              "      <td>2.685185e-07</td>\n",
              "      <td>2.685185e-07</td>\n",
              "      <td>0.000000e+00</td>\n",
              "      <td>0.000094</td>\n",
              "      <td>2.666667e-02</td>\n",
              "      <td>0.171768</td>\n",
              "      <td>0.534073</td>\n",
              "      <td>0</td>\n",
              "    </tr>\n",
              "  </tbody>\n",
              "</table>\n",
              "<p>28303 rows × 13 columns</p>\n",
              "</div>\n",
              "    <div class=\"colab-df-buttons\">\n",
              "\n",
              "  <div class=\"colab-df-container\">\n",
              "    <button class=\"colab-df-convert\" onclick=\"convertToInteractive('df-2c062ba1-4a2b-4a36-b860-1cdbd8e979b9')\"\n",
              "            title=\"Convert this dataframe to an interactive table.\"\n",
              "            style=\"display:none;\">\n",
              "\n",
              "  <svg xmlns=\"http://www.w3.org/2000/svg\" height=\"24px\" viewBox=\"0 -960 960 960\">\n",
              "    <path d=\"M120-120v-720h720v720H120Zm60-500h600v-160H180v160Zm220 220h160v-160H400v160Zm0 220h160v-160H400v160ZM180-400h160v-160H180v160Zm440 0h160v-160H620v160ZM180-180h160v-160H180v160Zm440 0h160v-160H620v160Z\"/>\n",
              "  </svg>\n",
              "    </button>\n",
              "\n",
              "  <style>\n",
              "    .colab-df-container {\n",
              "      display:flex;\n",
              "      gap: 12px;\n",
              "    }\n",
              "\n",
              "    .colab-df-convert {\n",
              "      background-color: #E8F0FE;\n",
              "      border: none;\n",
              "      border-radius: 50%;\n",
              "      cursor: pointer;\n",
              "      display: none;\n",
              "      fill: #1967D2;\n",
              "      height: 32px;\n",
              "      padding: 0 0 0 0;\n",
              "      width: 32px;\n",
              "    }\n",
              "\n",
              "    .colab-df-convert:hover {\n",
              "      background-color: #E2EBFA;\n",
              "      box-shadow: 0px 1px 2px rgba(60, 64, 67, 0.3), 0px 1px 3px 1px rgba(60, 64, 67, 0.15);\n",
              "      fill: #174EA6;\n",
              "    }\n",
              "\n",
              "    .colab-df-buttons div {\n",
              "      margin-bottom: 4px;\n",
              "    }\n",
              "\n",
              "    [theme=dark] .colab-df-convert {\n",
              "      background-color: #3B4455;\n",
              "      fill: #D2E3FC;\n",
              "    }\n",
              "\n",
              "    [theme=dark] .colab-df-convert:hover {\n",
              "      background-color: #434B5C;\n",
              "      box-shadow: 0px 1px 3px 1px rgba(0, 0, 0, 0.15);\n",
              "      filter: drop-shadow(0px 1px 2px rgba(0, 0, 0, 0.3));\n",
              "      fill: #FFFFFF;\n",
              "    }\n",
              "  </style>\n",
              "\n",
              "    <script>\n",
              "      const buttonEl =\n",
              "        document.querySelector('#df-2c062ba1-4a2b-4a36-b860-1cdbd8e979b9 button.colab-df-convert');\n",
              "      buttonEl.style.display =\n",
              "        google.colab.kernel.accessAllowed ? 'block' : 'none';\n",
              "\n",
              "      async function convertToInteractive(key) {\n",
              "        const element = document.querySelector('#df-2c062ba1-4a2b-4a36-b860-1cdbd8e979b9');\n",
              "        const dataTable =\n",
              "          await google.colab.kernel.invokeFunction('convertToInteractive',\n",
              "                                                    [key], {});\n",
              "        if (!dataTable) return;\n",
              "\n",
              "        const docLinkHtml = 'Like what you see? Visit the ' +\n",
              "          '<a target=\"_blank\" href=https://colab.research.google.com/notebooks/data_table.ipynb>data table notebook</a>'\n",
              "          + ' to learn more about interactive tables.';\n",
              "        element.innerHTML = '';\n",
              "        dataTable['output_type'] = 'display_data';\n",
              "        await google.colab.output.renderOutput(dataTable, element);\n",
              "        const docLink = document.createElement('div');\n",
              "        docLink.innerHTML = docLinkHtml;\n",
              "        element.appendChild(docLink);\n",
              "      }\n",
              "    </script>\n",
              "  </div>\n",
              "\n",
              "\n",
              "<div id=\"df-d9a5243d-a657-4002-993a-7ef5cda1b594\">\n",
              "  <button class=\"colab-df-quickchart\" onclick=\"quickchart('df-d9a5243d-a657-4002-993a-7ef5cda1b594')\"\n",
              "            title=\"Suggest charts\"\n",
              "            style=\"display:none;\">\n",
              "\n",
              "<svg xmlns=\"http://www.w3.org/2000/svg\" height=\"24px\"viewBox=\"0 0 24 24\"\n",
              "     width=\"24px\">\n",
              "    <g>\n",
              "        <path d=\"M19 3H5c-1.1 0-2 .9-2 2v14c0 1.1.9 2 2 2h14c1.1 0 2-.9 2-2V5c0-1.1-.9-2-2-2zM9 17H7v-7h2v7zm4 0h-2V7h2v10zm4 0h-2v-4h2v4z\"/>\n",
              "    </g>\n",
              "</svg>\n",
              "  </button>\n",
              "\n",
              "<style>\n",
              "  .colab-df-quickchart {\n",
              "      --bg-color: #E8F0FE;\n",
              "      --fill-color: #1967D2;\n",
              "      --hover-bg-color: #E2EBFA;\n",
              "      --hover-fill-color: #174EA6;\n",
              "      --disabled-fill-color: #AAA;\n",
              "      --disabled-bg-color: #DDD;\n",
              "  }\n",
              "\n",
              "  [theme=dark] .colab-df-quickchart {\n",
              "      --bg-color: #3B4455;\n",
              "      --fill-color: #D2E3FC;\n",
              "      --hover-bg-color: #434B5C;\n",
              "      --hover-fill-color: #FFFFFF;\n",
              "      --disabled-bg-color: #3B4455;\n",
              "      --disabled-fill-color: #666;\n",
              "  }\n",
              "\n",
              "  .colab-df-quickchart {\n",
              "    background-color: var(--bg-color);\n",
              "    border: none;\n",
              "    border-radius: 50%;\n",
              "    cursor: pointer;\n",
              "    display: none;\n",
              "    fill: var(--fill-color);\n",
              "    height: 32px;\n",
              "    padding: 0;\n",
              "    width: 32px;\n",
              "  }\n",
              "\n",
              "  .colab-df-quickchart:hover {\n",
              "    background-color: var(--hover-bg-color);\n",
              "    box-shadow: 0 1px 2px rgba(60, 64, 67, 0.3), 0 1px 3px 1px rgba(60, 64, 67, 0.15);\n",
              "    fill: var(--button-hover-fill-color);\n",
              "  }\n",
              "\n",
              "  .colab-df-quickchart-complete:disabled,\n",
              "  .colab-df-quickchart-complete:disabled:hover {\n",
              "    background-color: var(--disabled-bg-color);\n",
              "    fill: var(--disabled-fill-color);\n",
              "    box-shadow: none;\n",
              "  }\n",
              "\n",
              "  .colab-df-spinner {\n",
              "    border: 2px solid var(--fill-color);\n",
              "    border-color: transparent;\n",
              "    border-bottom-color: var(--fill-color);\n",
              "    animation:\n",
              "      spin 1s steps(1) infinite;\n",
              "  }\n",
              "\n",
              "  @keyframes spin {\n",
              "    0% {\n",
              "      border-color: transparent;\n",
              "      border-bottom-color: var(--fill-color);\n",
              "      border-left-color: var(--fill-color);\n",
              "    }\n",
              "    20% {\n",
              "      border-color: transparent;\n",
              "      border-left-color: var(--fill-color);\n",
              "      border-top-color: var(--fill-color);\n",
              "    }\n",
              "    30% {\n",
              "      border-color: transparent;\n",
              "      border-left-color: var(--fill-color);\n",
              "      border-top-color: var(--fill-color);\n",
              "      border-right-color: var(--fill-color);\n",
              "    }\n",
              "    40% {\n",
              "      border-color: transparent;\n",
              "      border-right-color: var(--fill-color);\n",
              "      border-top-color: var(--fill-color);\n",
              "    }\n",
              "    60% {\n",
              "      border-color: transparent;\n",
              "      border-right-color: var(--fill-color);\n",
              "    }\n",
              "    80% {\n",
              "      border-color: transparent;\n",
              "      border-right-color: var(--fill-color);\n",
              "      border-bottom-color: var(--fill-color);\n",
              "    }\n",
              "    90% {\n",
              "      border-color: transparent;\n",
              "      border-bottom-color: var(--fill-color);\n",
              "    }\n",
              "  }\n",
              "</style>\n",
              "\n",
              "  <script>\n",
              "    async function quickchart(key) {\n",
              "      const quickchartButtonEl =\n",
              "        document.querySelector('#' + key + ' button');\n",
              "      quickchartButtonEl.disabled = true;  // To prevent multiple clicks.\n",
              "      quickchartButtonEl.classList.add('colab-df-spinner');\n",
              "      try {\n",
              "        const charts = await google.colab.kernel.invokeFunction(\n",
              "            'suggestCharts', [key], {});\n",
              "      } catch (error) {\n",
              "        console.error('Error during call to suggestCharts:', error);\n",
              "      }\n",
              "      quickchartButtonEl.classList.remove('colab-df-spinner');\n",
              "      quickchartButtonEl.classList.add('colab-df-quickchart-complete');\n",
              "    }\n",
              "    (() => {\n",
              "      let quickchartButtonEl =\n",
              "        document.querySelector('#df-d9a5243d-a657-4002-993a-7ef5cda1b594 button');\n",
              "      quickchartButtonEl.style.display =\n",
              "        google.colab.kernel.accessAllowed ? 'block' : 'none';\n",
              "    })();\n",
              "  </script>\n",
              "</div>\n",
              "\n",
              "  <div id=\"id_b1465a68-a34f-4fff-8789-52c8de3aa3a4\">\n",
              "    <style>\n",
              "      .colab-df-generate {\n",
              "        background-color: #E8F0FE;\n",
              "        border: none;\n",
              "        border-radius: 50%;\n",
              "        cursor: pointer;\n",
              "        display: none;\n",
              "        fill: #1967D2;\n",
              "        height: 32px;\n",
              "        padding: 0 0 0 0;\n",
              "        width: 32px;\n",
              "      }\n",
              "\n",
              "      .colab-df-generate:hover {\n",
              "        background-color: #E2EBFA;\n",
              "        box-shadow: 0px 1px 2px rgba(60, 64, 67, 0.3), 0px 1px 3px 1px rgba(60, 64, 67, 0.15);\n",
              "        fill: #174EA6;\n",
              "      }\n",
              "\n",
              "      [theme=dark] .colab-df-generate {\n",
              "        background-color: #3B4455;\n",
              "        fill: #D2E3FC;\n",
              "      }\n",
              "\n",
              "      [theme=dark] .colab-df-generate:hover {\n",
              "        background-color: #434B5C;\n",
              "        box-shadow: 0px 1px 3px 1px rgba(0, 0, 0, 0.15);\n",
              "        filter: drop-shadow(0px 1px 2px rgba(0, 0, 0, 0.3));\n",
              "        fill: #FFFFFF;\n",
              "      }\n",
              "    </style>\n",
              "    <button class=\"colab-df-generate\" onclick=\"generateWithVariable('dfh2')\"\n",
              "            title=\"Generate code using this dataframe.\"\n",
              "            style=\"display:none;\">\n",
              "\n",
              "  <svg xmlns=\"http://www.w3.org/2000/svg\" height=\"24px\"viewBox=\"0 0 24 24\"\n",
              "       width=\"24px\">\n",
              "    <path d=\"M7,19H8.4L18.45,9,17,7.55,7,17.6ZM5,21V16.75L18.45,3.32a2,2,0,0,1,2.83,0l1.4,1.43a1.91,1.91,0,0,1,.58,1.4,1.91,1.91,0,0,1-.58,1.4L9.25,21ZM18.45,9,17,7.55Zm-12,3A5.31,5.31,0,0,0,4.9,8.1,5.31,5.31,0,0,0,1,6.5,5.31,5.31,0,0,0,4.9,4.9,5.31,5.31,0,0,0,6.5,1,5.31,5.31,0,0,0,8.1,4.9,5.31,5.31,0,0,0,12,6.5,5.46,5.46,0,0,0,6.5,12Z\"/>\n",
              "  </svg>\n",
              "    </button>\n",
              "    <script>\n",
              "      (() => {\n",
              "      const buttonEl =\n",
              "        document.querySelector('#id_b1465a68-a34f-4fff-8789-52c8de3aa3a4 button.colab-df-generate');\n",
              "      buttonEl.style.display =\n",
              "        google.colab.kernel.accessAllowed ? 'block' : 'none';\n",
              "\n",
              "      buttonEl.onclick = () => {\n",
              "        google.colab.notebook.generateWithVariable('dfh2');\n",
              "      }\n",
              "      })();\n",
              "    </script>\n",
              "  </div>\n",
              "\n",
              "    </div>\n",
              "  </div>\n"
            ],
            "text/plain": [
              "       Flow Duration  Total Length of Fwd Packets  Fwd Packet Length Max  \\\n",
              "0       4.236419e-04                     0.000000               0.000000   \n",
              "1       4.416669e-07                     0.000000               0.000000   \n",
              "2       2.583334e-06                     0.000008               0.000242   \n",
              "3       5.253752e-04                     0.000090               0.002619   \n",
              "4       3.973835e-04                     0.000060               0.001732   \n",
              "...              ...                          ...                    ...   \n",
              "28298   4.083335e-07                     0.000000               0.000000   \n",
              "28299   9.525802e-01                     0.000710               0.017204   \n",
              "28300   4.071168e-04                     0.000111               0.001612   \n",
              "28301   2.200001e-06                     0.000092               0.001330   \n",
              "28302   2.416668e-07                     0.000008               0.000242   \n",
              "\n",
              "       Fwd Packet Length Mean  Bwd Packet Length Max  Flow IAT Mean  \\\n",
              "0                    0.000000               0.000000   4.707129e-04   \n",
              "1                    0.000000               0.000000   4.907407e-07   \n",
              "2                    0.001556               0.000516   2.870370e-06   \n",
              "3                    0.016856               0.010660   5.837500e-04   \n",
              "4                    0.011151               0.005072   4.415370e-04   \n",
              "...                       ...                    ...            ...   \n",
              "28298                0.000000               0.000000   4.537037e-07   \n",
              "28299                0.008282               0.064133   3.649735e-02   \n",
              "28300                0.010373               0.006190   1.508086e-04   \n",
              "28301                0.008558               0.008339   8.395061e-07   \n",
              "28302                0.001556               0.000516   2.685185e-07   \n",
              "\n",
              "       Flow IAT Min   Fwd IAT Min  Fwd Header Length  Bwd Packets/s  \\\n",
              "0      4.707129e-04  0.000000e+00           0.000150   1.311484e-05   \n",
              "1      4.907407e-07  4.083333e-07           0.000299   0.000000e+00   \n",
              "2      2.870370e-06  0.000000e+00           0.000094   2.178649e-03   \n",
              "3      5.837500e-04  0.000000e+00           0.000150   1.057513e-05   \n",
              "4      4.415370e-04  0.000000e+00           0.000150   1.398152e-05   \n",
              "...             ...           ...                ...            ...   \n",
              "28298  4.537037e-07  0.000000e+00           0.000150   1.481481e-02   \n",
              "28299  9.074074e-07  1.375000e-06           0.001554   8.164962e-08   \n",
              "28300  4.629629e-08  4.000000e-07           0.000299   2.729444e-05   \n",
              "28301  4.814815e-07  4.000000e-07           0.000187   5.128205e-03   \n",
              "28302  2.685185e-07  0.000000e+00           0.000094   2.666667e-02   \n",
              "\n",
              "       Init_Win_bytes_forward  Init_Win_bytes_backward  Label  \n",
              "0                    0.004883                 0.002350      0  \n",
              "1                    0.004242                 0.000000      0  \n",
              "2                    0.000015                 0.000015      0  \n",
              "3                    0.000000                 0.000000      0  \n",
              "4                    0.000000                 0.000000      0  \n",
              "...                       ...                      ...    ...  \n",
              "28298                0.005341                 0.004700      0  \n",
              "28299                0.125015                 0.005249      0  \n",
              "28300                0.000000                 0.000000      0  \n",
              "28301                0.000000                 0.000000      0  \n",
              "28302                0.171768                 0.534073      0  \n",
              "\n",
              "[28303 rows x 13 columns]"
            ]
          },
          "execution_count": 90,
          "metadata": {},
          "output_type": "execute_result"
        }
      ],
      "source": [
        "dfh2 = Auto_Feature_Engineering(df)\n",
        "dfh2"
      ]
    },
    {
      "cell_type": "code",
      "execution_count": null,
      "metadata": {
        "id": "Xa7En6I03ZkD"
      },
      "outputs": [],
      "source": [
        "a=dfh2.columns"
      ]
    },
    {
      "cell_type": "code",
      "execution_count": null,
      "metadata": {
        "colab": {
          "base_uri": "https://localhost:8080/",
          "height": 203
        },
        "id": "iwmBBFpY6VkV",
        "outputId": "f7d3249a-4c35-4b6f-f5b8-6d02e62a4d6d"
      },
      "outputs": [
        {
          "data": {
            "text/html": [
              "<div style=\"max-width:800px; border: 1px solid var(--colab-border-color);\"><style>\n",
              "      pre.function-repr-contents {\n",
              "        overflow-x: auto;\n",
              "        padding: 8px 12px;\n",
              "        max-height: 500px;\n",
              "      }\n",
              "\n",
              "      pre.function-repr-contents.function-repr-contents-collapsed {\n",
              "        cursor: pointer;\n",
              "        max-height: 100px;\n",
              "      }\n",
              "    </style>\n",
              "    <pre style=\"white-space: initial; background:\n",
              "         var(--colab-secondary-surface-color); padding: 8px 12px;\n",
              "         border-bottom: 1px solid var(--colab-border-color);\"><b>pandas.core.frame.DataFrame</b><br/>def __init__(data=None, index: Axes | None=None, columns: Axes | None=None, dtype: Dtype | None=None, copy: bool | None=None) -&gt; None</pre><pre class=\"function-repr-contents function-repr-contents-collapsed\" style=\"\"><a class=\"filepath\" style=\"display:none\" href=\"#\">/usr/local/lib/python3.10/dist-packages/pandas/core/frame.py</a>Two-dimensional, size-mutable, potentially heterogeneous tabular data.\n",
              "\n",
              "Data structure also contains labeled axes (rows and columns).\n",
              "Arithmetic operations align on both row and column labels. Can be\n",
              "thought of as a dict-like container for Series objects. The primary\n",
              "pandas data structure.\n",
              "\n",
              "Parameters\n",
              "----------\n",
              "data : ndarray (structured or homogeneous), Iterable, dict, or DataFrame\n",
              "    Dict can contain Series, arrays, constants, dataclass or list-like objects. If\n",
              "    data is a dict, column order follows insertion-order. If a dict contains Series\n",
              "    which have an index defined, it is aligned by its index. This alignment also\n",
              "    occurs if data is a Series or a DataFrame itself. Alignment is done on\n",
              "    Series/DataFrame inputs.\n",
              "\n",
              "    If data is a list of dicts, column order follows insertion-order.\n",
              "\n",
              "index : Index or array-like\n",
              "    Index to use for resulting frame. Will default to RangeIndex if\n",
              "    no indexing information part of input data and no index provided.\n",
              "columns : Index or array-like\n",
              "    Column labels to use for resulting frame when data does not have them,\n",
              "    defaulting to RangeIndex(0, 1, 2, ..., n). If data contains column labels,\n",
              "    will perform column selection instead.\n",
              "dtype : dtype, default None\n",
              "    Data type to force. Only a single dtype is allowed. If None, infer.\n",
              "copy : bool or None, default None\n",
              "    Copy data from inputs.\n",
              "    For dict data, the default of None behaves like ``copy=True``.  For DataFrame\n",
              "    or 2d ndarray input, the default of None behaves like ``copy=False``.\n",
              "    If data is a dict containing one or more Series (possibly of different dtypes),\n",
              "    ``copy=False`` will ensure that these inputs are not copied.\n",
              "\n",
              "    .. versionchanged:: 1.3.0\n",
              "\n",
              "See Also\n",
              "--------\n",
              "DataFrame.from_records : Constructor from tuples, also record arrays.\n",
              "DataFrame.from_dict : From dicts of Series, arrays, or dicts.\n",
              "read_csv : Read a comma-separated values (csv) file into DataFrame.\n",
              "read_table : Read general delimited file into DataFrame.\n",
              "read_clipboard : Read text from clipboard into DataFrame.\n",
              "\n",
              "Notes\n",
              "-----\n",
              "Please reference the :ref:`User Guide &lt;basics.dataframe&gt;` for more information.\n",
              "\n",
              "Examples\n",
              "--------\n",
              "Constructing DataFrame from a dictionary.\n",
              "\n",
              "&gt;&gt;&gt; d = {&#x27;col1&#x27;: [1, 2], &#x27;col2&#x27;: [3, 4]}\n",
              "&gt;&gt;&gt; df = pd.DataFrame(data=d)\n",
              "&gt;&gt;&gt; df\n",
              "   col1  col2\n",
              "0     1     3\n",
              "1     2     4\n",
              "\n",
              "Notice that the inferred dtype is int64.\n",
              "\n",
              "&gt;&gt;&gt; df.dtypes\n",
              "col1    int64\n",
              "col2    int64\n",
              "dtype: object\n",
              "\n",
              "To enforce a single dtype:\n",
              "\n",
              "&gt;&gt;&gt; df = pd.DataFrame(data=d, dtype=np.int8)\n",
              "&gt;&gt;&gt; df.dtypes\n",
              "col1    int8\n",
              "col2    int8\n",
              "dtype: object\n",
              "\n",
              "Constructing DataFrame from a dictionary including Series:\n",
              "\n",
              "&gt;&gt;&gt; d = {&#x27;col1&#x27;: [0, 1, 2, 3], &#x27;col2&#x27;: pd.Series([2, 3], index=[2, 3])}\n",
              "&gt;&gt;&gt; pd.DataFrame(data=d, index=[0, 1, 2, 3])\n",
              "   col1  col2\n",
              "0     0   NaN\n",
              "1     1   NaN\n",
              "2     2   2.0\n",
              "3     3   3.0\n",
              "\n",
              "Constructing DataFrame from numpy ndarray:\n",
              "\n",
              "&gt;&gt;&gt; df2 = pd.DataFrame(np.array([[1, 2, 3], [4, 5, 6], [7, 8, 9]]),\n",
              "...                    columns=[&#x27;a&#x27;, &#x27;b&#x27;, &#x27;c&#x27;])\n",
              "&gt;&gt;&gt; df2\n",
              "   a  b  c\n",
              "0  1  2  3\n",
              "1  4  5  6\n",
              "2  7  8  9\n",
              "\n",
              "Constructing DataFrame from a numpy ndarray that has labeled columns:\n",
              "\n",
              "&gt;&gt;&gt; data = np.array([(1, 2, 3), (4, 5, 6), (7, 8, 9)],\n",
              "...                 dtype=[(&quot;a&quot;, &quot;i4&quot;), (&quot;b&quot;, &quot;i4&quot;), (&quot;c&quot;, &quot;i4&quot;)])\n",
              "&gt;&gt;&gt; df3 = pd.DataFrame(data, columns=[&#x27;c&#x27;, &#x27;a&#x27;])\n",
              "...\n",
              "&gt;&gt;&gt; df3\n",
              "   c  a\n",
              "0  3  1\n",
              "1  6  4\n",
              "2  9  7\n",
              "\n",
              "Constructing DataFrame from dataclass:\n",
              "\n",
              "&gt;&gt;&gt; from dataclasses import make_dataclass\n",
              "&gt;&gt;&gt; Point = make_dataclass(&quot;Point&quot;, [(&quot;x&quot;, int), (&quot;y&quot;, int)])\n",
              "&gt;&gt;&gt; pd.DataFrame([Point(0, 0), Point(0, 3), Point(2, 3)])\n",
              "   x  y\n",
              "0  0  0\n",
              "1  0  3\n",
              "2  2  3\n",
              "\n",
              "Constructing DataFrame from Series/DataFrame:\n",
              "\n",
              "&gt;&gt;&gt; ser = pd.Series([1, 2, 3], index=[&quot;a&quot;, &quot;b&quot;, &quot;c&quot;])\n",
              "&gt;&gt;&gt; df = pd.DataFrame(data=ser, index=[&quot;a&quot;, &quot;c&quot;])\n",
              "&gt;&gt;&gt; df\n",
              "   0\n",
              "a  1\n",
              "c  3\n",
              "\n",
              "&gt;&gt;&gt; df1 = pd.DataFrame([1, 2, 3], index=[&quot;a&quot;, &quot;b&quot;, &quot;c&quot;], columns=[&quot;x&quot;])\n",
              "&gt;&gt;&gt; df2 = pd.DataFrame(data=df1, index=[&quot;a&quot;, &quot;c&quot;])\n",
              "&gt;&gt;&gt; df2\n",
              "   x\n",
              "a  1\n",
              "c  3</pre>\n",
              "      <script>\n",
              "      if (google.colab.kernel.accessAllowed && google.colab.files && google.colab.files.view) {\n",
              "        for (const element of document.querySelectorAll('.filepath')) {\n",
              "          element.style.display = 'block'\n",
              "          element.onclick = (event) => {\n",
              "            event.preventDefault();\n",
              "            event.stopPropagation();\n",
              "            google.colab.files.view(element.textContent, 490);\n",
              "          };\n",
              "        }\n",
              "      }\n",
              "      for (const element of document.querySelectorAll('.function-repr-contents')) {\n",
              "        element.onclick = (event) => {\n",
              "          event.preventDefault();\n",
              "          event.stopPropagation();\n",
              "          element.classList.toggle('function-repr-contents-collapsed');\n",
              "        };\n",
              "      }\n",
              "      </script>\n",
              "      </div>"
            ],
            "text/plain": [
              "pandas.core.frame.DataFrame"
            ]
          },
          "execution_count": 92,
          "metadata": {},
          "output_type": "execute_result"
        }
      ],
      "source": [
        "type(dfh2)"
      ]
    },
    {
      "cell_type": "code",
      "execution_count": null,
      "metadata": {
        "id": "zVQsVqc7z_rL"
      },
      "outputs": [],
      "source": [
        "dfh2.to_csv('output_data.csv', index=False)"
      ]
    },
    {
      "cell_type": "markdown",
      "metadata": {
        "collapsed": true,
        "id": "5SmNcVvrg4DM"
      },
      "source": [
        "## Train-test split\n",
        "Split the dataset into the training and the test set   \n",
        "\n",
        "Here we used the 1%/99% split, because for online learning, the initial available data would only be a small percentage, and the incoming data streams will be continously learned by the data analytics models. It can be changed based on specific tasks"
      ]
    },
    {
      "cell_type": "code",
      "execution_count": null,
      "metadata": {
        "id": "eDAgFjlQg4DM"
      },
      "outputs": [],
      "source": [
        "X = dfh2.drop(['Label'],axis=1)\n",
        "y = dfh2['Label']\n",
        "\n",
        "X_train, X_test, y_train, y_test = train_test_split(X,y, train_size = 0.01, test_size = 0.99, shuffle=False,random_state = 0)"
      ]
    },
    {
      "cell_type": "markdown",
      "metadata": {
        "id": "6NE7MzeRg4DN"
      },
      "source": [
        "## Automated data balancing\n",
        "Generate minority class samples to solve class-imbalance and improve data quality.  \n",
        "Synthetic Minority Over-sampling Technique (SMOTE) method is used."
      ]
    },
    {
      "cell_type": "code",
      "execution_count": null,
      "metadata": {
        "colab": {
          "base_uri": "https://localhost:8080/"
        },
        "id": "HiATZq67g4DN",
        "outputId": "f295bd74-adb6-4561-c777-b287ac122321",
        "scrolled": false
      },
      "outputs": [
        {
          "data": {
            "text/plain": [
              "Label\n",
              "0    180\n",
              "1    103\n",
              "Name: count, dtype: int64"
            ]
          },
          "execution_count": 96,
          "metadata": {},
          "output_type": "execute_result"
        }
      ],
      "source": [
        "pd.Series(y_train).value_counts()"
      ]
    },
    {
      "cell_type": "code",
      "execution_count": null,
      "metadata": {
        "id": "mVRINCHKxF-q"
      },
      "outputs": [],
      "source": [
        "from imblearn.over_sampling import SMOTE"
      ]
    },
    {
      "cell_type": "code",
      "execution_count": null,
      "metadata": {
        "id": "GTdaWuVRg4DN"
      },
      "outputs": [],
      "source": [
        "def Auto_Balancing(X_train, y_train):\n",
        "    number0 = pd.Series(y_train).value_counts().iloc[0]\n",
        "    number1 = pd.Series(y_train).value_counts().iloc[1]\n",
        "\n",
        "    if number0 > number1:\n",
        "        nlarge = number0\n",
        "    else:\n",
        "        nlarge = number1\n",
        "\n",
        "    # evaluate whether the incoming dataset is imbalanced (the abnormal/normal ratio is smaller than a threshold (e.g., 50%))\n",
        "    if (number1/number0 > 1.5) or (number0/number1 > 1.5):\n",
        "        smote=SMOTE(n_jobs=-1,sampling_strategy={0:nlarge, 1:nlarge})\n",
        "        X_train, y_train = smote.fit_resample(X_train, y_train)\n",
        "\n",
        "    return X_train, y_train"
      ]
    },
    {
      "cell_type": "code",
      "execution_count": null,
      "metadata": {
        "colab": {
          "base_uri": "https://localhost:8080/"
        },
        "id": "8a8hItAbw9ky",
        "outputId": "1f92abeb-0762-47a0-ff4d-8cec4e78b049"
      },
      "outputs": [
        {
          "name": "stdout",
          "output_type": "stream",
          "text": [
            "\u001b[33mWARNING: Ignoring invalid distribution -andas (/usr/local/lib/python3.10/dist-packages)\u001b[0m\u001b[33m\n",
            "\u001b[0mRequirement already satisfied: imbalanced-learn in /usr/local/lib/python3.10/dist-packages (0.10.1)\n",
            "Requirement already satisfied: numpy>=1.17.3 in /usr/local/lib/python3.10/dist-packages (from imbalanced-learn) (1.25.2)\n",
            "Requirement already satisfied: scipy>=1.3.2 in /usr/local/lib/python3.10/dist-packages (from imbalanced-learn) (1.11.4)\n",
            "Requirement already satisfied: scikit-learn>=1.0.2 in /usr/local/lib/python3.10/dist-packages (from imbalanced-learn) (1.2.2)\n",
            "Requirement already satisfied: joblib>=1.1.1 in /usr/local/lib/python3.10/dist-packages (from imbalanced-learn) (1.4.2)\n",
            "Requirement already satisfied: threadpoolctl>=2.0.0 in /usr/local/lib/python3.10/dist-packages (from imbalanced-learn) (3.5.0)\n",
            "\u001b[33mWARNING: Ignoring invalid distribution -andas (/usr/local/lib/python3.10/dist-packages)\u001b[0m\u001b[33m\n",
            "\u001b[0m"
          ]
        }
      ],
      "source": [
        "!pip install imbalanced-learn\n",
        "from imblearn.over_sampling import SMOTE"
      ]
    },
    {
      "cell_type": "code",
      "execution_count": null,
      "metadata": {
        "id": "eMO3HzDJ7XVe"
      },
      "outputs": [],
      "source": []
    },
    {
      "cell_type": "code",
      "execution_count": null,
      "metadata": {
        "id": "iDWk941Tg4DO"
      },
      "outputs": [],
      "source": [
        "X_train, y_train = Auto_Balancing(X_train, y_train)"
      ]
    },
    {
      "cell_type": "code",
      "execution_count": null,
      "metadata": {
        "colab": {
          "base_uri": "https://localhost:8080/"
        },
        "id": "_YpD7meLg4DO",
        "outputId": "55647bfc-916f-436a-fc2d-aafc5bd3d5e2",
        "scrolled": false
      },
      "outputs": [
        {
          "data": {
            "text/plain": [
              "Label\n",
              "0    180\n",
              "1    180\n",
              "Name: count, dtype: int64"
            ]
          },
          "execution_count": 101,
          "metadata": {},
          "output_type": "execute_result"
        }
      ],
      "source": [
        "pd.Series(y_train).value_counts()"
      ]
    },
    {
      "cell_type": "markdown",
      "metadata": {
        "id": "mP88HQkQg4DP"
      },
      "source": [
        "# 3. Model Learning"
      ]
    },
    {
      "cell_type": "markdown",
      "metadata": {
        "id": "xDCRcZC3g4DP"
      },
      "source": [
        "Four state-of-the-art online learners:\n",
        "* Hoeffding Tree (HT)\n",
        "* Leveraging Bagging (LB)\n",
        "* Adaptive Random Forest (ARF)\n",
        "* Streaming Random Patches (SRP)\n",
        "\n",
        "\n",
        "An offline learner for comparison:\n",
        "* LightGBM\n"
      ]
    },
    {
      "cell_type": "markdown",
      "metadata": {
        "id": "lcOxqCWzg4DQ"
      },
      "source": [
        "## Static Model learning: LightGBM (for Comparison)"
      ]
    },
    {
      "cell_type": "code",
      "execution_count": null,
      "metadata": {
        "colab": {
          "base_uri": "https://localhost:8080/",
          "height": 1000
        },
        "id": "UoUzsf2Wg4DQ",
        "outputId": "64e2c108-148e-4473-b15b-4dd82be871b6"
      },
      "outputs": [
        {
          "name": "stdout",
          "output_type": "stream",
          "text": [
            "[LightGBM] [Warning] Found whitespace in feature_names, replace with underlines\n",
            "[LightGBM] [Info] Number of positive: 180, number of negative: 180\n",
            "[LightGBM] [Info] Auto-choosing col-wise multi-threading, the overhead of testing was 0.000121 seconds.\n",
            "You can set `force_col_wise=true` to remove the overhead.\n",
            "[LightGBM] [Info] Total Bins 712\n",
            "[LightGBM] [Info] Number of data points in the train set: 360, number of used features: 12\n",
            "[LightGBM] [Info] [binary:BoostFromScore]: pavg=0.500000 -> initscore=0.000000\n",
            "[LightGBM] [Warning] No further splits with positive gain, best gain: -inf\n",
            "[LightGBM] [Warning] No further splits with positive gain, best gain: -inf\n",
            "[LightGBM] [Warning] No further splits with positive gain, best gain: -inf\n",
            "[LightGBM] [Warning] No further splits with positive gain, best gain: -inf\n",
            "[LightGBM] [Warning] No further splits with positive gain, best gain: -inf\n",
            "[LightGBM] [Warning] No further splits with positive gain, best gain: -inf\n",
            "[LightGBM] [Warning] No further splits with positive gain, best gain: -inf\n",
            "[LightGBM] [Warning] No further splits with positive gain, best gain: -inf\n",
            "[LightGBM] [Warning] No further splits with positive gain, best gain: -inf\n",
            "[LightGBM] [Warning] No further splits with positive gain, best gain: -inf\n",
            "[LightGBM] [Warning] No further splits with positive gain, best gain: -inf\n",
            "[LightGBM] [Warning] No further splits with positive gain, best gain: -inf\n",
            "[LightGBM] [Warning] No further splits with positive gain, best gain: -inf\n",
            "[LightGBM] [Warning] No further splits with positive gain, best gain: -inf\n",
            "[LightGBM] [Warning] No further splits with positive gain, best gain: -inf\n",
            "[LightGBM] [Warning] No further splits with positive gain, best gain: -inf\n",
            "[LightGBM] [Warning] No further splits with positive gain, best gain: -inf\n",
            "[LightGBM] [Warning] No further splits with positive gain, best gain: -inf\n",
            "[LightGBM] [Warning] No further splits with positive gain, best gain: -inf\n",
            "[LightGBM] [Warning] No further splits with positive gain, best gain: -inf\n",
            "[LightGBM] [Warning] No further splits with positive gain, best gain: -inf\n",
            "[LightGBM] [Warning] No further splits with positive gain, best gain: -inf\n",
            "[LightGBM] [Warning] No further splits with positive gain, best gain: -inf\n",
            "[LightGBM] [Warning] No further splits with positive gain, best gain: -inf\n",
            "[LightGBM] [Warning] No further splits with positive gain, best gain: -inf\n",
            "[LightGBM] [Warning] No further splits with positive gain, best gain: -inf\n",
            "[LightGBM] [Warning] No further splits with positive gain, best gain: -inf\n",
            "[LightGBM] [Warning] No further splits with positive gain, best gain: -inf\n",
            "[LightGBM] [Warning] No further splits with positive gain, best gain: -inf\n",
            "[LightGBM] [Warning] No further splits with positive gain, best gain: -inf\n",
            "[LightGBM] [Warning] No further splits with positive gain, best gain: -inf\n",
            "[LightGBM] [Warning] No further splits with positive gain, best gain: -inf\n",
            "[LightGBM] [Warning] No further splits with positive gain, best gain: -inf\n",
            "[LightGBM] [Warning] No further splits with positive gain, best gain: -inf\n",
            "[LightGBM] [Warning] No further splits with positive gain, best gain: -inf\n",
            "[LightGBM] [Warning] No further splits with positive gain, best gain: -inf\n",
            "[LightGBM] [Warning] No further splits with positive gain, best gain: -inf\n",
            "[LightGBM] [Warning] No further splits with positive gain, best gain: -inf\n",
            "[LightGBM] [Warning] No further splits with positive gain, best gain: -inf\n",
            "[LightGBM] [Warning] No further splits with positive gain, best gain: -inf\n",
            "[LightGBM] [Warning] No further splits with positive gain, best gain: -inf\n",
            "[LightGBM] [Warning] No further splits with positive gain, best gain: -inf\n",
            "[LightGBM] [Warning] No further splits with positive gain, best gain: -inf\n",
            "[LightGBM] [Warning] No further splits with positive gain, best gain: -inf\n",
            "[LightGBM] [Warning] No further splits with positive gain, best gain: -inf\n",
            "[LightGBM] [Warning] No further splits with positive gain, best gain: -inf\n",
            "[LightGBM] [Warning] No further splits with positive gain, best gain: -inf\n",
            "[LightGBM] [Warning] No further splits with positive gain, best gain: -inf\n",
            "[LightGBM] [Warning] No further splits with positive gain, best gain: -inf\n",
            "[LightGBM] [Warning] No further splits with positive gain, best gain: -inf\n",
            "[LightGBM] [Warning] No further splits with positive gain, best gain: -inf\n",
            "[LightGBM] [Warning] No further splits with positive gain, best gain: -inf\n",
            "[LightGBM] [Warning] No further splits with positive gain, best gain: -inf\n",
            "[LightGBM] [Warning] No further splits with positive gain, best gain: -inf\n",
            "[LightGBM] [Warning] No further splits with positive gain, best gain: -inf\n",
            "[LightGBM] [Warning] No further splits with positive gain, best gain: -inf\n",
            "[LightGBM] [Warning] No further splits with positive gain, best gain: -inf\n",
            "[LightGBM] [Warning] No further splits with positive gain, best gain: -inf\n",
            "[LightGBM] [Warning] No further splits with positive gain, best gain: -inf\n",
            "[LightGBM] [Warning] No further splits with positive gain, best gain: -inf\n",
            "[LightGBM] [Warning] No further splits with positive gain, best gain: -inf\n",
            "[LightGBM] [Warning] No further splits with positive gain, best gain: -inf\n",
            "[LightGBM] [Warning] No further splits with positive gain, best gain: -inf\n",
            "[LightGBM] [Warning] No further splits with positive gain, best gain: -inf\n",
            "[LightGBM] [Warning] No further splits with positive gain, best gain: -inf\n",
            "[LightGBM] [Warning] No further splits with positive gain, best gain: -inf\n",
            "[LightGBM] [Warning] No further splits with positive gain, best gain: -inf\n",
            "[LightGBM] [Warning] No further splits with positive gain, best gain: -inf\n",
            "[LightGBM] [Warning] No further splits with positive gain, best gain: -inf\n",
            "[LightGBM] [Warning] No further splits with positive gain, best gain: -inf\n",
            "[LightGBM] [Warning] No further splits with positive gain, best gain: -inf\n",
            "[LightGBM] [Warning] No further splits with positive gain, best gain: -inf\n",
            "[LightGBM] [Warning] No further splits with positive gain, best gain: -inf\n",
            "[LightGBM] [Warning] No further splits with positive gain, best gain: -inf\n",
            "[LightGBM] [Warning] No further splits with positive gain, best gain: -inf\n",
            "[LightGBM] [Warning] No further splits with positive gain, best gain: -inf\n",
            "[LightGBM] [Warning] No further splits with positive gain, best gain: -inf\n",
            "[LightGBM] [Warning] No further splits with positive gain, best gain: -inf\n",
            "[LightGBM] [Warning] No further splits with positive gain, best gain: -inf\n",
            "[LightGBM] [Warning] No further splits with positive gain, best gain: -inf\n",
            "[LightGBM] [Warning] No further splits with positive gain, best gain: -inf\n",
            "[LightGBM] [Warning] No further splits with positive gain, best gain: -inf\n",
            "[LightGBM] [Warning] No further splits with positive gain, best gain: -inf\n",
            "[LightGBM] [Warning] No further splits with positive gain, best gain: -inf\n",
            "[LightGBM] [Warning] No further splits with positive gain, best gain: -inf\n",
            "[LightGBM] [Warning] No further splits with positive gain, best gain: -inf\n",
            "[LightGBM] [Warning] No further splits with positive gain, best gain: -inf\n",
            "[LightGBM] [Warning] No further splits with positive gain, best gain: -inf\n",
            "[LightGBM] [Warning] No further splits with positive gain, best gain: -inf\n",
            "[LightGBM] [Warning] No further splits with positive gain, best gain: -inf\n",
            "[LightGBM] [Warning] No further splits with positive gain, best gain: -inf\n",
            "[LightGBM] [Warning] No further splits with positive gain, best gain: -inf\n",
            "[LightGBM] [Warning] No further splits with positive gain, best gain: -inf\n",
            "[LightGBM] [Warning] No further splits with positive gain, best gain: -inf\n",
            "[LightGBM] [Warning] No further splits with positive gain, best gain: -inf\n",
            "[LightGBM] [Warning] No further splits with positive gain, best gain: -inf\n",
            "[LightGBM] [Warning] No further splits with positive gain, best gain: -inf\n",
            "[LightGBM] [Warning] No further splits with positive gain, best gain: -inf\n",
            "[LightGBM] [Warning] No further splits with positive gain, best gain: -inf\n",
            "[LightGBM] [Warning] No further splits with positive gain, best gain: -inf\n",
            "              precision    recall  f1-score   support\n",
            "\n",
            "           0       0.84      0.99      0.91     22482\n",
            "           1       0.91      0.21      0.34      5538\n",
            "\n",
            "    accuracy                           0.84     28020\n",
            "   macro avg       0.87      0.60      0.62     28020\n",
            "weighted avg       0.85      0.84      0.80     28020\n",
            "\n",
            "Accuracy: 83.958%\n",
            "Precision: 90.902%\n",
            "Recall: 20.928%\n",
            "F1-score: 34.022999999999996%\n"
          ]
        },
        {
          "data": {
            "image/png": "[encoded data removed]",
            "text/plain": [
              "<Figure size 500x500 with 2 Axes>"
            ]
          },
          "metadata": {},
          "output_type": "display_data"
        },
        {
          "name": "stdout",
          "output_type": "stream",
          "text": [
            "CPU times: user 694 ms, sys: 114 ms, total: 809 ms\n",
            "Wall time: 1.07 s\n"
          ]
        }
      ],
      "source": [
        "%%time\n",
        "# LightGBM algorithm\n",
        "import lightgbm as lgb\n",
        "classifier = lgb.LGBMClassifier()\n",
        "classifier.fit(X_train, y_train)\n",
        "y_pred = classifier.predict(X_test)\n",
        "print(classification_report(y_test,y_pred))\n",
        "print(\"Accuracy: \"+str(round(accuracy_score(y_test, y_pred),5)*100)+\"%\")\n",
        "print(\"Precision: \"+str(round(precision_score(y_test, y_pred),5)*100)+\"%\")\n",
        "print(\"Recall: \"+str(round(recall_score(y_test, y_pred),5)*100)+\"%\")\n",
        "print(\"F1-score: \"+str(round(f1_score(y_test, y_pred),5)*100)+\"%\")\n",
        "\n",
        "# Plot the confusion matrix\n",
        "cm=confusion_matrix(y_test,y_pred)\n",
        "f,ax=plt.subplots(figsize=(5,5))\n",
        "sns.heatmap(cm,annot=True,linewidth=0.5,linecolor=\"red\",fmt=\".0f\",ax=ax)\n",
        "plt.xlabel(\"y_pred\")\n",
        "plt.ylabel(\"y_true\")\n",
        "plt.show()"
      ]
    },
    {
      "cell_type": "markdown",
      "metadata": {
        "id": "1IjEAPz3g4DR"
      },
      "source": [
        "The accuracy of the static LightGBM model is very low (83.958%), due to the occurance of concept drift (data distribution changes). Therefore, online learning methods that can adapt to concept drift issues should be developed for dynamic data stream analytics."
      ]
    },
    {
      "cell_type": "markdown",
      "metadata": {
        "id": "jXUgqaMJg4DR"
      },
      "source": [
        "## Online Learning"
      ]
    },
    {
      "cell_type": "code",
      "execution_count": null,
      "metadata": {
        "colab": {
          "base_uri": "https://localhost:8080/"
        },
        "id": "MGQBxLkJ8-G6",
        "outputId": "ef13b120-5922-4d11-bb20-318b07465bf4"
      },
      "outputs": [
        {
          "name": "stdout",
          "output_type": "stream",
          "text": [
            "\u001b[33mWARNING: Ignoring invalid distribution -andas (/usr/local/lib/python3.10/dist-packages)\u001b[0m\u001b[33m\n",
            "\u001b[0m\u001b[33mWARNING: Package(s) not found: river\u001b[0m\u001b[33m\n",
            "\u001b[0m"
          ]
        }
      ],
      "source": [
        "!pip show river"
      ]
    },
    {
      "cell_type": "code",
      "execution_count": null,
      "metadata": {
        "colab": {
          "base_uri": "https://localhost:8080/"
        },
        "id": "t40MFkT88Unr",
        "outputId": "7206317a-09df-4dd6-a531-b3e650719137"
      },
      "outputs": [
        {
          "name": "stdout",
          "output_type": "stream",
          "text": [
            "\u001b[33mWARNING: Ignoring invalid distribution -andas (/usr/local/lib/python3.10/dist-packages)\u001b[0m\u001b[33m\n",
            "\u001b[0mCollecting river\n",
            "  Downloading river-0.21.1-cp310-cp310-manylinux_2_17_x86_64.manylinux2014_x86_64.whl (3.1 MB)\n",
            "\u001b[2K     \u001b[90m━━━━━━━━━━━━━━━━━━━━━━━━━━━━━━━━━━━━━━━━\u001b[0m \u001b[32m3.1/3.1 MB\u001b[0m \u001b[31m7.9 MB/s\u001b[0m eta \u001b[36m0:00:00\u001b[0m\n",
            "\u001b[?25hRequirement already satisfied: numpy<2.0.0,>=1.23.0 in /usr/local/lib/python3.10/dist-packages (from river) (1.25.2)\n",
            "Collecting pandas<3.0,>=2.1 (from river)\n",
            "  Using cached pandas-2.2.2-cp310-cp310-manylinux_2_17_x86_64.manylinux2014_x86_64.whl (13.0 MB)\n",
            "Collecting polars<0.21.0,>=0.20.8 (from river)\n",
            "  Downloading polars-0.20.31-cp38-abi3-manylinux_2_17_x86_64.manylinux2014_x86_64.whl (28.8 MB)\n",
            "\u001b[2K     \u001b[90m━━━━━━━━━━━━━━━━━━━━━━━━━━━━━━━━━━━━━━━━\u001b[0m \u001b[32m28.8/28.8 MB\u001b[0m \u001b[31m22.4 MB/s\u001b[0m eta \u001b[36m0:00:00\u001b[0m\n",
            "\u001b[?25hRequirement already satisfied: scipy<2.0.0,>=1.8.1 in /usr/local/lib/python3.10/dist-packages (from river) (1.11.4)\n",
            "Requirement already satisfied: python-dateutil>=2.8.2 in /usr/local/lib/python3.10/dist-packages (from pandas<3.0,>=2.1->river) (2.8.2)\n",
            "Requirement already satisfied: pytz>=2020.1 in /usr/local/lib/python3.10/dist-packages (from pandas<3.0,>=2.1->river) (2023.4)\n",
            "Requirement already satisfied: tzdata>=2022.7 in /usr/local/lib/python3.10/dist-packages (from pandas<3.0,>=2.1->river) (2024.1)\n",
            "Requirement already satisfied: six>=1.5 in /usr/local/lib/python3.10/dist-packages (from python-dateutil>=2.8.2->pandas<3.0,>=2.1->river) (1.16.0)\n",
            "\u001b[33mWARNING: Ignoring invalid distribution -andas (/usr/local/lib/python3.10/dist-packages)\u001b[0m\u001b[33m\n",
            "\u001b[0mInstalling collected packages: polars, pandas, river\n",
            "  Attempting uninstall: polars\n",
            "    Found existing installation: polars 0.20.2\n",
            "    Uninstalling polars-0.20.2:\n",
            "      Successfully uninstalled polars-0.20.2\n",
            "  Attempting uninstall: pandas\n",
            "    Found existing installation: pandas 2.0.3\n",
            "    Uninstalling pandas-2.0.3:\n",
            "      Successfully uninstalled pandas-2.0.3\n",
            "\u001b[31mERROR: pip's dependency resolver does not currently take into account all the packages that are installed. This behaviour is the source of the following dependency conflicts.\n",
            "cudf-cu12 24.4.1 requires pandas<2.2.2dev0,>=2.0, but you have pandas 2.2.2 which is incompatible.\n",
            "google-colab 1.0.0 requires pandas==2.0.3, but you have pandas 2.2.2 which is incompatible.\u001b[0m\u001b[31m\n",
            "\u001b[0mSuccessfully installed pandas-2.2.2 polars-0.20.31 river-0.21.1\n"
          ]
        }
      ],
      "source": [
        "!pip install river"
      ]
    },
    {
      "cell_type": "code",
      "execution_count": null,
      "metadata": {
        "colab": {
          "base_uri": "https://localhost:8080/"
        },
        "id": "q5_hgoyr9Cfq",
        "outputId": "4a097828-69b9-4494-cf56-879f5711a6a7"
      },
      "outputs": [
        {
          "name": "stdout",
          "output_type": "stream",
          "text": [
            "\u001b[33mWARNING: Ignoring invalid distribution -andas (/usr/local/lib/python3.10/dist-packages)\u001b[0m\u001b[33m\n",
            "\u001b[0mRequirement already satisfied: river in /usr/local/lib/python3.10/dist-packages (0.21.1)\n",
            "Requirement already satisfied: numpy<2.0.0,>=1.23.0 in /usr/local/lib/python3.10/dist-packages (from river) (1.25.2)\n",
            "Requirement already satisfied: pandas<3.0,>=2.1 in /usr/local/lib/python3.10/dist-packages (from river) (2.2.2)\n",
            "Requirement already satisfied: polars<0.21.0,>=0.20.8 in /usr/local/lib/python3.10/dist-packages (from river) (0.20.31)\n",
            "Requirement already satisfied: scipy<2.0.0,>=1.8.1 in /usr/local/lib/python3.10/dist-packages (from river) (1.11.4)\n",
            "Requirement already satisfied: python-dateutil>=2.8.2 in /usr/local/lib/python3.10/dist-packages (from pandas<3.0,>=2.1->river) (2.8.2)\n",
            "Requirement already satisfied: pytz>=2020.1 in /usr/local/lib/python3.10/dist-packages (from pandas<3.0,>=2.1->river) (2023.4)\n",
            "Requirement already satisfied: tzdata>=2022.7 in /usr/local/lib/python3.10/dist-packages (from pandas<3.0,>=2.1->river) (2024.1)\n",
            "Requirement already satisfied: six>=1.5 in /usr/local/lib/python3.10/dist-packages (from python-dateutil>=2.8.2->pandas<3.0,>=2.1->river) (1.16.0)\n",
            "\u001b[33mWARNING: Ignoring invalid distribution -andas (/usr/local/lib/python3.10/dist-packages)\u001b[0m\u001b[33m\n",
            "\u001b[0m"
          ]
        }
      ],
      "source": [
        "!pip install --upgrade river"
      ]
    },
    {
      "cell_type": "code",
      "execution_count": null,
      "metadata": {
        "colab": {
          "base_uri": "https://localhost:8080/"
        },
        "id": "PtjFBF8PJboH",
        "outputId": "c60c3258-a33f-4241-9250-50acb5cf20b8"
      },
      "outputs": [
        {
          "name": "stdout",
          "output_type": "stream",
          "text": [
            "\u001b[33mWARNING: Ignoring invalid distribution -andas (/usr/local/lib/python3.10/dist-packages)\u001b[0m\u001b[33m\n",
            "\u001b[0mRequirement already satisfied: river[extras] in /usr/local/lib/python3.10/dist-packages (0.21.1)\n",
            "\u001b[33mWARNING: river 0.21.1 does not provide the extra 'extras'\u001b[0m\u001b[33m\n",
            "\u001b[0mRequirement already satisfied: numpy<2.0.0,>=1.23.0 in /usr/local/lib/python3.10/dist-packages (from river[extras]) (1.25.2)\n",
            "Requirement already satisfied: pandas<3.0,>=2.1 in /usr/local/lib/python3.10/dist-packages (from river[extras]) (2.2.2)\n",
            "Requirement already satisfied: polars<0.21.0,>=0.20.8 in /usr/local/lib/python3.10/dist-packages (from river[extras]) (0.20.31)\n",
            "Requirement already satisfied: scipy<2.0.0,>=1.8.1 in /usr/local/lib/python3.10/dist-packages (from river[extras]) (1.11.4)\n",
            "Requirement already satisfied: python-dateutil>=2.8.2 in /usr/local/lib/python3.10/dist-packages (from pandas<3.0,>=2.1->river[extras]) (2.8.2)\n",
            "Requirement already satisfied: pytz>=2020.1 in /usr/local/lib/python3.10/dist-packages (from pandas<3.0,>=2.1->river[extras]) (2023.4)\n",
            "Requirement already satisfied: tzdata>=2022.7 in /usr/local/lib/python3.10/dist-packages (from pandas<3.0,>=2.1->river[extras]) (2024.1)\n",
            "Requirement already satisfied: six>=1.5 in /usr/local/lib/python3.10/dist-packages (from python-dateutil>=2.8.2->pandas<3.0,>=2.1->river[extras]) (1.16.0)\n",
            "\u001b[33mWARNING: Ignoring invalid distribution -andas (/usr/local/lib/python3.10/dist-packages)\u001b[0m\u001b[33m\n",
            "\u001b[0m"
          ]
        }
      ],
      "source": [
        "!pip install river[extras]\n"
      ]
    },
    {
      "cell_type": "code",
      "execution_count": null,
      "metadata": {
        "id": "XBZsvhBWT4Cl"
      },
      "outputs": [],
      "source": [
        "from river import drift\n"
      ]
    },
    {
      "cell_type": "code",
      "execution_count": null,
      "metadata": {
        "colab": {
          "base_uri": "https://localhost:8080/"
        },
        "id": "LgR2RNfBWUQa",
        "outputId": "6af43271-9b19-4111-f137-d4a8cf400ea2"
      },
      "outputs": [
        {
          "name": "stdout",
          "output_type": "stream",
          "text": [
            "\u001b[33mWARNING: Ignoring invalid distribution -andas (/usr/local/lib/python3.10/dist-packages)\u001b[0m\u001b[33m\n",
            "\u001b[0mCollecting git+https://github.com/online-ml/river\n",
            "  Cloning https://github.com/online-ml/river to /tmp/pip-req-build-s7o0xmwy\n",
            "  Running command git clone --filter=blob:none --quiet https://github.com/online-ml/river /tmp/pip-req-build-s7o0xmwy\n",
            "  Resolved https://github.com/online-ml/river to commit 6995f1522a9136fd3982890afac5c4a178e4cd57\n",
            "  Installing build dependencies ... \u001b[?25l\u001b[?25hdone\n",
            "  Getting requirements to build wheel ... \u001b[?25l\u001b[?25hdone\n",
            "  Preparing metadata (pyproject.toml) ... \u001b[?25l\u001b[?25hdone\n",
            "Requirement already satisfied: numpy<2.0.0,>=1.23.0 in /usr/local/lib/python3.10/dist-packages (from river==0.21.1) (1.25.2)\n",
            "Requirement already satisfied: pandas<3.0,>=2.1 in /usr/local/lib/python3.10/dist-packages (from river==0.21.1) (2.2.2)\n",
            "Collecting scipy<2.0.0,>=1.12.1 (from river==0.21.1)\n",
            "  Downloading scipy-1.14.0-cp310-cp310-manylinux_2_17_x86_64.manylinux2014_x86_64.whl (41.1 MB)\n",
            "\u001b[2K     \u001b[90m━━━━━━━━━━━━━━━━━━━━━━━━━━━━━━━━━━━━━━━━\u001b[0m \u001b[32m41.1/41.1 MB\u001b[0m \u001b[31m8.3 MB/s\u001b[0m eta \u001b[36m0:00:00\u001b[0m\n",
            "\u001b[?25hRequirement already satisfied: python-dateutil>=2.8.2 in /usr/local/lib/python3.10/dist-packages (from pandas<3.0,>=2.1->river==0.21.1) (2.8.2)\n",
            "Requirement already satisfied: pytz>=2020.1 in /usr/local/lib/python3.10/dist-packages (from pandas<3.0,>=2.1->river==0.21.1) (2023.4)\n",
            "Requirement already satisfied: tzdata>=2022.7 in /usr/local/lib/python3.10/dist-packages (from pandas<3.0,>=2.1->river==0.21.1) (2024.1)\n",
            "Requirement already satisfied: six>=1.5 in /usr/local/lib/python3.10/dist-packages (from python-dateutil>=2.8.2->pandas<3.0,>=2.1->river==0.21.1) (1.16.0)\n",
            "\u001b[33mWARNING: Ignoring invalid distribution -andas (/usr/local/lib/python3.10/dist-packages)\u001b[0m\u001b[33m\n",
            "\u001b[0mInstalling collected packages: scipy\n",
            "  Attempting uninstall: scipy\n",
            "    Found existing installation: scipy 1.11.4\n",
            "    Uninstalling scipy-1.11.4:\n",
            "      Successfully uninstalled scipy-1.11.4\n",
            "Successfully installed scipy-1.14.0\n"
          ]
        }
      ],
      "source": [
        "!pip install git+https://github.com/online-ml/river --upgrade\n"
      ]
    },
    {
      "cell_type": "code",
      "execution_count": null,
      "metadata": {
        "colab": {
          "base_uri": "https://localhost:8080/"
        },
        "id": "TJXRwPlYFias",
        "outputId": "ccbc9ad6-c019-4f8a-9536-f9ef2726b66c"
      },
      "outputs": [
        {
          "name": "stdout",
          "output_type": "stream",
          "text": [
            "\u001b[33mWARNING: Ignoring invalid distribution -andas (/usr/local/lib/python3.10/dist-packages)\u001b[0m\u001b[33m\n",
            "\u001b[0mRequirement already satisfied: river in /usr/local/lib/python3.10/dist-packages (0.21.1)\n",
            "Requirement already satisfied: numpy<2.0.0,>=1.23.0 in /usr/local/lib/python3.10/dist-packages (from river) (1.25.2)\n",
            "Requirement already satisfied: pandas<3.0,>=2.1 in /usr/local/lib/python3.10/dist-packages (from river) (2.2.2)\n",
            "Requirement already satisfied: polars<0.21.0,>=0.20.8 in /usr/local/lib/python3.10/dist-packages (from river) (0.20.31)\n",
            "Requirement already satisfied: scipy<2.0.0,>=1.8.1 in /usr/local/lib/python3.10/dist-packages (from river) (1.14.0)\n",
            "Requirement already satisfied: python-dateutil>=2.8.2 in /usr/local/lib/python3.10/dist-packages (from pandas<3.0,>=2.1->river) (2.8.2)\n",
            "Requirement already satisfied: pytz>=2020.1 in /usr/local/lib/python3.10/dist-packages (from pandas<3.0,>=2.1->river) (2023.4)\n",
            "Requirement already satisfied: tzdata>=2022.7 in /usr/local/lib/python3.10/dist-packages (from pandas<3.0,>=2.1->river) (2024.1)\n",
            "Requirement already satisfied: six>=1.5 in /usr/local/lib/python3.10/dist-packages (from python-dateutil>=2.8.2->pandas<3.0,>=2.1->river) (1.16.0)\n",
            "\u001b[33mWARNING: Ignoring invalid distribution -andas (/usr/local/lib/python3.10/dist-packages)\u001b[0m\u001b[33m\n",
            "\u001b[0m\u001b[33mWARNING: Ignoring invalid distribution -andas (/usr/local/lib/python3.10/dist-packages)\u001b[0m\u001b[33m\n",
            "\u001b[0mCollecting sklearn\n",
            "  Downloading sklearn-0.0.post12.tar.gz (2.6 kB)\n",
            "  \u001b[1;31merror\u001b[0m: \u001b[1msubprocess-exited-with-error\u001b[0m\n",
            "  \n",
            "  \u001b[31m×\u001b[0m \u001b[32mpython setup.py egg_info\u001b[0m did not run successfully.\n",
            "  \u001b[31m│\u001b[0m exit code: \u001b[1;36m1\u001b[0m\n",
            "  \u001b[31m╰─>\u001b[0m See above for output.\n",
            "  \n",
            "  \u001b[1;35mnote\u001b[0m: This error originates from a subprocess, and is likely not a problem with pip.\n",
            "  Preparing metadata (setup.py) ... \u001b[?25l\u001b[?25herror\n",
            "\u001b[1;31merror\u001b[0m: \u001b[1mmetadata-generation-failed\u001b[0m\n",
            "\n",
            "\u001b[31m×\u001b[0m Encountered error while generating package metadata.\n",
            "\u001b[31m╰─>\u001b[0m See above for output.\n",
            "\n",
            "\u001b[1;35mnote\u001b[0m: This is an issue with the package mentioned above, not pip.\n",
            "\u001b[1;36mhint\u001b[0m: See above for details.\n"
          ]
        }
      ],
      "source": [
        "\n",
        "!pip install sklearn"
      ]
    },
    {
      "cell_type": "code",
      "execution_count": null,
      "metadata": {
        "id": "rQEZ4v87g4DR"
      },
      "outputs": [],
      "source": [
        "import pandas as pd\n",
        "from sklearn.model_selection import train_test_split\n",
        "from sklearn.metrics import accuracy_score, precision_score, recall_score, f1_score\n",
        "import matplotlib.pyplot as plt\n",
        "import seaborn as sns\n",
        "from river import tree, metrics, stream\n",
        "from river import ensemble, linear_model\n",
        "from river import neighbors, naive_bayes\n",
        "from river import drift\n",
        "from river import metrics\n",
        "from river import stream\n",
        "from river import tree, neighbors, naive_bayes, ensemble, linear_model\n",
        "from river.drift import ADWIN"
      ]
    },
    {
      "cell_type": "code",
      "execution_count": null,
      "metadata": {
        "id": "_HEunOTZF2la"
      },
      "outputs": [],
      "source": [
        "\n"
      ]
    },
    {
      "cell_type": "code",
      "execution_count": null,
      "metadata": {
        "id": "eBkvjvgOg4DS"
      },
      "outputs": [],
      "source": [
        "def adaptive_learning(model, X_train, y_train, X_test, y_test):\n",
        "    metric = metrics.Accuracy()  # Use accuracy as the metric\n",
        "    i = 0  # count the number of evaluated data points\n",
        "    t = []  # record the number of evaluated data points\n",
        "    m = []  # record the real-time accuracy\n",
        "    yt = []  # record all the true labels of the test set\n",
        "    yp = []  # record all the predicted labels of the test set\n",
        "\n",
        "    # Learn the training set\n",
        "    for xi1, yi1 in stream.iter_pandas(X_train, y_train):\n",
        "        model.learn_one(xi1, yi1)\n",
        "\n",
        "    # Predict the test set\n",
        "    for xi, yi in stream.iter_pandas(X_test, y_test):\n",
        "        y_pred = model.predict_one(xi)  # Predict the test sample\n",
        "        model.learn_one(xi, yi)  # Learn the test sample\n",
        "        metric.update(yi, y_pred)  # Update the real-time accuracy\n",
        "        t.append(i)\n",
        "        m.append(metric.get() * 100)\n",
        "        yt.append(yi)\n",
        "        yp.append(y_pred)\n",
        "        i += 1\n",
        "\n",
        "    print(\"Accuracy: \" + str(round(accuracy_score(yt, yp), 5) * 100) + \"%\")\n",
        "    print(\"Precision: \" + str(round(precision_score(yt, yp), 5) * 100) + \"%\")\n",
        "    print(\"Recall: \" + str(round(recall_score(yt, yp), 5) * 100) + \"%\")\n",
        "    print(\"F1-score: \" + str(round(f1_score(yt, yp), 5) * 100) + \"%\")\n",
        "\n",
        "    return t, m\n"
      ]
    },
    {
      "cell_type": "code",
      "execution_count": null,
      "metadata": {
        "id": "Z_4m1aANk7oo"
      },
      "outputs": [],
      "source": [
        "# Define a figure function that shows the real-time accuracy changes\n",
        "def acc_fig(t, m, name):\n",
        "    plt.rcParams.update({'font.size': 15})\n",
        "    plt.figure(1,figsize=(10,6))\n",
        "    sns.set_style(\"darkgrid\")\n",
        "    plt.clf()\n",
        "    plt.plot(t,m,'-b',label='Avg Accuracy: %.2f%%'%(m[-1]))\n",
        "\n",
        "    plt.legend(loc='best')\n",
        "    plt.title(name+' on CICIDS2017 dataset', fontsize=15)\n",
        "    plt.xlabel('Number of samples')\n",
        "    plt.ylabel('Accuracy (%)')\n",
        "\n",
        "    plt.draw()"
      ]
    },
    {
      "cell_type": "code",
      "execution_count": null,
      "metadata": {
        "id": "CM8D3QDW_bGU"
      },
      "outputs": [],
      "source": [
        "if pd.isnull(X).any().any() or pd.isnull(y).any():\n",
        "    print(\"Missing values detected in data!\")"
      ]
    },
    {
      "cell_type": "code",
      "execution_count": null,
      "metadata": {
        "id": "30Xu4zh8KwWr"
      },
      "outputs": [],
      "source": [
        "from river.metrics import Accuracy"
      ]
    },
    {
      "cell_type": "code",
      "execution_count": null,
      "metadata": {
        "id": "thDZbwttfpVS"
      },
      "outputs": [],
      "source": []
    },
    {
      "cell_type": "code",
      "execution_count": null,
      "metadata": {
        "id": "sDCXrcatK4q7"
      },
      "outputs": [],
      "source": [
        "#metric = metrics.Accuracy()"
      ]
    },
    {
      "cell_type": "code",
      "execution_count": null,
      "metadata": {
        "id": "uXmaO8klj43N"
      },
      "outputs": [],
      "source": []
    },
    {
      "cell_type": "code",
      "execution_count": null,
      "metadata": {
        "colab": {
          "base_uri": "https://localhost:8080/",
          "height": 673
        },
        "id": "t3wbL4KMg4Dh",
        "outputId": "07eff96f-ae64-4007-a2a5-68afc93b51aa"
      },
      "outputs": [
        {
          "name": "stdout",
          "output_type": "stream",
          "text": [
            "Accuracy: 92.145%\n",
            "Precision: 78.723%\n",
            "Recall: 82.575%\n",
            "F1-score: 80.60300000000001%\n",
            "CPU times: user 8.87 s, sys: 112 ms, total: 8.98 s\n",
            "Wall time: 14.9 s\n"
          ]
        },
        {
          "data": {
            "image/png": "[encoded data removed]",
            "text/plain": [
              "<Figure size 1000x600 with 1 Axes>"
            ]
          },
          "metadata": {},
          "output_type": "display_data"
        }
      ],
      "source": [
        "%%time\n",
        "# Use the Hoeffding Tree (HT) model\n",
        "name1 = \"HT model\"\n",
        "model1 = tree.HoeffdingTreeClassifier() # Define the model\n",
        "t, m1 = adaptive_learning(model1, X_train, y_train, X_test, y_test) # Learn the model on the dataset\n",
        "acc_fig(t, m1, name1)"
      ]
    },
    {
      "cell_type": "code",
      "execution_count": null,
      "metadata": {
        "colab": {
          "base_uri": "https://localhost:8080/",
          "height": 673
        },
        "id": "Q5K8qSh2g4Dh",
        "outputId": "c7e827db-6203-4a93-b3f0-de50986ebdee"
      },
      "outputs": [
        {
          "name": "stdout",
          "output_type": "stream",
          "text": [
            "Accuracy: 98.348%\n",
            "Precision: 96.654%\n",
            "Recall: 94.926%\n",
            "F1-score: 95.782%\n",
            "CPU times: user 1min 20s, sys: 705 ms, total: 1min 20s\n",
            "Wall time: 1min 33s\n"
          ]
        },
        {
          "data": {
            "image/png": "[encoded data removed]",
            "text/plain": [
              "<Figure size 1000x600 with 1 Axes>"
            ]
          },
          "metadata": {},
          "output_type": "display_data"
        }
      ],
      "source": [
        "%%time\n",
        "# Use the Leveraging Bagging (LB) model\n",
        "name2 = \"LB model\"\n",
        "model2 = ensemble.LeveragingBaggingClassifier(model=tree.HoeffdingTreeClassifier(),n_models=3) # Define the model\n",
        "t, m2 = adaptive_learning(model2, X_train, y_train, X_test, y_test) # Learn the model on the dataset\n",
        "acc_fig(t, m2, name2) # Draw the figure of how the real-time accuracy changes with the number of samples"
      ]
    },
    {
      "cell_type": "code",
      "execution_count": null,
      "metadata": {
        "id": "8WJoGcUwD9di"
      },
      "outputs": [],
      "source": [
        "from river import ensemble"
      ]
    },
    {
      "cell_type": "code",
      "execution_count": null,
      "metadata": {
        "colab": {
          "base_uri": "https://localhost:8080/"
        },
        "id": "w6tGvvWVEEkI",
        "outputId": "b912a4a2-b13b-4aa4-a8f1-3bf7a50fd560"
      },
      "outputs": [
        {
          "name": "stdout",
          "output_type": "stream",
          "text": [
            "\u001b[33mWARNING: Ignoring invalid distribution -andas (/usr/local/lib/python3.10/dist-packages)\u001b[0m\u001b[33m\n",
            "\u001b[0mRequirement already satisfied: river in /usr/local/lib/python3.10/dist-packages (0.21.1)\n",
            "Requirement already satisfied: numpy<2.0.0,>=1.23.0 in /usr/local/lib/python3.10/dist-packages (from river) (1.25.2)\n",
            "Requirement already satisfied: pandas<3.0,>=2.1 in /usr/local/lib/python3.10/dist-packages (from river) (2.2.2)\n",
            "Requirement already satisfied: polars<0.21.0,>=0.20.8 in /usr/local/lib/python3.10/dist-packages (from river) (0.20.31)\n",
            "Requirement already satisfied: scipy<2.0.0,>=1.8.1 in /usr/local/lib/python3.10/dist-packages (from river) (1.14.0)\n",
            "Requirement already satisfied: python-dateutil>=2.8.2 in /usr/local/lib/python3.10/dist-packages (from pandas<3.0,>=2.1->river) (2.8.2)\n",
            "Requirement already satisfied: pytz>=2020.1 in /usr/local/lib/python3.10/dist-packages (from pandas<3.0,>=2.1->river) (2023.4)\n",
            "Requirement already satisfied: tzdata>=2022.7 in /usr/local/lib/python3.10/dist-packages (from pandas<3.0,>=2.1->river) (2024.1)\n",
            "Requirement already satisfied: six>=1.5 in /usr/local/lib/python3.10/dist-packages (from python-dateutil>=2.8.2->pandas<3.0,>=2.1->river) (1.16.0)\n",
            "\u001b[33mWARNING: Ignoring invalid distribution -andas (/usr/local/lib/python3.10/dist-packages)\u001b[0m\u001b[33m\n",
            "\u001b[0m"
          ]
        }
      ],
      "source": [
        "!pip install --upgrade river"
      ]
    },
    {
      "cell_type": "code",
      "execution_count": null,
      "metadata": {
        "colab": {
          "base_uri": "https://localhost:8080/",
          "height": 662
        },
        "id": "T7T9W_3Ig4Di",
        "outputId": "b1fe0a97-4356-47eb-b3b3-e7f952bb6422"
      },
      "outputs": [
        {
          "name": "stdout",
          "output_type": "stream",
          "text": [
            "Accuracy: 98.854%\n",
            "Precision: 98.101%\n",
            "Recall: 96.06400000000001%\n",
            "F1-score: 97.071%\n",
            "CPU times: user 1min 13s, sys: 1.07 s, total: 1min 14s\n",
            "Wall time: 1min 30s\n"
          ]
        },
        {
          "data": {
            "image/png": "[encoded data removed]",
            "text/plain": [
              "<Figure size 1000x600 with 1 Axes>"
            ]
          },
          "metadata": {},
          "output_type": "display_data"
        }
      ],
      "source": [
        "%%time\n",
        "# Use the Streaming Random Patches (SRP) model with ADWIN drift detector\n",
        "name4 = \"SRP model\"\n",
        "model4 = ensemble.SRPClassifier(n_models = 3) # Define the model\n",
        "t, m4 = adaptive_learning(model4, X_train, y_train, X_test, y_test) # Learn the model on the dataset\n",
        "acc_fig(t, m4, name4) # Draw the figure of how the real-time accuracy changes with the number of samples"
      ]
    },
    {
      "cell_type": "code",
      "execution_count": null,
      "metadata": {
        "colab": {
          "base_uri": "https://localhost:8080/",
          "height": 579
        },
        "id": "wkS5pSObg4Di",
        "outputId": "930153f4-4466-436d-b186-e148eda820d0"
      },
      "outputs": [
        {
          "data": {
            "image/png": "[encoded data removed]",
            "text/plain": [
              "<Figure size 2400x1500 with 1 Axes>"
            ]
          },
          "metadata": {},
          "output_type": "display_data"
        }
      ],
      "source": [
        "# Draw a comprehensive figure to compare the performance of all models\n",
        "plt.rcParams.update({'font.size': 30})\n",
        "plt.figure(1,figsize=(24,15))\n",
        "sns.set_style(\"darkgrid\")\n",
        "plt.clf()\n",
        "\n",
        "# Plot the accuracy change of each learner\n",
        "plt.plot(t,m1,'-b',label=name1+', Avg Accuracy: %.2f%%'%(m1[-1]))\n",
        "plt.plot(t,m2,'-g',label=name2+', Avg Accuracy: %.2f%%'%(m2[-1]))\n",
        "#plt.plot(t,m3,'orange',label=name3+', Avg Accuracy: %.2f%%'%(m3[-1]))\n",
        "plt.plot(t,m4,'black',label=name4+', Avg Accuracy: %.2f%%'%(m4[-1]))\n",
        "\n",
        "# Draw the drift points/time\n",
        "dr = [0,9900,12600, 14200,15800,18800,21600]\n",
        "for i in range(len(dr)):\n",
        "    if i!=0:\n",
        "        plt.text(dr[i]-500, 100.2, 'Drift '+str(i), c = \"red\", fontsize = 25)\n",
        "        plt.vlines(dr[i], 0, 100, colors = \"red\", linewidth=4, linestyles = \"dashed\")\n",
        "\n",
        "plt.legend(loc='lower right')\n",
        "plt.ylim(85, 100.8)\n",
        "plt.title('Online Learning Methods Comparison on CICIDS2017', fontsize=40)\n",
        "plt.xlabel('Number of samples')\n",
        "plt.ylabel('Accuracy (%)')\n",
        "\n",
        "plt.draw()"
      ]
    },
    {
      "cell_type": "markdown",
      "metadata": {
        "id": "0JfCZDyhg4Dj"
      },
      "source": [
        "## Automated Online Learning Model Selection"
      ]
    },
    {
      "cell_type": "markdown",
      "metadata": {
        "id": "a8Te7-uag4Dk"
      },
      "source": [
        "Select the best-performing model among four state-of-the-art online learning models (HT, LB, ARF, and SRP) by evaluating their learning performance"
      ]
    },
    {
      "cell_type": "code",
      "execution_count": null,
      "metadata": {
        "id": "hiZn_ovwg4Dk"
      },
      "outputs": [],
      "source": [
        "# Define a generic adaptive learning function\n",
        "# The argument \"model\" means an online adaptive learning algorithm\n",
        "def adaptive_learning_model_selection(model_list, X_train, y_train, X_test, y_test):\n",
        "    metric = metrics.Accuracy() # Use accuracy as the metric\n",
        "    i = 0 # count the number of evaluated data points\n",
        "    t = [] # record the number of evaluated data points\n",
        "    m = [] # record the real-time accuracy\n",
        "    yt = [] # record all the true labels of the test set\n",
        "    yp = [] # record all the predicted labels of the test set\n",
        "    ypb = [] # record all the predicted labels of the test set for the best performing model\n",
        "    acc_b = 0 # The best accuracy score\n",
        "    mb = [] # record the real-time accuracy of the best performing model\n",
        "\n",
        "    for model in model_list:\n",
        "        # Learn the training set\n",
        "        for xi1, yi1 in stream.iter_pandas(X_train, y_train):\n",
        "            model.learn_one(xi1,yi1)\n",
        "\n",
        "        # Predict the test set\n",
        "        for xi, yi in stream.iter_pandas(X_test, y_test):\n",
        "            y_pred= model.predict_one(xi)  # Predict the test sample\n",
        "            model.learn_one(xi,yi) # Learn the test sample\n",
        "            metric = metric.update(yi, y_pred) # Update the real-time accuracy\n",
        "            t.append(i)\n",
        "            m.append(metric.get()*100)\n",
        "            yt.append(yi)\n",
        "            yp.append(y_pred)\n",
        "            i = i+1\n",
        "#         print(accuracy_score(yt,yp))\n",
        "        if accuracy_score(yt,yp)>acc_b:\n",
        "            acc_b = accuracy_score(yt,yp)\n",
        "            mb = m\n",
        "            ypb = yp\n",
        "            model_b = model\n",
        "\n",
        "    print(model_b)\n",
        "    print(\"Accuracy: \"+str(round(accuracy_score(yt,ypb),5)*100)+\"%\")\n",
        "    print(\"Precision: \"+str(round(precision_score(yt,ypb),5)*100)+\"%\")\n",
        "    print(\"Recall: \"+str(round(recall_score(yt,ypb),5)*100)+\"%\")\n",
        "    print(\"F1-score: \"+str(round(f1_score(yt,ypb),5)*100)+\"%\")\n",
        "    return t, mb"
      ]
    },
    {
      "cell_type": "markdown",
      "metadata": {
        "id": "5FTV4v5eg4Dm"
      },
      "source": [
        "SRP with the highest accuracy is selected as the best/most suitable online learner"
      ]
    },
    {
      "cell_type": "markdown",
      "metadata": {
        "collapsed": true,
        "id": "mHQu49q3g4Dm"
      },
      "source": [
        "# 4. Hyperparameter Optimization\n",
        "Optimize the best performing online learning model (SRP) by tuning its hyperparameters"
      ]
    },
    {
      "cell_type": "code",
      "execution_count": null,
      "metadata": {
        "colab": {
          "base_uri": "https://localhost:8080/",
          "height": 157
        },
        "id": "paU6kBJQg4Dn",
        "outputId": "4cb97567-9317-4322-b55e-beb54c80a02b"
      },
      "outputs": [
        {
          "data": {
            "application/vnd.google.colaboratory.intrinsic+json": {
              "type": "string"
            },
            "text/plain": [
              "'from hyperopt import hp, fmin, tpe, STATUS_OK, Trials\\nfrom sklearn.model_selection import cross_val_score, StratifiedKFold\\n\\n# Define the objective function\\ndef objective(params):\\n    params = {\\n        \\'n_models\\': int(params[\\'n_models\\']),\\n        \\'subspace_size\\': abs(float(params[\\'subspace_size\\'])),\\n    }\\n    clf = ensemble.SRPClassifier( **params)\\n\\n    t, m = adaptive_learning(clf, X_train, y_train, X_test, y_test)\\n\\n    return {\\'loss\\':-m[-1], \\'status\\': STATUS_OK }\\n\\n# Define the hyperparameter configuration space\\nspace = {\\n    \\'n_models\\': hp.quniform(\\'n_models\\', 2, 10, 1),\\n    \"subspace_size\":hp.uniform(\\'subspace_size\\', 0.3, 1),\\n}\\n\\n# Detect the optimal hyperparameter values\\nbest = fmin(fn=objective,\\n            space=space,\\n            algo=tpe.suggest,\\n            max_evals=10)\\nprint(\"SRP: Hyperopt estimated optimum {}\".format(best))'"
            ]
          },
          "execution_count": 124,
          "metadata": {},
          "output_type": "execute_result"
        }
      ],
      "source": [
        "from hyperopt import hp, fmin, tpe, STATUS_OK, Trials\n",
        "from sklearn.model_selection import cross_val_score, StratifiedKFold\n",
        "\n",
        "# Define the objective function\n",
        "def objective(params):\n",
        "    params = {\n",
        "        'n_models': int(params['n_models']),\n",
        "        'subspace_size': abs(float(params['subspace_size'])),\n",
        "    }\n",
        "    clf = ensemble.SRPClassifier( **params)\n",
        "\n",
        "    t, m = adaptive_learning(clf, X_train, y_train, X_test, y_test)\n",
        "\n",
        "    return {'loss':-m[-1], 'status': STATUS_OK }\n",
        "\n",
        "# Define the hyperparameter configuration space\n",
        "space = {\n",
        "    'n_models': hp.quniform('n_models', 2, 10, 1),\n",
        "    \"subspace_size\":hp.uniform('subspace_size', 0.3, 1),\n",
        "}\n",
        "\n",
        "# Detect the optimal hyperparameter values\n",
        "best = fmin(fn=objective,\n",
        "            space=space,\n",
        "            algo=tpe.suggest,\n",
        "            max_evals=10)\n",
        "print(\"SRP: Hyperopt estimated optimum {}\".format(best))"
      ]
    },
    {
      "cell_type": "markdown",
      "metadata": {
        "collapsed": true,
        "id": "XLW43FpWg4Do"
      },
      "source": [
        "After hyperparameter optimization, the accuracy of SRP has been improved from 97.392% to 99.841%"
      ]
    },
    {
      "cell_type": "code",
      "execution_count": null,
      "metadata": {
        "id": "Vs3NNyNU0L_U"
      },
      "outputs": [],
      "source": [
        "import pickle\n",
        "\n",
        "# Save the trained classifier model\n",
        "with open('ids_online_model.pkl', 'wb') as f:\n",
        "    pickle.dump(model4,f)\n",
        "\n",
        "\n"
      ]
    },
    {
      "cell_type": "code",
      "execution_count": null,
      "metadata": {
        "colab": {
          "base_uri": "https://localhost:8080/"
        },
        "id": "U0gLvBhDSzWD",
        "outputId": "1c126022-5096-4988-d33a-5967dc621a0c"
      },
      "outputs": [
        {
          "name": "stdout",
          "output_type": "stream",
          "text": [
            "0\n",
            "Normal\n"
          ]
        }
      ],
      "source": [
        "i=[[0.0003973835088443831,5.9771533737555706e-05,0.001732473811442385,0.01115091957415828,0.005072214580467675,0.0004415370206838141,0.0004415370206838141,0.0,0.0001497370243509836,1.3981516433333333e-05,0.0,0.0]]\n",
        "\n",
        "with open('ids_online_model.pkl', 'rb') as f:\n",
        "    ids_online_model = pickle.load(f)\n",
        "\n",
        "class_labels = [\"Normal\", \"Anamoly\"]\n",
        "\n",
        "predictions = []\n",
        "for instance in i:\n",
        "    instance = np.array(instance)\n",
        "    prediction = ids_online_model.predict_proba_one(instance)\n",
        "    predicted_class = max(prediction, key=prediction.get)\n",
        "    predictions.append(predicted_class)\n",
        "\n",
        "for prediction in predictions:\n",
        "  print(prediction)\n",
        "  class_label = class_labels[prediction]\n",
        "  print(class_label)\n"
      ]
    },
    {
      "cell_type": "code",
      "execution_count": null,
      "metadata": {
        "id": "XQb2bRQHkuOT"
      },
      "outputs": [],
      "source": [
        "import os\n",
        "import time\n",
        "import pickle\n",
        "import smtplib\n",
        "from email.mime.text import MIMEText\n",
        "import pandas as pd\n",
        "import numpy as np\n",
        "import matplotlib.pyplot as plt\n",
        "import seaborn as sns\n",
        "from sklearn.model_selection import train_test_split\n",
        "from sklearn.metrics import classification_report, confusion_matrix, accuracy_score, precision_score, recall_score, f1_score\n",
        "import lightgbm as lgb\n",
        "from sklearn.preprocessing import LabelEncoder, StandardScaler\n",
        "from sklearn.pipeline import Pipeline\n",
        "from sklearn.model_selection import GridSearchCV\n",
        "from scipy.stats import shapiro\n",
        "from imblearn.over_sampling import SMOTE\n",
        "import warnings\n",
        "warnings.filterwarnings('ignore')\n"
      ]
    },
    {
      "cell_type": "code",
      "execution_count": null,
      "metadata": {
        "id": "6izPc-V61Tyr"
      },
      "outputs": [],
      "source": [
        "import pickle\n",
        "import smtplib\n",
        "from email.mime.multipart import MIMEMultipart\n",
        "from email.mime.text import MIMEText\n",
        "\n",
        "# Function to send an email alert\n",
        "def send_email_alert(subject, body, from_addr, to_addr, smtp_server, port, username, password):\n",
        "    msg = MIMEMultipart()\n",
        "    msg['From'] = from_addr\n",
        "    msg['To'] = to_addr\n",
        "    msg['Subject'] = subject\n",
        "    msg.attach(MIMEText(body, 'plain'))\n",
        "\n",
        "    server = smtplib.SMTP(smtp_server, port)\n",
        "    server.starttls()\n",
        "    server.login(username, password)\n",
        "    text = msg.as_string()\n",
        "    server.sendmail(from_addr, to_addr, text)\n",
        "    server.quit()\n",
        "\n",
        "# Load the trained classifier model\n",
        "with open('ids_online_model.pkl', 'rb') as f:\n",
        "    ids_online_model = pickle.load(f)\n",
        "\n",
        "class_labels = [\"Normal\", \"Anamoly\"]\n",
        "\n",
        "# List of instances to predict\n",
        "instances = [\n",
        "    [[0.0003973835088443831, 5.9771533737555706e-05, 0.001732473811442385, 0.01115091957415828, 0.005072214580467675, 0.0004415370206838141, 0.0004415370206838141, 0.0, 0.0001497370243509836, 1.3981516433333333e-05, 0.0, 0.0]],\n",
        "    # Add more instances as needed\n",
        "]\n",
        "\n",
        "predictions = []\n",
        "\n",
        "for instance in instances:\n",
        "    instance = np.array(instance)\n",
        "    prediction = ids_online_model.predict_proba_one(instance)\n",
        "    predicted_class = max(prediction, key=prediction.get)\n",
        "    predictions.append(predicted_class)\n",
        "\n",
        "    # Check if the predicted class indicates an anomaly\n",
        "    if class_labels[predicted_class] == \"Anamoly\":\n",
        "        # Prepare and send an email alert\n",
        "        subject = \"Anomaly Detected\"\n",
        "        body = \"An anomaly has been detected in the system. Please investigate.\"\n",
        "        from_addr = \"deekshu0004@gmail.com\"\n",
        "        to_addr = \"itsyou3004@gmail.com\"\n",
        "        smtp_server = \"smtp.example.com\"\n",
        "        port = 587\n",
        "        username = \"Deekshitha\"\n",
        "        password = \"abcdef\"\n",
        "\n",
        "        send_email_alert(subject, body, from_addr, to_addr, smtp_server, port, username, password)\n",
        "        print(\"Email alert sent for anomaly detection.\")\n"
      ]
    },
    {
      "cell_type": "code",
      "execution_count": null,
      "metadata": {
        "id": "CIJj_Vopxz9i"
      },
      "outputs": [],
      "source": [
        "pip install slack-sdk\n"
      ]
    },
    {
      "cell_type": "code",
      "execution_count": null,
      "metadata": {
        "id": "Y_yuP_LnzYu4"
      },
      "outputs": [],
      "source": [
        "from slack_sdk import WebClient\n",
        "from slack_sdk.errors import SlackApiError\n",
        "\n",
        "def send_slack_alert(text, token, channel_id):\n",
        "    client = WebClient(token=token)\n",
        "    try:\n",
        "        response = client.chat_postMessage(\n",
        "            channel=channel_id,\n",
        "            text=text\n",
        "        )\n",
        "    except SlackApiError as e:\n",
        "        print(f\"Error sending message: {e.response['error']}\")\n",
        "\n",
        "# Example usage\n",
        "text = \"An anomaly has been detected in the system. Please investigate.\"\n",
        "token = \"your_slack_bot_token\"\n",
        "channel_id = \"C12345678\"  # Replace with your channel ID\n",
        "\n",
        "send_slack_alert(text, token, channel_id)\n"
      ]
    },
    {
      "cell_type": "code",
      "execution_count": null,
      "metadata": {
        "id": "b5PcOGBSUieO"
      },
      "outputs": [],
      "source": [
        "def send_alert(subject, message):\n",
        "    sender_email = \"gmeghana0408@gmail.com\"\n",
        "    receiver_email = \"deekshu0004@gmail.com\"\n",
        "    password = \"abcdef\"\n",
        "\n",
        "    msg = MIMEText(message)\n",
        "    msg['Subject'] = subject\n",
        "    msg['From'] = sender_email\n",
        "    msg['To'] = receiver_email\n",
        "\n",
        "    try:\n",
        "        server = smtplib.SMTP('smtp.gmail.com', 587)  # Replace with your SMTP server details\n",
        "        server.starttls()\n",
        "        server.login(sender_email, password)\n",
        "        server.sendmail(sender_email, receiver_email, msg.as_string())\n",
        "        server.quit()\n",
        "        print(\"Email sent!\")\n",
        "    except Exception as e:\n",
        "        print(f\"Failed to send email: {e}\")\n"
      ]
    },
    {
      "cell_type": "code",
      "execution_count": null,
      "metadata": {
        "id": "s7Fx_mIXUmgZ"
      },
      "outputs": [],
      "source": [
        "with open('/content/ids_online_model.pkl', 'rb') as f:\n",
        "    ids_online_model = pickle.load(f)\n",
        "\n",
        "df = pd.read_csv(\"/content/cic_0.01km.csv\")\n",
        "df.columns=['Flow Duration', 'Total Length of Fwd Packets', 'Fwd Packet Length Max',\n",
        "       'Fwd Packet Length Mean', 'Bwd Packet Length Max',\n",
        "       'Bwd Packet Length Min', 'Flow IAT Mean', 'Flow IAT Min', 'Fwd IAT Min',\n",
        "       'Fwd Header Length', 'Bwd Header Length', 'Fwd Packets/s',\n",
        "       'Bwd Packets/s', 'Min Packet Length', 'URG Flag Count', 'Down/Up Ratio',\n",
        "       'Init_Win_bytes_forward', 'Init_Win_bytes_backward',\n",
        "       'min_seg_size_forward', 'Label']\n",
        "\n",
        "def Auto_Encoding(df):\n",
        "    cat_features = [x for x in df.columns if df[x].dtype == \"object\"]\n",
        "    le = LabelEncoder()\n",
        "    for col in cat_features:\n",
        "        if col in df.columns:\n",
        "            i = df.columns.get_loc(col)\n",
        "            df.iloc[:, i] = df.apply(lambda i: le.fit_transform(i.astype(str)), axis=0, result_type='expand')\n",
        "    return df\n",
        "\n",
        "def Auto_Imputation(df):\n",
        "    if df.isnull().values.any() or np.isinf(df).values.any():\n",
        "        df.replace([np.inf, -np.inf], np.nan, inplace=True)\n",
        "        df.fillna(0, inplace=True)\n",
        "    return df\n",
        "\n",
        "df = Auto_Encoding(df)\n",
        "df = Auto_Imputation(df)\n"
      ]
    },
    {
      "cell_type": "code",
      "execution_count": null,
      "metadata": {
        "colab": {
          "background_save": true,
          "base_uri": "https://localhost:8080/"
        },
        "id": "9Hhq10jvUobU",
        "outputId": "60c63ee2-6f39-4a9b-a127-268e680b2b9b"
      },
      "outputs": [
        {
          "name": "stdout",
          "output_type": "stream",
          "text": [
            "Directory /content/data/new_data created.\n"
          ]
        }
      ],
      "source": [
        "# Function to preprocess new data and make predictions\n",
        "def process_and_predict(new_data):\n",
        "    predictions = []\n",
        "    for _, row in new_data.iterrows():\n",
        "        # Convert the row to a dictionary format expected by predict_one or predict_proba_one\n",
        "        row_dict = row.to_dict()\n",
        "        prediction = ids_online_model.predict_one(row_dict)  # Use predict_one\n",
        "        predictions.append(prediction)\n",
        "    return predictions\n",
        "\n",
        "\n",
        "import os\n",
        "\n",
        "# Specify your desired directory path\n",
        "watch_dir = '/content/data/new_data'\n",
        "\n",
        "# Check if watch_dir exists, create it if not\n",
        "if not os.path.exists(watch_dir):\n",
        "    os.makedirs(watch_dir)\n",
        "    print(f\"Directory {watch_dir} created.\")\n",
        "\n",
        "# Now you can proceed with the main script logic\n",
        "while True:\n",
        "    #time.sleep(60)  # Check for new data every 60 seconds\n",
        "\n",
        "    files = os.listdir(watch_dir)\n",
        "\n",
        "    for file in files:\n",
        "        if file.endswith('.csv'):\n",
        "            file_path = os.path.join(watch_dir, file)\n",
        "            new_data = pd.read_csv(\"output_data.csv\")\n",
        "            new_data = Auto_Encoding(new_data)\n",
        "            new_data = Auto_Imputation(new_data)\n",
        "\n",
        "            prediction = process_and_predict(new_data)\n",
        "\n",
        "            if 1 in prediction:  # Assuming 1 represents an anomaly\n",
        "                subject = \"Anomaly Detected!\"\n",
        "                message = f\"An anomaly has been detected in the file: {file}\"\n",
        "                send_alert(subject, message)\n",
        "\n",
        "                # Optionally, delete the processed file after sending the alert\n",
        "                os.remove(file_path)\n"
      ]
    }
  ],
  "metadata": {
    "anaconda-cloud": {},
    "colab": {
      "provenance": [],
      "include_colab_link": true
    },
    "kernelspec": {
      "display_name": "Python 3",
      "language": "python",
      "name": "python3"
    },
    "language_info": {
      "codemirror_mode": {
        "name": "ipython",
        "version": 3
      },
      "file_extension": ".py",
      "mimetype": "text/x-python",
      "name": "python",
      "nbconvert_exporter": "python",
      "pygments_lexer": "ipython3",
      "version": "3.6.8"
    }
  },
  "nbformat": 4,
  "nbformat_minor": 0
}